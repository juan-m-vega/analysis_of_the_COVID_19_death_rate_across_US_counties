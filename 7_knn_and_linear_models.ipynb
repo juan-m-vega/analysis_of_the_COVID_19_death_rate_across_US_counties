{
 "cells": [
  {
   "cell_type": "markdown",
   "metadata": {},
   "source": [
    "### Linear and KNN models"
   ]
  },
  {
   "cell_type": "markdown",
   "metadata": {},
   "source": [
    "In this notebook I will be creating a knn classification model as well as a linear regression model from our merged datasets. "
   ]
  },
  {
   "cell_type": "code",
   "execution_count": 1,
   "metadata": {
    "ExecuteTime": {
     "end_time": "2022-05-17T23:27:19.626643Z",
     "start_time": "2022-05-17T23:27:17.350225Z"
    }
   },
   "outputs": [],
   "source": [
    "import numpy as np\n",
    "import pandas as pd\n",
    "import matplotlib.pyplot as plt\n",
    "import seaborn as sns\n",
    "from sklearn.preprocessing import StandardScaler\n",
    "from sklearn.linear_model import LinearRegression, LogisticRegression\n",
    "from sklearn.neighbors import KNeighborsClassifier\n",
    "from sklearn.pipeline import Pipeline\n",
    "from sklearn.model_selection import train_test_split, cross_val_score, GridSearchCV, KFold"
   ]
  },
  {
   "cell_type": "code",
   "execution_count": 2,
   "metadata": {
    "ExecuteTime": {
     "end_time": "2022-05-17T23:27:19.677017Z",
     "start_time": "2022-05-17T23:27:19.629394Z"
    }
   },
   "outputs": [],
   "source": [
    "df = pd.read_csv(\"data/merged_dataset.csv\")"
   ]
  },
  {
   "cell_type": "code",
   "execution_count": 3,
   "metadata": {
    "ExecuteTime": {
     "end_time": "2022-05-17T23:27:19.689605Z",
     "start_time": "2022-05-17T23:27:19.680196Z"
    }
   },
   "outputs": [
    {
     "data": {
      "text/plain": [
       "(3133, 54)"
      ]
     },
     "execution_count": 3,
     "metadata": {},
     "output_type": "execute_result"
    }
   ],
   "source": [
    "df.shape"
   ]
  },
  {
   "cell_type": "markdown",
   "metadata": {},
   "source": [
    "Since many datasets were used to create the merged dataframe there will be quite a few missing values that we will have to deal with. "
   ]
  },
  {
   "cell_type": "code",
   "execution_count": 4,
   "metadata": {
    "ExecuteTime": {
     "end_time": "2022-05-17T23:27:19.703957Z",
     "start_time": "2022-05-17T23:27:19.693901Z"
    }
   },
   "outputs": [
    {
     "data": {
      "text/plain": [
       "county                                                           0\n",
       "county_fips_code                                                 0\n",
       "cases                                                            0\n",
       "deaths                                                           0\n",
       "stname                                                           0\n",
       "ctyname                                                          0\n",
       "tot_pop                                                          0\n",
       "deaths_per_hun_thou                                              0\n",
       "cnty_name                                                        1\n",
       "unemployment_rate                                                1\n",
       "med_cases_per_100k_change                                        0\n",
       "med_per_test_results_positive                                   18\n",
       "transmission_level_high                                          0\n",
       "transmission_level_low                                           0\n",
       "transmission_level_moderate                                      0\n",
       "transmission_level_substantial                                   0\n",
       "state                                                            1\n",
       "InBedsOccAnyPat__Numbeds_Est                                     1\n",
       "InBedsOccCOVID__Numbeds_Est                                      1\n",
       "ICUBedsOccAnyPat__N_ICUBeds_Est                                  1\n",
       "cases_per_10k                                                    0\n",
       "high_transmission                                                0\n",
       "mask_never                                                       0\n",
       "mask_rarely                                                      0\n",
       "mask_sometimes                                                   0\n",
       "mask_frequently                                                  0\n",
       "mask_always                                                      0\n",
       "good_masking_practices                                           0\n",
       "biden_votes                                                     25\n",
       "trump_votes                                                     25\n",
       "total_votes                                                     26\n",
       "land_area_sqmi                                                   0\n",
       "population_density                                               0\n",
       "total_beds_7_day_sum                                           702\n",
       "inpatient_beds_used_7_day_sum                                  702\n",
       "inpatient_beds_used_covid_7_day_sum                            702\n",
       "inpatient_beds_7_day_sum                                       702\n",
       "total_icu_beds_7_day_sum                                       702\n",
       "total_staffed_adult_icu_beds_7_day_sum                         702\n",
       "icu_beds_used_7_day_sum                                        702\n",
       "staffed_icu_adult_patients_confirmed_covid_7_day_sum           702\n",
       "total_adult_patients_hospitalized_confirmed_covid_7_day_sum    702\n",
       "county_vac_pct                                                   1\n",
       "SVI__A                                                           1\n",
       "SVI__B                                                           1\n",
       "SVI__C                                                           1\n",
       "SVI__D                                                           1\n",
       "tot_male                                                         0\n",
       "tot_female                                                       0\n",
       "tot_wa_pop                                                       0\n",
       "tot_ba_pop                                                       0\n",
       "tot_aa_pop                                                       0\n",
       "tot_na_pop                                                       0\n",
       "minority_group_total                                             0\n",
       "dtype: int64"
      ]
     },
     "execution_count": 4,
     "metadata": {},
     "output_type": "execute_result"
    }
   ],
   "source": [
    "df.isnull().sum()"
   ]
  },
  {
   "cell_type": "markdown",
   "metadata": {},
   "source": [
    "For the columns pertaining to beds and \"pct\" I will be dropping them. I don't feel that there is a reasonable way to impute these nulls. The columns pertaining to voting are all missing roughly the same rows which probably means that there was no data to collect in those counties. The remaining nulls will be dropped as they are less than 5 percent of the data.  I am also dropping all duplicate columns. Lastly the columns for county, state, and county_fips_code will be dropped as they are identifying columns and will not contribute to our modeling. "
   ]
  },
  {
   "cell_type": "code",
   "execution_count": 5,
   "metadata": {
    "ExecuteTime": {
     "end_time": "2022-05-17T23:27:19.717073Z",
     "start_time": "2022-05-17T23:27:19.706293Z"
    }
   },
   "outputs": [],
   "source": [
    "# Dropping columns that I won't be using \n",
    "df.drop(columns=['total_beds_7_day_sum', 'cnty_name',\n",
    "                'ctyname', 'stname', 'state', 'county', 'county_fips_code'], inplace=True)\n",
    "                "
   ]
  },
  {
   "cell_type": "code",
   "execution_count": 6,
   "metadata": {
    "ExecuteTime": {
     "end_time": "2022-05-17T23:27:19.739195Z",
     "start_time": "2022-05-17T23:27:19.726770Z"
    }
   },
   "outputs": [],
   "source": [
    "# Dropping remaining nulls \n",
    "df.dropna(inplace=True)"
   ]
  },
  {
   "cell_type": "code",
   "execution_count": 7,
   "metadata": {
    "ExecuteTime": {
     "end_time": "2022-05-17T23:27:19.754710Z",
     "start_time": "2022-05-17T23:27:19.746009Z"
    }
   },
   "outputs": [
    {
     "data": {
      "text/plain": [
       "(2410, 47)"
      ]
     },
     "execution_count": 7,
     "metadata": {},
     "output_type": "execute_result"
    }
   ],
   "source": [
    "df.shape"
   ]
  },
  {
   "cell_type": "markdown",
   "metadata": {},
   "source": [
    "Looking at the chart below there does not appear to be much correlation between our target variable and a lot of our features.  "
   ]
  },
  {
   "cell_type": "code",
   "execution_count": 8,
   "metadata": {
    "ExecuteTime": {
     "end_time": "2022-05-17T23:27:20.592524Z",
     "start_time": "2022-05-17T23:27:19.763312Z"
    }
   },
   "outputs": [
    {
     "data": {
      "image/png": "[encoded data removed]",
      "text/plain": [
       "<Figure size 360x864 with 2 Axes>"
      ]
     },
     "metadata": {
      "needs_background": "light"
     },
     "output_type": "display_data"
    }
   ],
   "source": [
    "# Creates correlation matrix for plot\n",
    "corr_matrix = df.corr()\n",
    "\n",
    "# Plots correlation of features\n",
    "plt.figure(figsize=(5, 12))\n",
    "ax = sns.heatmap(corr_matrix[['deaths_per_hun_thou']]\n",
    "                 .sort_values(by='deaths_per_hun_thou', ascending=False),\n",
    "         annot = True,\n",
    "         vmin = -1,\n",
    "         vmax = 1,\n",
    "         cmap = 'winter'\n",
    "                \n",
    "                 );"
   ]
  },
  {
   "cell_type": "markdown",
   "metadata": {},
   "source": [
    "## Modeling "
   ]
  },
  {
   "cell_type": "markdown",
   "metadata": {},
   "source": [
    "For my predictions on which counties will need the most help with covid I will be using deaths_per_hun_thou as my y variable. "
   ]
  },
  {
   "cell_type": "markdown",
   "metadata": {},
   "source": [
    "### Linear Model"
   ]
  },
  {
   "cell_type": "markdown",
   "metadata": {},
   "source": [
    "As there is a poor correlation between the feature deaths_per_hun_thou and the rest of our features it does not seem that a linear model is a good fit for our problem statement."
   ]
  },
  {
   "cell_type": "code",
   "execution_count": 9,
   "metadata": {
    "ExecuteTime": {
     "end_time": "2022-05-17T23:27:20.605855Z",
     "start_time": "2022-05-17T23:27:20.597744Z"
    }
   },
   "outputs": [
    {
     "data": {
      "text/plain": [
       "315.6987377224647"
      ]
     },
     "execution_count": 9,
     "metadata": {},
     "output_type": "execute_result"
    }
   ],
   "source": [
    "# baseline score \n",
    "df['deaths_per_hun_thou'].mean()"
   ]
  },
  {
   "cell_type": "code",
   "execution_count": 10,
   "metadata": {
    "ExecuteTime": {
     "end_time": "2022-05-17T23:27:20.855712Z",
     "start_time": "2022-05-17T23:27:20.610301Z"
    }
   },
   "outputs": [],
   "source": [
    "# Creates X variable with all columns but deaths_per_hun_thou\n",
    "X = df[[col for col in df if col not in \"deaths_per_hun_thou\"]]\n",
    "\n",
    "# Creates target variable\n",
    "y = df['deaths_per_hun_thou']\n",
    "\n",
    "# Instantiating linear regression\n",
    "linreg = LinearRegression()\n",
    "\n",
    "\n",
    "\n",
    "\n",
    "# setting cross_val_score\n",
    "scores = cross_val_score(linreg,\n",
    "                         X,\n",
    "                         y,\n",
    "                         cv=KFold(n_splits=5,\n",
    "                                  shuffle=True,\n",
    "                                  random_state=73))\n",
    "\n",
    "                                                    "
   ]
  },
  {
   "cell_type": "code",
   "execution_count": 11,
   "metadata": {
    "ExecuteTime": {
     "end_time": "2022-05-17T23:27:20.863720Z",
     "start_time": "2022-05-17T23:27:20.857707Z"
    }
   },
   "outputs": [
    {
     "data": {
      "text/plain": [
       "0.3221382213719079"
      ]
     },
     "execution_count": 11,
     "metadata": {},
     "output_type": "execute_result"
    }
   ],
   "source": [
    "scores.mean()"
   ]
  },
  {
   "cell_type": "markdown",
   "metadata": {},
   "source": [
    "### KNN model"
   ]
  },
  {
   "cell_type": "markdown",
   "metadata": {},
   "source": [
    "To use our classification model we will need to turn our deaths_per_hun_thou into a binary column. I have chosen to make this column a 1 for counties that are above the 75th percentile of deaths_per_hun_thou and a zero for those that are below. "
   ]
  },
  {
   "cell_type": "code",
   "execution_count": 12,
   "metadata": {
    "ExecuteTime": {
     "end_time": "2022-05-17T23:27:20.981182Z",
     "start_time": "2022-05-17T23:27:20.865926Z"
    }
   },
   "outputs": [
    {
     "data": {
      "text/html": [
       "<div>\n",
       "<style scoped>\n",
       "    .dataframe tbody tr th:only-of-type {\n",
       "        vertical-align: middle;\n",
       "    }\n",
       "\n",
       "    .dataframe tbody tr th {\n",
       "        vertical-align: top;\n",
       "    }\n",
       "\n",
       "    .dataframe thead th {\n",
       "        text-align: right;\n",
       "    }\n",
       "</style>\n",
       "<table border=\"1\" class=\"dataframe\">\n",
       "  <thead>\n",
       "    <tr style=\"text-align: right;\">\n",
       "      <th></th>\n",
       "      <th>cases</th>\n",
       "      <th>deaths</th>\n",
       "      <th>tot_pop</th>\n",
       "      <th>deaths_per_hun_thou</th>\n",
       "      <th>unemployment_rate</th>\n",
       "      <th>med_cases_per_100k_change</th>\n",
       "      <th>med_per_test_results_positive</th>\n",
       "      <th>transmission_level_high</th>\n",
       "      <th>transmission_level_low</th>\n",
       "      <th>transmission_level_moderate</th>\n",
       "      <th>...</th>\n",
       "      <th>SVI__B</th>\n",
       "      <th>SVI__C</th>\n",
       "      <th>SVI__D</th>\n",
       "      <th>tot_male</th>\n",
       "      <th>tot_female</th>\n",
       "      <th>tot_wa_pop</th>\n",
       "      <th>tot_ba_pop</th>\n",
       "      <th>tot_aa_pop</th>\n",
       "      <th>tot_na_pop</th>\n",
       "      <th>minority_group_total</th>\n",
       "    </tr>\n",
       "  </thead>\n",
       "  <tbody>\n",
       "    <tr>\n",
       "      <th>count</th>\n",
       "      <td>2.410000e+03</td>\n",
       "      <td>2410.000000</td>\n",
       "      <td>2.410000e+03</td>\n",
       "      <td>2410.000000</td>\n",
       "      <td>2410.000000</td>\n",
       "      <td>2410.000000</td>\n",
       "      <td>2410.000000</td>\n",
       "      <td>2410.000000</td>\n",
       "      <td>2410.000000</td>\n",
       "      <td>2410.000000</td>\n",
       "      <td>...</td>\n",
       "      <td>2410.000000</td>\n",
       "      <td>2410.000000</td>\n",
       "      <td>2410.000000</td>\n",
       "      <td>2.410000e+03</td>\n",
       "      <td>2.410000e+03</td>\n",
       "      <td>2.410000e+03</td>\n",
       "      <td>2.410000e+03</td>\n",
       "      <td>2.410000e+03</td>\n",
       "      <td>2410.000000</td>\n",
       "      <td>2.410000e+03</td>\n",
       "    </tr>\n",
       "    <tr>\n",
       "      <th>mean</th>\n",
       "      <td>2.560172e+04</td>\n",
       "      <td>319.068050</td>\n",
       "      <td>1.271117e+05</td>\n",
       "      <td>315.698738</td>\n",
       "      <td>6.777261</td>\n",
       "      <td>131.945477</td>\n",
       "      <td>8.134239</td>\n",
       "      <td>0.536414</td>\n",
       "      <td>0.154879</td>\n",
       "      <td>0.169130</td>\n",
       "      <td>...</td>\n",
       "      <td>0.257261</td>\n",
       "      <td>0.248963</td>\n",
       "      <td>0.251452</td>\n",
       "      <td>6.260772e+04</td>\n",
       "      <td>6.450394e+04</td>\n",
       "      <td>9.755708e+04</td>\n",
       "      <td>1.667183e+04</td>\n",
       "      <td>7.441929e+03</td>\n",
       "      <td>318.488382</td>\n",
       "      <td>1.667183e+04</td>\n",
       "    </tr>\n",
       "    <tr>\n",
       "      <th>std</th>\n",
       "      <td>7.910304e+04</td>\n",
       "      <td>944.739841</td>\n",
       "      <td>3.681328e+05</td>\n",
       "      <td>137.132044</td>\n",
       "      <td>2.190636</td>\n",
       "      <td>55.160933</td>\n",
       "      <td>3.674113</td>\n",
       "      <td>0.076747</td>\n",
       "      <td>0.079720</td>\n",
       "      <td>0.054944</td>\n",
       "      <td>...</td>\n",
       "      <td>0.437215</td>\n",
       "      <td>0.432502</td>\n",
       "      <td>0.433938</td>\n",
       "      <td>1.811625e+05</td>\n",
       "      <td>1.870059e+05</td>\n",
       "      <td>2.642657e+05</td>\n",
       "      <td>6.216774e+04</td>\n",
       "      <td>4.793623e+04</td>\n",
       "      <td>2478.573489</td>\n",
       "      <td>6.216774e+04</td>\n",
       "    </tr>\n",
       "    <tr>\n",
       "      <th>min</th>\n",
       "      <td>1.630000e+02</td>\n",
       "      <td>0.000000</td>\n",
       "      <td>1.077000e+03</td>\n",
       "      <td>0.000000</td>\n",
       "      <td>1.700000</td>\n",
       "      <td>0.000000</td>\n",
       "      <td>0.000000</td>\n",
       "      <td>0.169231</td>\n",
       "      <td>0.046154</td>\n",
       "      <td>0.000000</td>\n",
       "      <td>...</td>\n",
       "      <td>0.000000</td>\n",
       "      <td>0.000000</td>\n",
       "      <td>0.000000</td>\n",
       "      <td>5.440000e+02</td>\n",
       "      <td>5.330000e+02</td>\n",
       "      <td>9.330000e+02</td>\n",
       "      <td>2.000000e+00</td>\n",
       "      <td>0.000000e+00</td>\n",
       "      <td>0.000000</td>\n",
       "      <td>2.000000e+00</td>\n",
       "    </tr>\n",
       "    <tr>\n",
       "      <th>25%</th>\n",
       "      <td>3.121250e+03</td>\n",
       "      <td>48.000000</td>\n",
       "      <td>1.556125e+04</td>\n",
       "      <td>220.265358</td>\n",
       "      <td>5.300000</td>\n",
       "      <td>103.014500</td>\n",
       "      <td>5.810000</td>\n",
       "      <td>0.487574</td>\n",
       "      <td>0.095858</td>\n",
       "      <td>0.132544</td>\n",
       "      <td>...</td>\n",
       "      <td>0.000000</td>\n",
       "      <td>0.000000</td>\n",
       "      <td>0.000000</td>\n",
       "      <td>7.823500e+03</td>\n",
       "      <td>7.679000e+03</td>\n",
       "      <td>1.263500e+04</td>\n",
       "      <td>2.140000e+02</td>\n",
       "      <td>8.900000e+01</td>\n",
       "      <td>7.250000</td>\n",
       "      <td>2.140000e+02</td>\n",
       "    </tr>\n",
       "    <tr>\n",
       "      <th>50%</th>\n",
       "      <td>7.279500e+03</td>\n",
       "      <td>111.500000</td>\n",
       "      <td>3.555900e+04</td>\n",
       "      <td>305.913229</td>\n",
       "      <td>6.600000</td>\n",
       "      <td>131.191250</td>\n",
       "      <td>7.757500</td>\n",
       "      <td>0.534911</td>\n",
       "      <td>0.139645</td>\n",
       "      <td>0.168047</td>\n",
       "      <td>...</td>\n",
       "      <td>0.000000</td>\n",
       "      <td>0.000000</td>\n",
       "      <td>0.000000</td>\n",
       "      <td>1.765450e+04</td>\n",
       "      <td>1.766250e+04</td>\n",
       "      <td>3.056350e+04</td>\n",
       "      <td>1.289500e+03</td>\n",
       "      <td>2.730000e+02</td>\n",
       "      <td>24.000000</td>\n",
       "      <td>1.289500e+03</td>\n",
       "    </tr>\n",
       "    <tr>\n",
       "      <th>75%</th>\n",
       "      <td>1.914350e+04</td>\n",
       "      <td>255.750000</td>\n",
       "      <td>9.729350e+04</td>\n",
       "      <td>400.100799</td>\n",
       "      <td>8.100000</td>\n",
       "      <td>166.340375</td>\n",
       "      <td>9.760000</td>\n",
       "      <td>0.583432</td>\n",
       "      <td>0.192899</td>\n",
       "      <td>0.204734</td>\n",
       "      <td>...</td>\n",
       "      <td>1.000000</td>\n",
       "      <td>0.000000</td>\n",
       "      <td>1.000000</td>\n",
       "      <td>4.785800e+04</td>\n",
       "      <td>4.907950e+04</td>\n",
       "      <td>8.031050e+04</td>\n",
       "      <td>8.499000e+03</td>\n",
       "      <td>1.392250e+03</td>\n",
       "      <td>103.750000</td>\n",
       "      <td>8.499000e+03</td>\n",
       "    </tr>\n",
       "    <tr>\n",
       "      <th>max</th>\n",
       "      <td>2.312272e+06</td>\n",
       "      <td>28122.000000</td>\n",
       "      <td>1.003911e+07</td>\n",
       "      <td>1102.883252</td>\n",
       "      <td>22.500000</td>\n",
       "      <td>330.865000</td>\n",
       "      <td>43.875000</td>\n",
       "      <td>0.822485</td>\n",
       "      <td>0.581065</td>\n",
       "      <td>0.360947</td>\n",
       "      <td>...</td>\n",
       "      <td>1.000000</td>\n",
       "      <td>1.000000</td>\n",
       "      <td>1.000000</td>\n",
       "      <td>4.949041e+06</td>\n",
       "      <td>5.090066e+06</td>\n",
       "      <td>7.098309e+06</td>\n",
       "      <td>1.226489e+06</td>\n",
       "      <td>1.545445e+06</td>\n",
       "      <td>93325.000000</td>\n",
       "      <td>1.226489e+06</td>\n",
       "    </tr>\n",
       "  </tbody>\n",
       "</table>\n",
       "<p>8 rows × 47 columns</p>\n",
       "</div>"
      ],
      "text/plain": [
       "              cases        deaths       tot_pop  deaths_per_hun_thou  \\\n",
       "count  2.410000e+03   2410.000000  2.410000e+03          2410.000000   \n",
       "mean   2.560172e+04    319.068050  1.271117e+05           315.698738   \n",
       "std    7.910304e+04    944.739841  3.681328e+05           137.132044   \n",
       "min    1.630000e+02      0.000000  1.077000e+03             0.000000   \n",
       "25%    3.121250e+03     48.000000  1.556125e+04           220.265358   \n",
       "50%    7.279500e+03    111.500000  3.555900e+04           305.913229   \n",
       "75%    1.914350e+04    255.750000  9.729350e+04           400.100799   \n",
       "max    2.312272e+06  28122.000000  1.003911e+07          1102.883252   \n",
       "\n",
       "       unemployment_rate  med_cases_per_100k_change  \\\n",
       "count        2410.000000                2410.000000   \n",
       "mean            6.777261                 131.945477   \n",
       "std             2.190636                  55.160933   \n",
       "min             1.700000                   0.000000   \n",
       "25%             5.300000                 103.014500   \n",
       "50%             6.600000                 131.191250   \n",
       "75%             8.100000                 166.340375   \n",
       "max            22.500000                 330.865000   \n",
       "\n",
       "       med_per_test_results_positive  transmission_level_high  \\\n",
       "count                    2410.000000              2410.000000   \n",
       "mean                        8.134239                 0.536414   \n",
       "std                         3.674113                 0.076747   \n",
       "min                         0.000000                 0.169231   \n",
       "25%                         5.810000                 0.487574   \n",
       "50%                         7.757500                 0.534911   \n",
       "75%                         9.760000                 0.583432   \n",
       "max                        43.875000                 0.822485   \n",
       "\n",
       "       transmission_level_low  transmission_level_moderate  ...       SVI__B  \\\n",
       "count             2410.000000                  2410.000000  ...  2410.000000   \n",
       "mean                 0.154879                     0.169130  ...     0.257261   \n",
       "std                  0.079720                     0.054944  ...     0.437215   \n",
       "min                  0.046154                     0.000000  ...     0.000000   \n",
       "25%                  0.095858                     0.132544  ...     0.000000   \n",
       "50%                  0.139645                     0.168047  ...     0.000000   \n",
       "75%                  0.192899                     0.204734  ...     1.000000   \n",
       "max                  0.581065                     0.360947  ...     1.000000   \n",
       "\n",
       "            SVI__C       SVI__D      tot_male    tot_female    tot_wa_pop  \\\n",
       "count  2410.000000  2410.000000  2.410000e+03  2.410000e+03  2.410000e+03   \n",
       "mean      0.248963     0.251452  6.260772e+04  6.450394e+04  9.755708e+04   \n",
       "std       0.432502     0.433938  1.811625e+05  1.870059e+05  2.642657e+05   \n",
       "min       0.000000     0.000000  5.440000e+02  5.330000e+02  9.330000e+02   \n",
       "25%       0.000000     0.000000  7.823500e+03  7.679000e+03  1.263500e+04   \n",
       "50%       0.000000     0.000000  1.765450e+04  1.766250e+04  3.056350e+04   \n",
       "75%       0.000000     1.000000  4.785800e+04  4.907950e+04  8.031050e+04   \n",
       "max       1.000000     1.000000  4.949041e+06  5.090066e+06  7.098309e+06   \n",
       "\n",
       "         tot_ba_pop    tot_aa_pop    tot_na_pop  minority_group_total  \n",
       "count  2.410000e+03  2.410000e+03   2410.000000          2.410000e+03  \n",
       "mean   1.667183e+04  7.441929e+03    318.488382          1.667183e+04  \n",
       "std    6.216774e+04  4.793623e+04   2478.573489          6.216774e+04  \n",
       "min    2.000000e+00  0.000000e+00      0.000000          2.000000e+00  \n",
       "25%    2.140000e+02  8.900000e+01      7.250000          2.140000e+02  \n",
       "50%    1.289500e+03  2.730000e+02     24.000000          1.289500e+03  \n",
       "75%    8.499000e+03  1.392250e+03    103.750000          8.499000e+03  \n",
       "max    1.226489e+06  1.545445e+06  93325.000000          1.226489e+06  \n",
       "\n",
       "[8 rows x 47 columns]"
      ]
     },
     "execution_count": 12,
     "metadata": {},
     "output_type": "execute_result"
    }
   ],
   "source": [
    "df.describe()"
   ]
  },
  {
   "cell_type": "code",
   "execution_count": 13,
   "metadata": {
    "ExecuteTime": {
     "end_time": "2022-05-17T23:27:20.989957Z",
     "start_time": "2022-05-17T23:27:20.983649Z"
    }
   },
   "outputs": [],
   "source": [
    "# Creates binary column\n",
    "df.deaths_per_hun_thou = np.where(df['deaths_per_hun_thou'] >= 405, 1, 0)"
   ]
  },
  {
   "cell_type": "code",
   "execution_count": 14,
   "metadata": {
    "ExecuteTime": {
     "end_time": "2022-05-17T23:27:20.998571Z",
     "start_time": "2022-05-17T23:27:20.992638Z"
    }
   },
   "outputs": [
    {
     "data": {
      "text/plain": [
       "0.7634854771784232"
      ]
     },
     "execution_count": 14,
     "metadata": {},
     "output_type": "execute_result"
    }
   ],
   "source": [
    "# baseline\n",
    "1 - df.deaths_per_hun_thou.mean()"
   ]
  },
  {
   "cell_type": "code",
   "execution_count": 15,
   "metadata": {
    "ExecuteTime": {
     "end_time": "2022-05-17T23:27:32.906691Z",
     "start_time": "2022-05-17T23:27:21.002055Z"
    }
   },
   "outputs": [
    {
     "name": "stdout",
     "output_type": "stream",
     "text": [
      "Fitting 5 folds for each of 80 candidates, totalling 400 fits\n"
     ]
    },
    {
     "data": {
      "text/plain": [
       "GridSearchCV(cv=5,\n",
       "             estimator=Pipeline(steps=[('ss', StandardScaler()),\n",
       "                                       ('knn', KNeighborsClassifier())]),\n",
       "             param_grid={'knn__n_neighbors': [1, 3, 5, 10, 50],\n",
       "                         'knn__p': [1, 2],\n",
       "                         'knn__weights': ['uniform', 'distance'],\n",
       "                         'ss__with_mean': [True, False],\n",
       "                         'ss__with_std': [True, False]},\n",
       "             verbose=1)"
      ]
     },
     "execution_count": 15,
     "metadata": {},
     "output_type": "execute_result"
    }
   ],
   "source": [
    "# Sets up X variable for columns that have not been dropped\n",
    "X = df[[col for col in df if col not in \"deaths_per_hun_thou\"]]\n",
    "\n",
    "# Sets up target variable\n",
    "y = df['deaths_per_hun_thou']\n",
    "\n",
    "\n",
    "# Train test split\n",
    "X_train, X_test, y_train, y_test = train_test_split(X,\n",
    "                                                    y,\n",
    "                                                    test_size = 0.20,\n",
    "                                                    random_state = 73,\n",
    "                                                    stratify = y) \n",
    "\n",
    "\n",
    "# Instantiate a StandardScaler + kNN pipeline.\n",
    "pipe_knn = Pipeline([\n",
    "    ('ss', StandardScaler()),\n",
    "    ('knn', KNeighborsClassifier())\n",
    "])\n",
    "\n",
    "# Define dictionary of hyperparameters.\n",
    "pipe_knn_params = {\n",
    "    'ss__with_mean' : [True, False],\n",
    "    'ss__with_std' : [True, False],\n",
    "    'knn__weights' : ['uniform', 'distance'],\n",
    "    'knn__n_neighbors' : [1, 3, 5, 10, 50],\n",
    "    'knn__p' : [1, 2]\n",
    "}\n",
    "\n",
    "\n",
    "\n",
    "\n",
    "# Instantiate our GridSearchCV object.\n",
    "pipe_knn_gridsearch = GridSearchCV(pipe_knn, \n",
    "                                 pipe_knn_params,\n",
    "                                 cv=5,\n",
    "                                 verbose=1)\n",
    "# Fitting gridsearch\n",
    "pipe_knn_gridsearch.fit(X_train, y_train)"
   ]
  },
  {
   "cell_type": "code",
   "execution_count": 16,
   "metadata": {
    "ExecuteTime": {
     "end_time": "2022-05-17T23:27:32.918799Z",
     "start_time": "2022-05-17T23:27:32.909535Z"
    }
   },
   "outputs": [
    {
     "data": {
      "text/plain": [
       "(2410, 45)"
      ]
     },
     "execution_count": 16,
     "metadata": {},
     "output_type": "execute_result"
    }
   ],
   "source": [
    "X.shape"
   ]
  },
  {
   "cell_type": "code",
   "execution_count": 17,
   "metadata": {
    "ExecuteTime": {
     "end_time": "2022-05-17T23:27:32.935406Z",
     "start_time": "2022-05-17T23:27:32.927598Z"
    }
   },
   "outputs": [
    {
     "data": {
      "text/plain": [
       "{'knn__n_neighbors': 10,\n",
       " 'knn__p': 1,\n",
       " 'knn__weights': 'uniform',\n",
       " 'ss__with_mean': True,\n",
       " 'ss__with_std': True}"
      ]
     },
     "execution_count": 17,
     "metadata": {},
     "output_type": "execute_result"
    }
   ],
   "source": [
    "pipe_knn_gridsearch.best_params_"
   ]
  },
  {
   "cell_type": "code",
   "execution_count": 18,
   "metadata": {
    "ExecuteTime": {
     "end_time": "2022-05-17T23:27:33.021631Z",
     "start_time": "2022-05-17T23:27:32.945138Z"
    }
   },
   "outputs": [
    {
     "data": {
      "text/plain": [
       "0.7904564315352697"
      ]
     },
     "execution_count": 18,
     "metadata": {},
     "output_type": "execute_result"
    }
   ],
   "source": [
    "pipe_knn_gridsearch.score(X_test, y_test)"
   ]
  },
  {
   "cell_type": "markdown",
   "metadata": {},
   "source": [
    "Our knn model has performed much better than our linear model with a .783 percent accuracy. Given that the classification model has performed much better I am going to further adjust the features that I'm using for my X variable to see if I can gain more meaningful results. To start I'm going to drop the population columns as we can naturaly infer that a higher population will of course see higher death rates. I will also be dropping the voting and minority_group_total columns as they have a low correlation with my target variable. "
   ]
  },
  {
   "cell_type": "code",
   "execution_count": 19,
   "metadata": {
    "ExecuteTime": {
     "end_time": "2022-05-17T23:27:33.035797Z",
     "start_time": "2022-05-17T23:27:33.023627Z"
    }
   },
   "outputs": [
    {
     "data": {
      "text/html": [
       "<div>\n",
       "<style scoped>\n",
       "    .dataframe tbody tr th:only-of-type {\n",
       "        vertical-align: middle;\n",
       "    }\n",
       "\n",
       "    .dataframe tbody tr th {\n",
       "        vertical-align: top;\n",
       "    }\n",
       "\n",
       "    .dataframe thead th {\n",
       "        text-align: right;\n",
       "    }\n",
       "</style>\n",
       "<table border=\"1\" class=\"dataframe\">\n",
       "  <thead>\n",
       "    <tr style=\"text-align: right;\">\n",
       "      <th></th>\n",
       "      <th>tot_pop</th>\n",
       "      <th>tot_male</th>\n",
       "      <th>tot_female</th>\n",
       "      <th>tot_wa_pop</th>\n",
       "      <th>tot_ba_pop</th>\n",
       "      <th>tot_aa_pop</th>\n",
       "      <th>tot_na_pop</th>\n",
       "    </tr>\n",
       "  </thead>\n",
       "  <tbody>\n",
       "    <tr>\n",
       "      <th>tot_pop</th>\n",
       "      <td>1.000000</td>\n",
       "      <td>0.999900</td>\n",
       "      <td>0.999906</td>\n",
       "      <td>0.990255</td>\n",
       "      <td>0.796028</td>\n",
       "      <td>0.838056</td>\n",
       "      <td>0.474014</td>\n",
       "    </tr>\n",
       "    <tr>\n",
       "      <th>tot_male</th>\n",
       "      <td>0.999900</td>\n",
       "      <td>1.000000</td>\n",
       "      <td>0.999612</td>\n",
       "      <td>0.990757</td>\n",
       "      <td>0.790405</td>\n",
       "      <td>0.840743</td>\n",
       "      <td>0.477491</td>\n",
       "    </tr>\n",
       "    <tr>\n",
       "      <th>tot_female</th>\n",
       "      <td>0.999906</td>\n",
       "      <td>0.999612</td>\n",
       "      <td>1.000000</td>\n",
       "      <td>0.989580</td>\n",
       "      <td>0.801324</td>\n",
       "      <td>0.835293</td>\n",
       "      <td>0.470556</td>\n",
       "    </tr>\n",
       "    <tr>\n",
       "      <th>tot_wa_pop</th>\n",
       "      <td>0.990255</td>\n",
       "      <td>0.990757</td>\n",
       "      <td>0.989580</td>\n",
       "      <td>1.000000</td>\n",
       "      <td>0.733446</td>\n",
       "      <td>0.798099</td>\n",
       "      <td>0.439270</td>\n",
       "    </tr>\n",
       "    <tr>\n",
       "      <th>tot_ba_pop</th>\n",
       "      <td>0.796028</td>\n",
       "      <td>0.790405</td>\n",
       "      <td>0.801324</td>\n",
       "      <td>0.733446</td>\n",
       "      <td>1.000000</td>\n",
       "      <td>0.538708</td>\n",
       "      <td>0.244871</td>\n",
       "    </tr>\n",
       "    <tr>\n",
       "      <th>tot_aa_pop</th>\n",
       "      <td>0.838056</td>\n",
       "      <td>0.840743</td>\n",
       "      <td>0.835293</td>\n",
       "      <td>0.798099</td>\n",
       "      <td>0.538708</td>\n",
       "      <td>1.000000</td>\n",
       "      <td>0.597582</td>\n",
       "    </tr>\n",
       "    <tr>\n",
       "      <th>tot_na_pop</th>\n",
       "      <td>0.474014</td>\n",
       "      <td>0.477491</td>\n",
       "      <td>0.470556</td>\n",
       "      <td>0.439270</td>\n",
       "      <td>0.244871</td>\n",
       "      <td>0.597582</td>\n",
       "      <td>1.000000</td>\n",
       "    </tr>\n",
       "  </tbody>\n",
       "</table>\n",
       "</div>"
      ],
      "text/plain": [
       "             tot_pop  tot_male  tot_female  tot_wa_pop  tot_ba_pop  \\\n",
       "tot_pop     1.000000  0.999900    0.999906    0.990255    0.796028   \n",
       "tot_male    0.999900  1.000000    0.999612    0.990757    0.790405   \n",
       "tot_female  0.999906  0.999612    1.000000    0.989580    0.801324   \n",
       "tot_wa_pop  0.990255  0.990757    0.989580    1.000000    0.733446   \n",
       "tot_ba_pop  0.796028  0.790405    0.801324    0.733446    1.000000   \n",
       "tot_aa_pop  0.838056  0.840743    0.835293    0.798099    0.538708   \n",
       "tot_na_pop  0.474014  0.477491    0.470556    0.439270    0.244871   \n",
       "\n",
       "            tot_aa_pop  tot_na_pop  \n",
       "tot_pop       0.838056    0.474014  \n",
       "tot_male      0.840743    0.477491  \n",
       "tot_female    0.835293    0.470556  \n",
       "tot_wa_pop    0.798099    0.439270  \n",
       "tot_ba_pop    0.538708    0.244871  \n",
       "tot_aa_pop    1.000000    0.597582  \n",
       "tot_na_pop    0.597582    1.000000  "
      ]
     },
     "execution_count": 19,
     "metadata": {},
     "output_type": "execute_result"
    }
   ],
   "source": [
    "# correlation of populations\n",
    "df[[col for col in df if col.startswith(\"tot_\")]].corr()"
   ]
  },
  {
   "cell_type": "code",
   "execution_count": 20,
   "metadata": {
    "ExecuteTime": {
     "end_time": "2022-05-17T23:27:33.067127Z",
     "start_time": "2022-05-17T23:27:33.061028Z"
    }
   },
   "outputs": [],
   "source": [
    "# dropping population columns\n",
    "df.drop(columns=[col for col in df if col.startswith(\"tot_\")], inplace=True)\n"
   ]
  },
  {
   "cell_type": "code",
   "execution_count": 21,
   "metadata": {
    "ExecuteTime": {
     "end_time": "2022-05-17T23:27:33.082962Z",
     "start_time": "2022-05-17T23:27:33.072003Z"
    }
   },
   "outputs": [],
   "source": [
    "# dropping voting and minority_group_total\n",
    "df.drop(columns=[col for col in df if col.endswith('votes') or col.startswith('minority')], inplace=True)\n"
   ]
  },
  {
   "cell_type": "code",
   "execution_count": null,
   "metadata": {
    "ExecuteTime": {
     "start_time": "2022-05-17T23:27:17.404Z"
    }
   },
   "outputs": [
    {
     "name": "stdout",
     "output_type": "stream",
     "text": [
      "Fitting 5 folds for each of 80 candidates, totalling 400 fits\n"
     ]
    }
   ],
   "source": [
    "# Sets up X variable for columns that have not been dropped\n",
    "X = df[[col for col in df if col not in \"deaths_per_hun_thou\"]]\n",
    "\n",
    "# Sets up target variable\n",
    "y = df['deaths_per_hun_thou']\n",
    "\n",
    "# sets up train test split\n",
    "X_train, X_test, y_train, y_test = train_test_split(X,\n",
    "                                                    y,\n",
    "                                                    test_size = 0.20,\n",
    "                                                    random_state = 73,\n",
    "                                                    stratify = y) \n",
    "\n",
    "\n",
    "\n",
    "\n",
    "# Instantiate our GridSearchCV object.\n",
    "pipe_knn_gridsearch_2 = GridSearchCV(pipe_knn, \n",
    "                                 pipe_knn_params,\n",
    "                                 cv=5,\n",
    "                                 verbose=1)\n",
    "\n",
    "# Fitting gridsearch\n",
    "pipe_knn_gridsearch_2.fit(X_train, y_train)"
   ]
  },
  {
   "cell_type": "code",
   "execution_count": null,
   "metadata": {
    "ExecuteTime": {
     "start_time": "2022-05-17T23:27:17.405Z"
    }
   },
   "outputs": [],
   "source": [
    "pipe_knn_gridsearch_2.score(X_test, y_test)"
   ]
  },
  {
   "cell_type": "code",
   "execution_count": null,
   "metadata": {
    "ExecuteTime": {
     "start_time": "2022-05-17T23:27:17.406Z"
    }
   },
   "outputs": [],
   "source": [
    "pipe_knn_gridsearch_2.best_params_"
   ]
  },
  {
   "cell_type": "markdown",
   "metadata": {},
   "source": [
    "### Conclusion and Recommendations"
   ]
  },
  {
   "cell_type": "markdown",
   "metadata": {},
   "source": [
    "Although the KNN model provided a score of .783 accuracy this problem seems to be best answered through standard EDA and inference. However in the future to further improve upon the model I would recommend gathering more recent data when available and looking specifically into the hospitals available in each county.(Staffing, building size, occupancy)"
   ]
  },
  {
   "cell_type": "code",
   "execution_count": null,
   "metadata": {
    "ExecuteTime": {
     "start_time": "2022-05-17T23:27:17.412Z"
    }
   },
   "outputs": [],
   "source": [
    "X.shape"
   ]
  }
 ],
 "metadata": {
  "kernelspec": {
   "display_name": "Python 3",
   "language": "python",
   "name": "python3"
  },
  "language_info": {
   "codemirror_mode": {
    "name": "ipython",
    "version": 3
   },
   "file_extension": ".py",
   "mimetype": "text/x-python",
   "name": "python",
   "nbconvert_exporter": "python",
   "pygments_lexer": "ipython3",
   "version": "3.7.4"
  }
 },
 "nbformat": 4,
 "nbformat_minor": 5
}
