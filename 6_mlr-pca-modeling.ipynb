{
 "cells": [
  {
   "cell_type": "markdown",
   "metadata": {},
   "source": [
    "## Model Selection: Multiple Linear Regression and Principal Component Analysis\n",
    "\n",
    "*By Juan Vega*"
   ]
  },
  {
   "cell_type": "markdown",
   "metadata": {},
   "source": [
    "The goal of this notebook is to fit a multiple linear regression notebook and evaluate its ability to predict the death rate per capita per 100,000 population. Principal Component Analysis will be used to understand which features have the most explanatory power and perform dimensionality reduction."
   ]
  },
  {
   "cell_type": "markdown",
   "metadata": {},
   "source": [
    "### Import libraries"
   ]
  },
  {
   "cell_type": "code",
   "execution_count": null,
   "metadata": {
    "ExecuteTime": {
     "start_time": "2022-05-17T23:26:38.429Z"
    }
   },
   "outputs": [],
   "source": [
    "import pandas as pd\n",
    "import numpy as np\n",
    "import matplotlib.pyplot as plt\n",
    "import seaborn as sns\n",
    "\n",
    "from sklearn.linear_model import LinearRegression\n",
    "from sklearn.model_selection import cross_val_score, KFold, train_test_split\n",
    "from sklearn.experimental import enable_iterative_imputer\n",
    "from sklearn.impute import SimpleImputer, KNNImputer, IterativeImputer\n",
    "from sklearn.pipeline import make_pipeline\n",
    "from sklearn.preprocessing import StandardScaler\n",
    "from sklearn.decomposition import PCA\n",
    "from sklearn.metrics import r2_score\n",
    "\n",
    "import warnings\n",
    "warnings.filterwarnings('ignore')"
   ]
  },
  {
   "cell_type": "markdown",
   "metadata": {},
   "source": [
    "### Ingest the data source of COVID-19 death rate and additional features from the CDC and other data sources"
   ]
  },
  {
   "cell_type": "code",
   "execution_count": null,
   "metadata": {
    "ExecuteTime": {
     "start_time": "2022-05-17T23:26:38.433Z"
    }
   },
   "outputs": [],
   "source": [
    "covid_df = pd.read_csv('./data/merged_dataset.csv')\n",
    "covid_df.head()"
   ]
  },
  {
   "cell_type": "code",
   "execution_count": null,
   "metadata": {
    "ExecuteTime": {
     "start_time": "2022-05-17T23:26:38.435Z"
    },
    "scrolled": true
   },
   "outputs": [],
   "source": [
    "covid_df.shape"
   ]
  },
  {
   "cell_type": "markdown",
   "metadata": {},
   "source": [
    "### Rename certain features"
   ]
  },
  {
   "cell_type": "code",
   "execution_count": null,
   "metadata": {
    "ExecuteTime": {
     "start_time": "2022-05-17T23:26:38.437Z"
    }
   },
   "outputs": [],
   "source": [
    "covid_df.rename(columns={'total_staffed_adult_icu_beds_7_day_sum':'tot_staff_adlt_icu_beds',\n",
    "                        'total_icu_beds_7_day_sum':'total_icu_beds',\n",
    "                        'inpatient_beds_7_day_sum':'inpatient_beds',\n",
    "                        'total_adult_patients_hospitalized_confirmed_covid_7_day_sum':'tot_adlt_pat_hosp_covid',\n",
    "                        'inpatient_beds_used_7_day_sum':'inpatient_beds_used',\n",
    "                        'total_beds_7_day_sum':'total_beds',\n",
    "                        'icu_beds_used_7_day_sum':'icu_beds_used'},inplace=True)"
   ]
  },
  {
   "cell_type": "code",
   "execution_count": null,
   "metadata": {
    "ExecuteTime": {
     "start_time": "2022-05-17T23:26:38.438Z"
    }
   },
   "outputs": [],
   "source": [
    "features = [col for col in covid_df.columns if covid_df[col].dtypes != 'O']"
   ]
  },
  {
   "cell_type": "code",
   "execution_count": null,
   "metadata": {
    "ExecuteTime": {
     "start_time": "2022-05-17T23:26:38.440Z"
    }
   },
   "outputs": [],
   "source": [
    "for col in ['county_fips_code','deaths','deaths_per_hun_thou']:\n",
    "    features.remove(col)"
   ]
  },
  {
   "cell_type": "markdown",
   "metadata": {},
   "source": [
    "#### Impute missing data using a median imputer for every feature with missing data"
   ]
  },
  {
   "cell_type": "code",
   "execution_count": null,
   "metadata": {
    "ExecuteTime": {
     "start_time": "2022-05-17T23:26:38.441Z"
    }
   },
   "outputs": [],
   "source": [
    "covid_df.isnull().sum()[covid_df.isnull().sum()>0].sort_values(ascending=False)"
   ]
  },
  {
   "cell_type": "code",
   "execution_count": null,
   "metadata": {
    "ExecuteTime": {
     "start_time": "2022-05-17T23:26:38.445Z"
    }
   },
   "outputs": [],
   "source": [
    "df = covid_df[features+['deaths_per_hun_thou']]"
   ]
  },
  {
   "cell_type": "code",
   "execution_count": null,
   "metadata": {
    "ExecuteTime": {
     "start_time": "2022-05-17T23:26:38.446Z"
    }
   },
   "outputs": [],
   "source": [
    "X = pd.DataFrame(SimpleImputer(strategy='median').fit_transform(df.drop(columns='deaths_per_hun_thou')),\n",
    "                  columns=df.drop(columns='deaths_per_hun_thou').columns)\n",
    "y = df['deaths_per_hun_thou']"
   ]
  },
  {
   "cell_type": "markdown",
   "metadata": {},
   "source": [
    "After imputing all missing data with the median of each feature, there are no more missing values in the data set."
   ]
  },
  {
   "cell_type": "code",
   "execution_count": null,
   "metadata": {
    "ExecuteTime": {
     "start_time": "2022-05-17T23:26:38.448Z"
    }
   },
   "outputs": [],
   "source": [
    "X.isnull().sum().sum(), y.isnull().sum().sum()"
   ]
  },
  {
   "cell_type": "code",
   "execution_count": null,
   "metadata": {
    "ExecuteTime": {
     "start_time": "2022-05-17T23:26:38.449Z"
    }
   },
   "outputs": [],
   "source": [
    "X_train, X_test, y_train, y_test = train_test_split(X,y,test_size=0.25,random_state=43)"
   ]
  },
  {
   "cell_type": "markdown",
   "metadata": {},
   "source": [
    "Standardize the features for PCA and multiple linear regression."
   ]
  },
  {
   "cell_type": "code",
   "execution_count": null,
   "metadata": {
    "ExecuteTime": {
     "start_time": "2022-05-17T23:26:38.450Z"
    }
   },
   "outputs": [],
   "source": [
    "ss = StandardScaler()\n",
    "Xs_train = pd.DataFrame(ss.fit_transform(X_train),columns=X_train.columns)\n",
    "Xs_test = pd.DataFrame(ss.transform(X_test),columns=X_test.columns)"
   ]
  },
  {
   "cell_type": "markdown",
   "metadata": {},
   "source": [
    "Instantiate a linear regression model."
   ]
  },
  {
   "cell_type": "code",
   "execution_count": null,
   "metadata": {
    "ExecuteTime": {
     "start_time": "2022-05-17T23:26:38.452Z"
    }
   },
   "outputs": [],
   "source": [
    "lr = LinearRegression()"
   ]
  },
  {
   "cell_type": "code",
   "execution_count": null,
   "metadata": {
    "ExecuteTime": {
     "start_time": "2022-05-17T23:26:38.455Z"
    }
   },
   "outputs": [],
   "source": [
    "lr.fit(Xs_train,y_train)"
   ]
  },
  {
   "cell_type": "code",
   "execution_count": null,
   "metadata": {
    "ExecuteTime": {
     "start_time": "2022-05-17T23:26:38.472Z"
    }
   },
   "outputs": [],
   "source": [
    "y_preds = lr.predict(Xs_test)"
   ]
  },
  {
   "cell_type": "markdown",
   "metadata": {},
   "source": [
    "Using these features does not produce an R-squared score that is appropriate to model on and compare the performance of these model against the null model."
   ]
  },
  {
   "cell_type": "code",
   "execution_count": null,
   "metadata": {
    "ExecuteTime": {
     "start_time": "2022-05-17T23:26:38.479Z"
    }
   },
   "outputs": [],
   "source": [
    "y_train_null = [np.mean(y_train)] * len(y_train)\n",
    "y_test_null = [np.mean(y_train)] * len(y_test)"
   ]
  },
  {
   "cell_type": "markdown",
   "metadata": {},
   "source": [
    "Although the model fit performs better than the null model based on the r-squared metric, the performance of this model is very poor."
   ]
  },
  {
   "cell_type": "code",
   "execution_count": null,
   "metadata": {
    "ExecuteTime": {
     "start_time": "2022-05-17T23:26:38.484Z"
    }
   },
   "outputs": [],
   "source": [
    "r2_score(y_test,y_preds)"
   ]
  },
  {
   "cell_type": "code",
   "execution_count": null,
   "metadata": {
    "ExecuteTime": {
     "start_time": "2022-05-17T23:26:38.486Z"
    }
   },
   "outputs": [],
   "source": [
    "r2_score(y_test_null,y_preds)"
   ]
  },
  {
   "cell_type": "code",
   "execution_count": null,
   "metadata": {
    "ExecuteTime": {
     "start_time": "2022-05-17T23:26:38.489Z"
    }
   },
   "outputs": [],
   "source": [
    "plt.figure(figsize=(5,10))\n",
    "plt.title('Correlation of features with death rate')\n",
    "sns.heatmap(df.corr()[['deaths_per_hun_thou']].sort_values(by='deaths_per_hun_thou',ascending=False),\n",
    "                vmin=-1,\n",
    "                vmax=1,\n",
    "                cmap='Blues',\n",
    "                annot=True);"
   ]
  },
  {
   "cell_type": "markdown",
   "metadata": {},
   "source": [
    "Attempt fitting a better model using only the featues that are mostly correlated with the death rate based on the correlation heatmap above."
   ]
  },
  {
   "cell_type": "code",
   "execution_count": null,
   "metadata": {
    "ExecuteTime": {
     "start_time": "2022-05-17T23:26:38.490Z"
    }
   },
   "outputs": [],
   "source": [
    "Xs_train = Xs_train[['cases_per_10k','SVI__D','transmission_level_high','med_cases_per_100k_change',\n",
    "'mask_sometimes','mask_never','med_per_test_results_positive','good_masking_practices','tot_pop']]\n",
    "\n",
    "Xs_test = Xs_test[['cases_per_10k','SVI__D','transmission_level_high','med_cases_per_100k_change',\n",
    "'mask_sometimes','mask_never','med_per_test_results_positive','good_masking_practices','tot_pop']]"
   ]
  },
  {
   "cell_type": "code",
   "execution_count": null,
   "metadata": {
    "ExecuteTime": {
     "start_time": "2022-05-17T23:26:38.492Z"
    }
   },
   "outputs": [],
   "source": [
    "lr.fit(Xs_train,y_train)"
   ]
  },
  {
   "cell_type": "code",
   "execution_count": null,
   "metadata": {
    "ExecuteTime": {
     "start_time": "2022-05-17T23:26:38.493Z"
    }
   },
   "outputs": [],
   "source": [
    "y_preds = lr.predict(Xs_test)"
   ]
  },
  {
   "cell_type": "code",
   "execution_count": null,
   "metadata": {
    "ExecuteTime": {
     "start_time": "2022-05-17T23:26:38.494Z"
    }
   },
   "outputs": [],
   "source": [
    "r2_score(y_test,y_preds)"
   ]
  },
  {
   "cell_type": "markdown",
   "metadata": {},
   "source": [
    "This is an improvement from the current model's performance, demonstrating that a lower number of features may return better results. However, the performance of this model is not adequate at the moment, which is the reason why a collective decision made to fit a classification model for whether the median number of deaths is above the 75th percentile across all U.S. counties."
   ]
  },
  {
   "cell_type": "markdown",
   "metadata": {},
   "source": [
    "As an exercise, apply principal component analysis to identify which features explain most of the variation in the data in this model."
   ]
  },
  {
   "cell_type": "code",
   "execution_count": null,
   "metadata": {
    "ExecuteTime": {
     "start_time": "2022-05-17T23:26:38.496Z"
    }
   },
   "outputs": [],
   "source": [
    "X = X[['cases_per_10k','SVI__D','transmission_level_high','med_cases_per_100k_change',\n",
    "'mask_sometimes','mask_never','med_per_test_results_positive','good_masking_practices','tot_pop']]"
   ]
  },
  {
   "cell_type": "code",
   "execution_count": null,
   "metadata": {
    "ExecuteTime": {
     "start_time": "2022-05-17T23:26:38.500Z"
    }
   },
   "outputs": [],
   "source": [
    "Xs = ss.fit_transform(X)"
   ]
  },
  {
   "cell_type": "code",
   "execution_count": null,
   "metadata": {
    "ExecuteTime": {
     "start_time": "2022-05-17T23:26:38.503Z"
    }
   },
   "outputs": [],
   "source": [
    "pca = PCA().fit(Xs)"
   ]
  },
  {
   "cell_type": "markdown",
   "metadata": {},
   "source": [
    "It appears that about 82% of the variation in the data can be explained by the first principal components, which are described below."
   ]
  },
  {
   "cell_type": "code",
   "execution_count": null,
   "metadata": {
    "ExecuteTime": {
     "start_time": "2022-05-17T23:26:38.505Z"
    }
   },
   "outputs": [],
   "source": [
    "sum(pca.explained_variance_ratio_[:5])"
   ]
  },
  {
   "cell_type": "code",
   "execution_count": null,
   "metadata": {
    "ExecuteTime": {
     "start_time": "2022-05-17T23:26:38.506Z"
    }
   },
   "outputs": [],
   "source": [
    "pca.explained_variance_ratio_"
   ]
  },
  {
   "cell_type": "markdown",
   "metadata": {},
   "source": [
    "* The first principal component explains around 30% of the variation in the data and appears to describe counties where a higher number of cases per capita is associated with a lower death rate, where a higher level of social vulnerability is associated with a lower death rates, and where higher transmissibility is assoficated with lower death rates, which are counterintuitive results\n",
    "* The second principal compoennt appears to describe cases where higher number of COVID cases relate to higher death rates, where higher social vulnerability is associated with higher death rates, and higher transmission is associated with higher death rates. This principal component accounts for 20% of the variation in the data."
   ]
  },
  {
   "cell_type": "code",
   "execution_count": null,
   "metadata": {
    "ExecuteTime": {
     "start_time": "2022-05-17T23:26:38.508Z"
    }
   },
   "outputs": [],
   "source": [
    "pca1_evec = pca.components_[0]\n",
    "\n",
    "for weight, feature in zip(pca1_evec, X.columns):\n",
    "    print(feature, weight)\n",
    "    \n",
    "# This code is inspired from Sophie's lesson on PCA:\n",
    "# https://git.generalassemb.ly/dsi-andromeda/pca/blob/master/starter-code-Sophie.ipynb"
   ]
  },
  {
   "cell_type": "code",
   "execution_count": null,
   "metadata": {
    "ExecuteTime": {
     "start_time": "2022-05-17T23:26:38.511Z"
    }
   },
   "outputs": [],
   "source": [
    "pca1_evec = pca.components_[1]\n",
    "\n",
    "for weight, feature in zip(pca1_evec, X.columns):\n",
    "    print(feature, weight)"
   ]
  },
  {
   "cell_type": "code",
   "execution_count": null,
   "metadata": {
    "ExecuteTime": {
     "start_time": "2022-05-17T23:26:38.513Z"
    }
   },
   "outputs": [],
   "source": [
    "covid_df_pca= pd.DataFrame(pca.transform(Xs),columns=['pr_comp_0','pr_comp_1','pr_comp_2','pr_comp_3','pr_comp_4',\n",
    "                                                      'pr_comp_5','pr_comp_6','pr_comp_7','pr_comp_8'])"
   ]
  },
  {
   "cell_type": "code",
   "execution_count": null,
   "metadata": {
    "ExecuteTime": {
     "start_time": "2022-05-17T23:26:38.515Z"
    }
   },
   "outputs": [],
   "source": [
    "cross_val_score(LinearRegression(),\n",
    "                covid_df_pca,\n",
    "                covid_df['deaths_per_hun_thou'],\n",
    "                cv=5).mean()"
   ]
  },
  {
   "cell_type": "code",
   "execution_count": null,
   "metadata": {
    "ExecuteTime": {
     "start_time": "2022-05-17T23:26:38.517Z"
    }
   },
   "outputs": [],
   "source": [
    "cross_val_score(LinearRegression(),\n",
    "                covid_df_pca.drop(columns=['pr_comp_5','pr_comp_6','pr_comp_7','pr_comp_8']),\n",
    "                covid_df['deaths_per_hun_thou'],\n",
    "                cv=5).mean()"
   ]
  },
  {
   "cell_type": "markdown",
   "metadata": {},
   "source": [
    "Using the first five principal components from the reduced data set returns a cross validated r-square score of 16%, which is a lower explanatory model compared to a previous linear regression model without PCA.\n",
    "\n",
    "Because none of these performances are adequate, it is recommended that other predictive tasks such as classifying counties as having a death rate that is above the 75th percentile are applied instead of multiple linear regression."
   ]
  }
 ],
 "metadata": {
  "kernelspec": {
   "display_name": "Python 3",
   "language": "python",
   "name": "python3"
  },
  "language_info": {
   "codemirror_mode": {
    "name": "ipython",
    "version": 3
   },
   "file_extension": ".py",
   "mimetype": "text/x-python",
   "name": "python",
   "nbconvert_exporter": "python",
   "pygments_lexer": "ipython3",
   "version": "3.7.4"
  }
 },
 "nbformat": 4,
 "nbformat_minor": 2
}
