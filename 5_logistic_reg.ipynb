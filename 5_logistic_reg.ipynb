{
 "cells": [
  {
   "cell_type": "code",
   "execution_count": 1,
   "metadata": {
    "ExecuteTime": {
     "end_time": "2022-05-17T23:24:54.888006Z",
     "start_time": "2022-05-17T23:24:52.549138Z"
    }
   },
   "outputs": [],
   "source": [
    "import warnings\n",
    "import pandas as pd\n",
    "import numpy as np\n",
    "import matplotlib.pyplot as plt\n",
    "\n",
    "from sklearn.linear_model import LogisticRegression\n",
    "from sklearn.preprocessing import StandardScaler\n",
    "from sklearn.model_selection import train_test_split, cross_val_score, KFold, GridSearchCV\n",
    "from sklearn.decomposition import PCA\n",
    "from sklearn.pipeline import Pipeline\n",
    "from sklearn.experimental import enable_iterative_imputer\n",
    "from sklearn.impute import SimpleImputer, KNNImputer, IterativeImputer\n",
    "from sklearn.compose import ColumnTransformer\n",
    "\n",
    "warnings.filterwarnings('ignore')"
   ]
  },
  {
   "cell_type": "markdown",
   "metadata": {},
   "source": [
    "#### Reading in the merged data"
   ]
  },
  {
   "cell_type": "code",
   "execution_count": 2,
   "metadata": {
    "ExecuteTime": {
     "end_time": "2022-05-17T23:24:54.931531Z",
     "start_time": "2022-05-17T23:24:54.891266Z"
    }
   },
   "outputs": [],
   "source": [
    "df = pd.read_csv('./data/merged_dataset.csv')"
   ]
  },
  {
   "cell_type": "code",
   "execution_count": 3,
   "metadata": {
    "ExecuteTime": {
     "end_time": "2022-05-17T23:24:54.969451Z",
     "start_time": "2022-05-17T23:24:54.936464Z"
    }
   },
   "outputs": [
    {
     "data": {
      "text/html": [
       "<div>\n",
       "<style scoped>\n",
       "    .dataframe tbody tr th:only-of-type {\n",
       "        vertical-align: middle;\n",
       "    }\n",
       "\n",
       "    .dataframe tbody tr th {\n",
       "        vertical-align: top;\n",
       "    }\n",
       "\n",
       "    .dataframe thead th {\n",
       "        text-align: right;\n",
       "    }\n",
       "</style>\n",
       "<table border=\"1\" class=\"dataframe\">\n",
       "  <thead>\n",
       "    <tr style=\"text-align: right;\">\n",
       "      <th></th>\n",
       "      <th>county</th>\n",
       "      <th>county_fips_code</th>\n",
       "      <th>cases</th>\n",
       "      <th>deaths</th>\n",
       "      <th>stname</th>\n",
       "      <th>ctyname</th>\n",
       "      <th>tot_pop</th>\n",
       "      <th>deaths_per_hun_thou</th>\n",
       "      <th>cnty_name</th>\n",
       "      <th>unemployment_rate</th>\n",
       "      <th>...</th>\n",
       "      <th>SVI__B</th>\n",
       "      <th>SVI__C</th>\n",
       "      <th>SVI__D</th>\n",
       "      <th>tot_male</th>\n",
       "      <th>tot_female</th>\n",
       "      <th>tot_wa_pop</th>\n",
       "      <th>tot_ba_pop</th>\n",
       "      <th>tot_aa_pop</th>\n",
       "      <th>tot_na_pop</th>\n",
       "      <th>minority_group_total</th>\n",
       "    </tr>\n",
       "  </thead>\n",
       "  <tbody>\n",
       "    <tr>\n",
       "      <th>0</th>\n",
       "      <td>Autauga</td>\n",
       "      <td>1001</td>\n",
       "      <td>12738</td>\n",
       "      <td>163.0</td>\n",
       "      <td>Alabama</td>\n",
       "      <td>Autauga County</td>\n",
       "      <td>55869.0</td>\n",
       "      <td>291.753924</td>\n",
       "      <td>Autauga County, AL</td>\n",
       "      <td>4.9</td>\n",
       "      <td>...</td>\n",
       "      <td>1.0</td>\n",
       "      <td>0.0</td>\n",
       "      <td>0.0</td>\n",
       "      <td>27092</td>\n",
       "      <td>28777</td>\n",
       "      <td>42607</td>\n",
       "      <td>11237</td>\n",
       "      <td>656</td>\n",
       "      <td>58</td>\n",
       "      <td>11237</td>\n",
       "    </tr>\n",
       "    <tr>\n",
       "      <th>1</th>\n",
       "      <td>Baldwin</td>\n",
       "      <td>1003</td>\n",
       "      <td>47143</td>\n",
       "      <td>605.0</td>\n",
       "      <td>Alabama</td>\n",
       "      <td>Baldwin County</td>\n",
       "      <td>223234.0</td>\n",
       "      <td>271.016064</td>\n",
       "      <td>Baldwin County, AL</td>\n",
       "      <td>5.6</td>\n",
       "      <td>...</td>\n",
       "      <td>0.0</td>\n",
       "      <td>0.0</td>\n",
       "      <td>0.0</td>\n",
       "      <td>108247</td>\n",
       "      <td>114987</td>\n",
       "      <td>195198</td>\n",
       "      <td>19593</td>\n",
       "      <td>2380</td>\n",
       "      <td>154</td>\n",
       "      <td>19593</td>\n",
       "    </tr>\n",
       "    <tr>\n",
       "      <th>2</th>\n",
       "      <td>Barbour</td>\n",
       "      <td>1005</td>\n",
       "      <td>4741</td>\n",
       "      <td>83.0</td>\n",
       "      <td>Alabama</td>\n",
       "      <td>Barbour County</td>\n",
       "      <td>24686.0</td>\n",
       "      <td>336.222960</td>\n",
       "      <td>Barbour County, AL</td>\n",
       "      <td>7.0</td>\n",
       "      <td>...</td>\n",
       "      <td>0.0</td>\n",
       "      <td>0.0</td>\n",
       "      <td>1.0</td>\n",
       "      <td>13064</td>\n",
       "      <td>11622</td>\n",
       "      <td>12134</td>\n",
       "      <td>11906</td>\n",
       "      <td>116</td>\n",
       "      <td>52</td>\n",
       "      <td>11906</td>\n",
       "    </tr>\n",
       "    <tr>\n",
       "      <th>3</th>\n",
       "      <td>Bibb</td>\n",
       "      <td>1007</td>\n",
       "      <td>5385</td>\n",
       "      <td>95.0</td>\n",
       "      <td>Alabama</td>\n",
       "      <td>Bibb County</td>\n",
       "      <td>22394.0</td>\n",
       "      <td>424.220773</td>\n",
       "      <td>Bibb County, AL</td>\n",
       "      <td>6.6</td>\n",
       "      <td>...</td>\n",
       "      <td>0.0</td>\n",
       "      <td>1.0</td>\n",
       "      <td>0.0</td>\n",
       "      <td>11929</td>\n",
       "      <td>10465</td>\n",
       "      <td>17191</td>\n",
       "      <td>4763</td>\n",
       "      <td>48</td>\n",
       "      <td>26</td>\n",
       "      <td>4763</td>\n",
       "    </tr>\n",
       "    <tr>\n",
       "      <th>4</th>\n",
       "      <td>Blount</td>\n",
       "      <td>1009</td>\n",
       "      <td>12648</td>\n",
       "      <td>203.0</td>\n",
       "      <td>Alabama</td>\n",
       "      <td>Blount County</td>\n",
       "      <td>57826.0</td>\n",
       "      <td>351.053159</td>\n",
       "      <td>Blount County, AL</td>\n",
       "      <td>4.1</td>\n",
       "      <td>...</td>\n",
       "      <td>1.0</td>\n",
       "      <td>0.0</td>\n",
       "      <td>0.0</td>\n",
       "      <td>28472</td>\n",
       "      <td>29354</td>\n",
       "      <td>55412</td>\n",
       "      <td>978</td>\n",
       "      <td>185</td>\n",
       "      <td>67</td>\n",
       "      <td>978</td>\n",
       "    </tr>\n",
       "  </tbody>\n",
       "</table>\n",
       "<p>5 rows × 54 columns</p>\n",
       "</div>"
      ],
      "text/plain": [
       "    county  county_fips_code  cases  deaths   stname         ctyname  \\\n",
       "0  Autauga              1001  12738   163.0  Alabama  Autauga County   \n",
       "1  Baldwin              1003  47143   605.0  Alabama  Baldwin County   \n",
       "2  Barbour              1005   4741    83.0  Alabama  Barbour County   \n",
       "3     Bibb              1007   5385    95.0  Alabama     Bibb County   \n",
       "4   Blount              1009  12648   203.0  Alabama   Blount County   \n",
       "\n",
       "    tot_pop  deaths_per_hun_thou           cnty_name  unemployment_rate  ...  \\\n",
       "0   55869.0           291.753924  Autauga County, AL                4.9  ...   \n",
       "1  223234.0           271.016064  Baldwin County, AL                5.6  ...   \n",
       "2   24686.0           336.222960  Barbour County, AL                7.0  ...   \n",
       "3   22394.0           424.220773     Bibb County, AL                6.6  ...   \n",
       "4   57826.0           351.053159   Blount County, AL                4.1  ...   \n",
       "\n",
       "   SVI__B  SVI__C  SVI__D  tot_male  tot_female  tot_wa_pop tot_ba_pop  \\\n",
       "0     1.0     0.0     0.0     27092       28777       42607      11237   \n",
       "1     0.0     0.0     0.0    108247      114987      195198      19593   \n",
       "2     0.0     0.0     1.0     13064       11622       12134      11906   \n",
       "3     0.0     1.0     0.0     11929       10465       17191       4763   \n",
       "4     1.0     0.0     0.0     28472       29354       55412        978   \n",
       "\n",
       "   tot_aa_pop  tot_na_pop  minority_group_total  \n",
       "0         656          58                 11237  \n",
       "1        2380         154                 19593  \n",
       "2         116          52                 11906  \n",
       "3          48          26                  4763  \n",
       "4         185          67                   978  \n",
       "\n",
       "[5 rows x 54 columns]"
      ]
     },
     "execution_count": 3,
     "metadata": {},
     "output_type": "execute_result"
    }
   ],
   "source": [
    "df.head()"
   ]
  },
  {
   "cell_type": "markdown",
   "metadata": {},
   "source": [
    "#### Determining numerical features"
   ]
  },
  {
   "cell_type": "code",
   "execution_count": 4,
   "metadata": {
    "ExecuteTime": {
     "end_time": "2022-05-17T23:24:54.986308Z",
     "start_time": "2022-05-17T23:24:54.976089Z"
    }
   },
   "outputs": [
    {
     "name": "stdout",
     "output_type": "stream",
     "text": [
      "There are 49 numerical features: \n",
      "\n",
      "['county_fips_code', 'cases', 'deaths', 'tot_pop', 'deaths_per_hun_thou', 'unemployment_rate', 'med_cases_per_100k_change', 'med_per_test_results_positive', 'transmission_level_high', 'transmission_level_low', 'transmission_level_moderate', 'transmission_level_substantial', 'InBedsOccAnyPat__Numbeds_Est', 'InBedsOccCOVID__Numbeds_Est', 'ICUBedsOccAnyPat__N_ICUBeds_Est', 'cases_per_10k', 'high_transmission', 'mask_never', 'mask_rarely', 'mask_sometimes', 'mask_frequently', 'mask_always', 'good_masking_practices', 'biden_votes', 'trump_votes', 'total_votes', 'land_area_sqmi', 'population_density', 'total_beds_7_day_sum', 'inpatient_beds_used_7_day_sum', 'inpatient_beds_used_covid_7_day_sum', 'inpatient_beds_7_day_sum', 'total_icu_beds_7_day_sum', 'total_staffed_adult_icu_beds_7_day_sum', 'icu_beds_used_7_day_sum', 'staffed_icu_adult_patients_confirmed_covid_7_day_sum', 'total_adult_patients_hospitalized_confirmed_covid_7_day_sum', 'county_vac_pct', 'SVI__A', 'SVI__B', 'SVI__C', 'SVI__D', 'tot_male', 'tot_female', 'tot_wa_pop', 'tot_ba_pop', 'tot_aa_pop', 'tot_na_pop', 'minority_group_total']\n"
     ]
    }
   ],
   "source": [
    "numerical_features = df.select_dtypes(include= 'number').columns.tolist()\n",
    "print(f'There are {len(numerical_features)} numerical features:','\\n')\n",
    "print(numerical_features)"
   ]
  },
  {
   "cell_type": "markdown",
   "metadata": {},
   "source": [
    "#### Check for nulls"
   ]
  },
  {
   "cell_type": "code",
   "execution_count": 5,
   "metadata": {
    "ExecuteTime": {
     "end_time": "2022-05-17T23:24:55.011663Z",
     "start_time": "2022-05-17T23:24:54.991671Z"
    }
   },
   "outputs": [
    {
     "data": {
      "text/plain": [
       "county_fips_code                                                 0\n",
       "cases                                                            0\n",
       "deaths                                                           0\n",
       "tot_pop                                                          0\n",
       "deaths_per_hun_thou                                              0\n",
       "unemployment_rate                                                1\n",
       "med_cases_per_100k_change                                        0\n",
       "med_per_test_results_positive                                   18\n",
       "transmission_level_high                                          0\n",
       "transmission_level_low                                           0\n",
       "transmission_level_moderate                                      0\n",
       "transmission_level_substantial                                   0\n",
       "InBedsOccAnyPat__Numbeds_Est                                     1\n",
       "InBedsOccCOVID__Numbeds_Est                                      1\n",
       "ICUBedsOccAnyPat__N_ICUBeds_Est                                  1\n",
       "cases_per_10k                                                    0\n",
       "high_transmission                                                0\n",
       "mask_never                                                       0\n",
       "mask_rarely                                                      0\n",
       "mask_sometimes                                                   0\n",
       "mask_frequently                                                  0\n",
       "mask_always                                                      0\n",
       "good_masking_practices                                           0\n",
       "biden_votes                                                     25\n",
       "trump_votes                                                     25\n",
       "total_votes                                                     26\n",
       "land_area_sqmi                                                   0\n",
       "population_density                                               0\n",
       "total_beds_7_day_sum                                           702\n",
       "inpatient_beds_used_7_day_sum                                  702\n",
       "inpatient_beds_used_covid_7_day_sum                            702\n",
       "inpatient_beds_7_day_sum                                       702\n",
       "total_icu_beds_7_day_sum                                       702\n",
       "total_staffed_adult_icu_beds_7_day_sum                         702\n",
       "icu_beds_used_7_day_sum                                        702\n",
       "staffed_icu_adult_patients_confirmed_covid_7_day_sum           702\n",
       "total_adult_patients_hospitalized_confirmed_covid_7_day_sum    702\n",
       "county_vac_pct                                                   1\n",
       "SVI__A                                                           1\n",
       "SVI__B                                                           1\n",
       "SVI__C                                                           1\n",
       "SVI__D                                                           1\n",
       "tot_male                                                         0\n",
       "tot_female                                                       0\n",
       "tot_wa_pop                                                       0\n",
       "tot_ba_pop                                                       0\n",
       "tot_aa_pop                                                       0\n",
       "tot_na_pop                                                       0\n",
       "minority_group_total                                             0\n",
       "dtype: int64"
      ]
     },
     "execution_count": 5,
     "metadata": {},
     "output_type": "execute_result"
    }
   ],
   "source": [
    "df[numerical_features].isnull().sum()"
   ]
  },
  {
   "cell_type": "markdown",
   "metadata": {},
   "source": [
    "#### Changing target variable to binary "
   ]
  },
  {
   "cell_type": "code",
   "execution_count": 6,
   "metadata": {
    "ExecuteTime": {
     "end_time": "2022-05-17T23:24:55.553197Z",
     "start_time": "2022-05-17T23:24:55.014344Z"
    }
   },
   "outputs": [
    {
     "data": {
      "text/plain": [
       "0    2349\n",
       "1     784\n",
       "Name: deaths_per_hun_thou, dtype: int64"
      ]
     },
     "execution_count": 6,
     "metadata": {},
     "output_type": "execute_result"
    }
   ],
   "source": [
    "df.deaths_per_hun_thou = df.deaths_per_hun_thou.map(lambda x : 0 if x < np.percentile(df.deaths_per_hun_thou, 75) else 1)\n",
    "df.deaths_per_hun_thou.value_counts()"
   ]
  },
  {
   "cell_type": "markdown",
   "metadata": {},
   "source": [
    "#### Baseline score"
   ]
  },
  {
   "cell_type": "code",
   "execution_count": 7,
   "metadata": {
    "ExecuteTime": {
     "end_time": "2022-05-17T23:24:55.563082Z",
     "start_time": "2022-05-17T23:24:55.557856Z"
    }
   },
   "outputs": [
    {
     "data": {
      "text/plain": [
       "0.7497606128311523"
      ]
     },
     "execution_count": 7,
     "metadata": {},
     "output_type": "execute_result"
    }
   ],
   "source": [
    "1 - df.deaths_per_hun_thou.mean()"
   ]
  },
  {
   "cell_type": "markdown",
   "metadata": {},
   "source": [
    "### Transformations"
   ]
  },
  {
   "cell_type": "markdown",
   "metadata": {},
   "source": [
    "#### Possible features that correlate too much with each other (PCA should have taken care of them)\n",
    "*'mask_never', 'mask_rarely', 'mask_sometimes', 'mask_frequently', 'mask_always','cases_per_10k', 'high_transmission', 'total_beds_7_day_sum'*\n",
    "\n",
    "- `deaths_per_hun_thou` is the target variable\n",
    "- `deaths` is too correlated to the target variable\n",
    "- `county_fips_code` is just an ID number"
   ]
  },
  {
   "cell_type": "code",
   "execution_count": 8,
   "metadata": {
    "ExecuteTime": {
     "end_time": "2022-05-17T23:24:55.580061Z",
     "start_time": "2022-05-17T23:24:55.568086Z"
    }
   },
   "outputs": [
    {
     "name": "stdout",
     "output_type": "stream",
     "text": [
      "There are NOW 46 numerical features: \n",
      "\n",
      "['cases', 'tot_pop', 'unemployment_rate', 'med_cases_per_100k_change', 'med_per_test_results_positive', 'transmission_level_high', 'transmission_level_low', 'transmission_level_moderate', 'transmission_level_substantial', 'InBedsOccAnyPat__Numbeds_Est', 'InBedsOccCOVID__Numbeds_Est', 'ICUBedsOccAnyPat__N_ICUBeds_Est', 'cases_per_10k', 'high_transmission', 'mask_never', 'mask_rarely', 'mask_sometimes', 'mask_frequently', 'mask_always', 'good_masking_practices', 'biden_votes', 'trump_votes', 'total_votes', 'land_area_sqmi', 'population_density', 'total_beds_7_day_sum', 'inpatient_beds_used_7_day_sum', 'inpatient_beds_used_covid_7_day_sum', 'inpatient_beds_7_day_sum', 'total_icu_beds_7_day_sum', 'total_staffed_adult_icu_beds_7_day_sum', 'icu_beds_used_7_day_sum', 'staffed_icu_adult_patients_confirmed_covid_7_day_sum', 'total_adult_patients_hospitalized_confirmed_covid_7_day_sum', 'county_vac_pct', 'SVI__A', 'SVI__B', 'SVI__C', 'SVI__D', 'tot_male', 'tot_female', 'tot_wa_pop', 'tot_ba_pop', 'tot_aa_pop', 'tot_na_pop', 'minority_group_total']\n"
     ]
    }
   ],
   "source": [
    "# dropping numerical features that are redudant or unecessary\n",
    "\n",
    "numerical_features_t = df.drop(['deaths_per_hun_thou','deaths','county_fips_code'],axis = 1).select_dtypes(include= 'number').columns.tolist()\n",
    "print(f'There are NOW {len(numerical_features_t)} numerical features:','\\n')\n",
    "print(numerical_features_t)"
   ]
  },
  {
   "cell_type": "code",
   "execution_count": 9,
   "metadata": {
    "ExecuteTime": {
     "end_time": "2022-05-17T23:24:55.592983Z",
     "start_time": "2022-05-17T23:24:55.585246Z"
    }
   },
   "outputs": [],
   "source": [
    "# pipe imputes missing data and scales it\n",
    "numeric_pipeline = Pipeline(steps=[\n",
    "    ('impute', IterativeImputer(random_state=73,\n",
    "                               initial_strategy='median')),\n",
    "    ('scale', StandardScaler())\n",
    "])\n"
   ]
  },
  {
   "cell_type": "code",
   "execution_count": 10,
   "metadata": {
    "ExecuteTime": {
     "end_time": "2022-05-17T23:24:55.610722Z",
     "start_time": "2022-05-17T23:24:55.598524Z"
    }
   },
   "outputs": [],
   "source": [
    "# fits the pipe to the raw data\n",
    "full_processor = ColumnTransformer(transformers=[\n",
    "    ('number', numeric_pipeline, numerical_features_t)\n",
    "])"
   ]
  },
  {
   "cell_type": "markdown",
   "metadata": {},
   "source": [
    "#### Modeling "
   ]
  },
  {
   "cell_type": "code",
   "execution_count": 11,
   "metadata": {
    "ExecuteTime": {
     "end_time": "2022-05-17T23:24:55.624693Z",
     "start_time": "2022-05-17T23:24:55.612580Z"
    }
   },
   "outputs": [],
   "source": [
    "X = df[numerical_features_t]\n",
    "y = df.deaths_per_hun_thou\n",
    "\n",
    "X_train, X_valid, y_train, y_valid = train_test_split(X, y, test_size=.3, random_state=42)"
   ]
  },
  {
   "cell_type": "code",
   "execution_count": 12,
   "metadata": {
    "ExecuteTime": {
     "end_time": "2022-05-17T23:24:55.631609Z",
     "start_time": "2022-05-17T23:24:55.626660Z"
    }
   },
   "outputs": [],
   "source": [
    "# fit all variables to logreg pipeline\n",
    "log_reg = LogisticRegression(max_iter=10000, tol=0.1)\n",
    "\n",
    "log_reg_pipe = Pipeline(steps=[\n",
    "    ('preprocess', full_processor),\n",
    "    ('model', log_reg)\n",
    "])"
   ]
  },
  {
   "cell_type": "code",
   "execution_count": 13,
   "metadata": {
    "ExecuteTime": {
     "end_time": "2022-05-17T23:24:56.432431Z",
     "start_time": "2022-05-17T23:24:55.634647Z"
    }
   },
   "outputs": [],
   "source": [
    "_ = log_reg_pipe.fit(X_train, y_train)\n",
    "\n",
    "# log_reg_pipe.score(X_valid, y_valid)"
   ]
  },
  {
   "cell_type": "markdown",
   "metadata": {},
   "source": [
    "### PCA"
   ]
  },
  {
   "cell_type": "code",
   "execution_count": 14,
   "metadata": {
    "ExecuteTime": {
     "end_time": "2022-05-17T23:24:56.446613Z",
     "start_time": "2022-05-17T23:24:56.434299Z"
    }
   },
   "outputs": [],
   "source": [
    "pca = PCA()\n",
    "log_reg = LogisticRegression()\n",
    "\n",
    "log_reg_pipe = Pipeline(steps=[\n",
    "    ('preprocess', full_processor),\n",
    "    ('pca',pca),\n",
    "    ('model', log_reg)\n",
    "])"
   ]
  },
  {
   "cell_type": "code",
   "execution_count": 15,
   "metadata": {
    "ExecuteTime": {
     "end_time": "2022-05-17T23:26:03.818419Z",
     "start_time": "2022-05-17T23:24:56.449456Z"
    }
   },
   "outputs": [
    {
     "name": "stdout",
     "output_type": "stream",
     "text": [
      "Best parameter (CV score=0.767):\n",
      "{'model__C': 10000.0, 'model__penalty': 'l2', 'pca__n_components': 25}\n"
     ]
    }
   ],
   "source": [
    "# perform GridSearch on logreg pipeline /w PCA\n",
    "param_grid = {\n",
    "    \"pca__n_components\": [5, 15, 20, 25, 30],\n",
    "    \"model__C\": np.logspace(-4, 4, 4),\n",
    "    \"model__penalty\": ['l1','l2']\n",
    "}\n",
    "search = GridSearchCV(log_reg_pipe, param_grid, n_jobs=2)\n",
    "search.fit(X_train, y_train)\n",
    "print(\"Best parameter (CV score=%0.3f):\" % search.best_score_)\n",
    "print(search.best_params_)"
   ]
  },
  {
   "cell_type": "markdown",
   "metadata": {},
   "source": [
    "#### Determining principle components"
   ]
  },
  {
   "cell_type": "code",
   "execution_count": 16,
   "metadata": {
    "ExecuteTime": {
     "end_time": "2022-05-17T23:26:04.262696Z",
     "start_time": "2022-05-17T23:26:03.821371Z"
    }
   },
   "outputs": [
    {
     "data": {
      "text/plain": [
       "PCA()"
      ]
     },
     "execution_count": 16,
     "metadata": {},
     "output_type": "execute_result"
    }
   ],
   "source": [
    "pca.fit(full_processor.fit_transform(X_train))"
   ]
  },
  {
   "cell_type": "code",
   "execution_count": 17,
   "metadata": {
    "ExecuteTime": {
     "end_time": "2022-05-17T23:26:04.447425Z",
     "start_time": "2022-05-17T23:26:04.265096Z"
    }
   },
   "outputs": [
    {
     "data": {
      "image/png": "[encoded data removed]",
      "text/plain": [
       "<Figure size 576x432 with 1 Axes>"
      ]
     },
     "metadata": {
      "needs_background": "light"
     },
     "output_type": "display_data"
    }
   ],
   "source": [
    "fig, ax = plt.subplots(figsize=(8,6))\n",
    "ax.plot(range(1,47), pca.explained_variance_ratio_, lw=2)\n",
    "ax.scatter(range(1,47), pca.explained_variance_ratio_, s=100)\n",
    "ax.set_title('explained variance of components')\n",
    "ax.set_xlabel('principal component')\n",
    "ax.set_ylabel('explained variance');"
   ]
  },
  {
   "cell_type": "code",
   "execution_count": 18,
   "metadata": {
    "ExecuteTime": {
     "end_time": "2022-05-17T23:26:05.218634Z",
     "start_time": "2022-05-17T23:26:04.451550Z"
    }
   },
   "outputs": [
    {
     "data": {
      "image/png": "[encoded data removed]",
      "text/plain": [
       "<Figure size 432x432 with 2 Axes>"
      ]
     },
     "metadata": {
      "needs_background": "light"
     },
     "output_type": "display_data"
    }
   ],
   "source": [
    "fig, (ax0, ax1) = plt.subplots(nrows=2, sharex=True, figsize=(6, 6))\n",
    "ax0.plot(\n",
    "    np.arange(1, pca.n_components_ + 1), pca.explained_variance_ratio_, \"+\", linewidth=2\n",
    ")\n",
    "ax0.set_ylabel(\"PCA explained variance ratio\")\n",
    "\n",
    "\n",
    "# For each number of components, find the best classifier results\n",
    "results = pd.DataFrame(search.cv_results_)\n",
    "components_col = \"param_pca__n_components\"\n",
    "best_clfs = results.groupby(components_col).apply(\n",
    "    lambda g: g.nlargest(1, \"mean_test_score\")\n",
    ")\n",
    "\n",
    "best_clfs.plot(\n",
    "    x=components_col, y=\"mean_test_score\", yerr=\"std_test_score\", legend=False, ax=ax1\n",
    ")\n",
    "ax1.set_ylabel(\"Classification accuracy (val)\")\n",
    "ax1.set_xlabel(\"n_components\")\n",
    "\n",
    "plt.xlim(-1, 40)\n",
    "\n",
    "plt.tight_layout()\n",
    "plt.show()"
   ]
  },
  {
   "cell_type": "code",
   "execution_count": 19,
   "metadata": {
    "ExecuteTime": {
     "end_time": "2022-05-17T23:26:05.225571Z",
     "start_time": "2022-05-17T23:26:05.220722Z"
    }
   },
   "outputs": [
    {
     "data": {
      "text/plain": [
       "0.6798681019540526"
      ]
     },
     "execution_count": 19,
     "metadata": {},
     "output_type": "execute_result"
    }
   ],
   "source": [
    "# 5 components make up ~70% of the variance ratio\n",
    "sum(pca.explained_variance_ratio_[:5])"
   ]
  },
  {
   "cell_type": "code",
   "execution_count": 20,
   "metadata": {
    "ExecuteTime": {
     "end_time": "2022-05-17T23:26:07.652444Z",
     "start_time": "2022-05-17T23:26:05.228094Z"
    }
   },
   "outputs": [
    {
     "data": {
      "text/html": [
       "<div>\n",
       "<style scoped>\n",
       "    .dataframe tbody tr th:only-of-type {\n",
       "        vertical-align: middle;\n",
       "    }\n",
       "\n",
       "    .dataframe tbody tr th {\n",
       "        vertical-align: top;\n",
       "    }\n",
       "\n",
       "    .dataframe thead th {\n",
       "        text-align: right;\n",
       "    }\n",
       "</style>\n",
       "<table border=\"1\" class=\"dataframe\">\n",
       "  <thead>\n",
       "    <tr style=\"text-align: right;\">\n",
       "      <th></th>\n",
       "      <th>pr_comp_0</th>\n",
       "      <th>pr_comp_1</th>\n",
       "      <th>pr_comp_2</th>\n",
       "      <th>pr_comp_3</th>\n",
       "      <th>pr_comp_4</th>\n",
       "      <th>pr_comp_5</th>\n",
       "      <th>pr_comp_6</th>\n",
       "      <th>pr_comp_7</th>\n",
       "      <th>pr_comp_8</th>\n",
       "      <th>pr_comp_9</th>\n",
       "      <th>...</th>\n",
       "      <th>pr_comp_36</th>\n",
       "      <th>pr_comp_37</th>\n",
       "      <th>pr_comp_38</th>\n",
       "      <th>pr_comp_39</th>\n",
       "      <th>pr_comp_40</th>\n",
       "      <th>pr_comp_41</th>\n",
       "      <th>pr_comp_42</th>\n",
       "      <th>pr_comp_43</th>\n",
       "      <th>pr_comp_44</th>\n",
       "      <th>pr_comp_45</th>\n",
       "    </tr>\n",
       "  </thead>\n",
       "  <tbody>\n",
       "    <tr>\n",
       "      <th>0</th>\n",
       "      <td>-0.511173</td>\n",
       "      <td>-1.150342</td>\n",
       "      <td>-2.918773</td>\n",
       "      <td>1.119977</td>\n",
       "      <td>-0.867626</td>\n",
       "      <td>0.742630</td>\n",
       "      <td>-2.099556</td>\n",
       "      <td>-0.830458</td>\n",
       "      <td>-0.155588</td>\n",
       "      <td>1.837884</td>\n",
       "      <td>...</td>\n",
       "      <td>0.001669</td>\n",
       "      <td>-0.003694</td>\n",
       "      <td>-0.001554</td>\n",
       "      <td>-0.000738</td>\n",
       "      <td>0.011634</td>\n",
       "      <td>-0.003454</td>\n",
       "      <td>0.004878</td>\n",
       "      <td>-0.001183</td>\n",
       "      <td>0.001121</td>\n",
       "      <td>0.000527</td>\n",
       "    </tr>\n",
       "    <tr>\n",
       "      <th>1</th>\n",
       "      <td>1.213220</td>\n",
       "      <td>-1.029409</td>\n",
       "      <td>0.220203</td>\n",
       "      <td>-0.192316</td>\n",
       "      <td>-1.352379</td>\n",
       "      <td>-0.116089</td>\n",
       "      <td>0.678916</td>\n",
       "      <td>0.264459</td>\n",
       "      <td>1.523873</td>\n",
       "      <td>2.623221</td>\n",
       "      <td>...</td>\n",
       "      <td>-0.006638</td>\n",
       "      <td>-0.019261</td>\n",
       "      <td>0.007874</td>\n",
       "      <td>-0.012455</td>\n",
       "      <td>-0.006520</td>\n",
       "      <td>0.007737</td>\n",
       "      <td>-0.008075</td>\n",
       "      <td>-0.001469</td>\n",
       "      <td>0.003107</td>\n",
       "      <td>0.000886</td>\n",
       "    </tr>\n",
       "    <tr>\n",
       "      <th>2</th>\n",
       "      <td>-0.849960</td>\n",
       "      <td>-1.479410</td>\n",
       "      <td>-1.960543</td>\n",
       "      <td>1.024675</td>\n",
       "      <td>1.130333</td>\n",
       "      <td>0.712149</td>\n",
       "      <td>0.824783</td>\n",
       "      <td>-0.234126</td>\n",
       "      <td>0.090909</td>\n",
       "      <td>0.334793</td>\n",
       "      <td>...</td>\n",
       "      <td>0.000716</td>\n",
       "      <td>0.011111</td>\n",
       "      <td>-0.000874</td>\n",
       "      <td>0.002423</td>\n",
       "      <td>0.005049</td>\n",
       "      <td>-0.000416</td>\n",
       "      <td>0.002627</td>\n",
       "      <td>-0.003819</td>\n",
       "      <td>0.000458</td>\n",
       "      <td>0.000103</td>\n",
       "    </tr>\n",
       "    <tr>\n",
       "      <th>3</th>\n",
       "      <td>-0.559524</td>\n",
       "      <td>-2.789957</td>\n",
       "      <td>-1.310205</td>\n",
       "      <td>0.202896</td>\n",
       "      <td>0.114660</td>\n",
       "      <td>-1.142976</td>\n",
       "      <td>-1.207248</td>\n",
       "      <td>1.042224</td>\n",
       "      <td>1.125614</td>\n",
       "      <td>1.481292</td>\n",
       "      <td>...</td>\n",
       "      <td>0.000740</td>\n",
       "      <td>0.007313</td>\n",
       "      <td>-0.002985</td>\n",
       "      <td>0.001579</td>\n",
       "      <td>0.001377</td>\n",
       "      <td>0.000319</td>\n",
       "      <td>-0.004831</td>\n",
       "      <td>0.008245</td>\n",
       "      <td>0.000423</td>\n",
       "      <td>0.000341</td>\n",
       "    </tr>\n",
       "    <tr>\n",
       "      <th>4</th>\n",
       "      <td>-0.821213</td>\n",
       "      <td>-0.615103</td>\n",
       "      <td>-2.716799</td>\n",
       "      <td>1.144302</td>\n",
       "      <td>-0.341379</td>\n",
       "      <td>0.779282</td>\n",
       "      <td>-1.777897</td>\n",
       "      <td>-1.760264</td>\n",
       "      <td>0.409889</td>\n",
       "      <td>0.780316</td>\n",
       "      <td>...</td>\n",
       "      <td>-0.001144</td>\n",
       "      <td>-0.002382</td>\n",
       "      <td>-0.002192</td>\n",
       "      <td>-0.001114</td>\n",
       "      <td>0.009634</td>\n",
       "      <td>-0.002410</td>\n",
       "      <td>0.003659</td>\n",
       "      <td>-0.001586</td>\n",
       "      <td>-0.000719</td>\n",
       "      <td>-0.000227</td>\n",
       "    </tr>\n",
       "  </tbody>\n",
       "</table>\n",
       "<p>5 rows × 46 columns</p>\n",
       "</div>"
      ],
      "text/plain": [
       "   pr_comp_0  pr_comp_1  pr_comp_2  pr_comp_3  pr_comp_4  pr_comp_5  \\\n",
       "0  -0.511173  -1.150342  -2.918773   1.119977  -0.867626   0.742630   \n",
       "1   1.213220  -1.029409   0.220203  -0.192316  -1.352379  -0.116089   \n",
       "2  -0.849960  -1.479410  -1.960543   1.024675   1.130333   0.712149   \n",
       "3  -0.559524  -2.789957  -1.310205   0.202896   0.114660  -1.142976   \n",
       "4  -0.821213  -0.615103  -2.716799   1.144302  -0.341379   0.779282   \n",
       "\n",
       "   pr_comp_6  pr_comp_7  pr_comp_8  pr_comp_9  ...  pr_comp_36  pr_comp_37  \\\n",
       "0  -2.099556  -0.830458  -0.155588   1.837884  ...    0.001669   -0.003694   \n",
       "1   0.678916   0.264459   1.523873   2.623221  ...   -0.006638   -0.019261   \n",
       "2   0.824783  -0.234126   0.090909   0.334793  ...    0.000716    0.011111   \n",
       "3  -1.207248   1.042224   1.125614   1.481292  ...    0.000740    0.007313   \n",
       "4  -1.777897  -1.760264   0.409889   0.780316  ...   -0.001144   -0.002382   \n",
       "\n",
       "   pr_comp_38  pr_comp_39  pr_comp_40  pr_comp_41  pr_comp_42  pr_comp_43  \\\n",
       "0   -0.001554   -0.000738    0.011634   -0.003454    0.004878   -0.001183   \n",
       "1    0.007874   -0.012455   -0.006520    0.007737   -0.008075   -0.001469   \n",
       "2   -0.000874    0.002423    0.005049   -0.000416    0.002627   -0.003819   \n",
       "3   -0.002985    0.001579    0.001377    0.000319   -0.004831    0.008245   \n",
       "4   -0.002192   -0.001114    0.009634   -0.002410    0.003659   -0.001586   \n",
       "\n",
       "   pr_comp_44  pr_comp_45  \n",
       "0    0.001121    0.000527  \n",
       "1    0.003107    0.000886  \n",
       "2    0.000458    0.000103  \n",
       "3    0.000423    0.000341  \n",
       "4   -0.000719   -0.000227  \n",
       "\n",
       "[5 rows x 46 columns]"
      ]
     },
     "execution_count": 20,
     "metadata": {},
     "output_type": "execute_result"
    }
   ],
   "source": [
    "# map the pc's to a dataframe \n",
    "pca_df = pd.DataFrame(pca.transform(full_processor.fit_transform(X)),\n",
    "                      columns=['pr_comp_' + str(i) for i in range(full_processor.fit_transform(X).shape[1])])\n",
    "pca_df.head()"
   ]
  },
  {
   "cell_type": "markdown",
   "metadata": {},
   "source": [
    "#### Modeling with the priciple components"
   ]
  },
  {
   "cell_type": "code",
   "execution_count": 21,
   "metadata": {
    "ExecuteTime": {
     "end_time": "2022-05-17T23:26:07.662860Z",
     "start_time": "2022-05-17T23:26:07.655921Z"
    }
   },
   "outputs": [],
   "source": [
    "pca_df['deaths_per_hun_thou'] = list(df.deaths_per_hun_thou)"
   ]
  },
  {
   "cell_type": "code",
   "execution_count": 22,
   "metadata": {
    "ExecuteTime": {
     "end_time": "2022-05-17T23:26:07.732067Z",
     "start_time": "2022-05-17T23:26:07.670128Z"
    }
   },
   "outputs": [
    {
     "data": {
      "text/plain": [
       "(0.76, '+-', 0.04)"
      ]
     },
     "execution_count": 22,
     "metadata": {},
     "output_type": "execute_result"
    }
   ],
   "source": [
    "# determine the precision score with standard deviation\n",
    "lr = LogisticRegression(C=10000, penalty='l2')\n",
    "\n",
    "scores = cross_val_score(lr,\n",
    "                         pca_df.iloc[:, :5],\n",
    "                         pca_df.iloc[:, -1],\n",
    "                         cv=KFold(n_splits=5,\n",
    "                                  shuffle=True,\n",
    "                                  random_state=73))\n",
    "\n",
    "round(scores.mean(), 2), '+-', round(2 * scores.std(), 2)"
   ]
  },
  {
   "cell_type": "code",
   "execution_count": 23,
   "metadata": {
    "ExecuteTime": {
     "end_time": "2022-05-17T23:26:07.746268Z",
     "start_time": "2022-05-17T23:26:07.741357Z"
    }
   },
   "outputs": [],
   "source": [
    "# combine coeff values and description\n",
    "# based off of GridSearches best estimates\n",
    "coeff_val = np.exp(search.best_estimator_.named_steps.model.coef_)\n",
    "\n",
    "coeff = numerical_features_t\n",
    "coeff_zip = zip(coeff,coeff_val[0])\n",
    "c_l = list(coeff_zip)"
   ]
  },
  {
   "cell_type": "code",
   "execution_count": 24,
   "metadata": {
    "ExecuteTime": {
     "end_time": "2022-05-17T23:26:07.762687Z",
     "start_time": "2022-05-17T23:26:07.749372Z"
    }
   },
   "outputs": [
    {
     "data": {
      "text/html": [
       "<div>\n",
       "<style scoped>\n",
       "    .dataframe tbody tr th:only-of-type {\n",
       "        vertical-align: middle;\n",
       "    }\n",
       "\n",
       "    .dataframe tbody tr th {\n",
       "        vertical-align: top;\n",
       "    }\n",
       "\n",
       "    .dataframe thead th {\n",
       "        text-align: right;\n",
       "    }\n",
       "</style>\n",
       "<table border=\"1\" class=\"dataframe\">\n",
       "  <thead>\n",
       "    <tr style=\"text-align: right;\">\n",
       "      <th></th>\n",
       "      <th>Coefficient</th>\n",
       "      <th>Value</th>\n",
       "      <th>abs_Val</th>\n",
       "    </tr>\n",
       "  </thead>\n",
       "  <tbody>\n",
       "    <tr>\n",
       "      <th>23</th>\n",
       "      <td>land_area_sqmi</td>\n",
       "      <td>7.591920</td>\n",
       "      <td>7.591920</td>\n",
       "    </tr>\n",
       "    <tr>\n",
       "      <th>24</th>\n",
       "      <td>population_density</td>\n",
       "      <td>3.683402</td>\n",
       "      <td>3.683402</td>\n",
       "    </tr>\n",
       "    <tr>\n",
       "      <th>6</th>\n",
       "      <td>transmission_level_low</td>\n",
       "      <td>2.117597</td>\n",
       "      <td>2.117597</td>\n",
       "    </tr>\n",
       "    <tr>\n",
       "      <th>12</th>\n",
       "      <td>cases_per_10k</td>\n",
       "      <td>1.889795</td>\n",
       "      <td>1.889795</td>\n",
       "    </tr>\n",
       "    <tr>\n",
       "      <th>21</th>\n",
       "      <td>trump_votes</td>\n",
       "      <td>1.567597</td>\n",
       "      <td>1.567597</td>\n",
       "    </tr>\n",
       "  </tbody>\n",
       "</table>\n",
       "</div>"
      ],
      "text/plain": [
       "               Coefficient     Value   abs_Val\n",
       "23          land_area_sqmi  7.591920  7.591920\n",
       "24      population_density  3.683402  3.683402\n",
       "6   transmission_level_low  2.117597  2.117597\n",
       "12           cases_per_10k  1.889795  1.889795\n",
       "21             trump_votes  1.567597  1.567597"
      ]
     },
     "execution_count": 24,
     "metadata": {},
     "output_type": "execute_result"
    }
   ],
   "source": [
    "# map to dataframe and sort for readablity\n",
    "# Coeffecients that explain the HIGHEST varience in the target\n",
    "df_fin =  pd.DataFrame(c_l,columns = ['Coefficient', 'Value'])\n",
    "df_fin['abs_Val'] = df_fin['Value'].map(lambda x : abs(x))\n",
    "df_fin.sort_values(by = 'abs_Val', ascending  = False)[:5]"
   ]
  },
  {
   "cell_type": "code",
   "execution_count": 25,
   "metadata": {
    "ExecuteTime": {
     "end_time": "2022-05-17T23:26:07.778241Z",
     "start_time": "2022-05-17T23:26:07.766427Z"
    }
   },
   "outputs": [
    {
     "data": {
      "text/html": [
       "<div>\n",
       "<style scoped>\n",
       "    .dataframe tbody tr th:only-of-type {\n",
       "        vertical-align: middle;\n",
       "    }\n",
       "\n",
       "    .dataframe tbody tr th {\n",
       "        vertical-align: top;\n",
       "    }\n",
       "\n",
       "    .dataframe thead th {\n",
       "        text-align: right;\n",
       "    }\n",
       "</style>\n",
       "<table border=\"1\" class=\"dataframe\">\n",
       "  <thead>\n",
       "    <tr style=\"text-align: right;\">\n",
       "      <th></th>\n",
       "      <th>Coefficient</th>\n",
       "      <th>Value</th>\n",
       "      <th>abs_Val</th>\n",
       "    </tr>\n",
       "  </thead>\n",
       "  <tbody>\n",
       "    <tr>\n",
       "      <th>22</th>\n",
       "      <td>total_votes</td>\n",
       "      <td>0.009007</td>\n",
       "      <td>0.009007</td>\n",
       "    </tr>\n",
       "    <tr>\n",
       "      <th>5</th>\n",
       "      <td>transmission_level_high</td>\n",
       "      <td>0.112442</td>\n",
       "      <td>0.112442</td>\n",
       "    </tr>\n",
       "    <tr>\n",
       "      <th>8</th>\n",
       "      <td>transmission_level_substantial</td>\n",
       "      <td>0.119651</td>\n",
       "      <td>0.119651</td>\n",
       "    </tr>\n",
       "    <tr>\n",
       "      <th>15</th>\n",
       "      <td>mask_rarely</td>\n",
       "      <td>0.240096</td>\n",
       "      <td>0.240096</td>\n",
       "    </tr>\n",
       "    <tr>\n",
       "      <th>0</th>\n",
       "      <td>cases</td>\n",
       "      <td>0.297332</td>\n",
       "      <td>0.297332</td>\n",
       "    </tr>\n",
       "  </tbody>\n",
       "</table>\n",
       "</div>"
      ],
      "text/plain": [
       "                       Coefficient     Value   abs_Val\n",
       "22                     total_votes  0.009007  0.009007\n",
       "5          transmission_level_high  0.112442  0.112442\n",
       "8   transmission_level_substantial  0.119651  0.119651\n",
       "15                     mask_rarely  0.240096  0.240096\n",
       "0                            cases  0.297332  0.297332"
      ]
     },
     "execution_count": 25,
     "metadata": {},
     "output_type": "execute_result"
    }
   ],
   "source": [
    "# Coeffecients that explain the LOWEST varience in the target\n",
    "df_fin.sort_values(by = 'abs_Val', ascending  = True)[:5]"
   ]
  }
 ],
 "metadata": {
  "kernelspec": {
   "display_name": "Python 3",
   "language": "python",
   "name": "python3"
  },
  "language_info": {
   "codemirror_mode": {
    "name": "ipython",
    "version": 3
   },
   "file_extension": ".py",
   "mimetype": "text/x-python",
   "name": "python",
   "nbconvert_exporter": "python",
   "pygments_lexer": "ipython3",
   "version": "3.7.4"
  }
 },
 "nbformat": 4,
 "nbformat_minor": 5
}
