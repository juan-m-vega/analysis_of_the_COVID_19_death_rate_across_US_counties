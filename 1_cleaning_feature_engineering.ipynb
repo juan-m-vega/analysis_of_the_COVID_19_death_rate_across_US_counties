{
 "cells": [
  {
   "cell_type": "code",
   "execution_count": 1,
   "metadata": {
    "ExecuteTime": {
     "end_time": "2022-05-17T21:36:40.174727Z",
     "start_time": "2022-05-17T21:36:38.129042Z"
    }
   },
   "outputs": [],
   "source": [
    "import pandas as pd\n",
    "import numpy as np\n",
    "import matplotlib.pyplot as plt\n",
    "import seaborn as sns\n",
    "\n",
    "import warnings\n",
    "warnings.filterwarnings('ignore')"
   ]
  },
  {
   "cell_type": "code",
   "execution_count": 2,
   "metadata": {
    "ExecuteTime": {
     "end_time": "2022-05-17T21:36:40.282382Z",
     "start_time": "2022-05-17T21:36:40.178075Z"
    }
   },
   "outputs": [],
   "source": [
    "#import case data\n",
    "county_cases = pd.read_csv('./data/us-counties-recent.csv',dtype={'fips':str, 'date':str})"
   ]
  },
  {
   "cell_type": "code",
   "execution_count": 3,
   "metadata": {
    "ExecuteTime": {
     "end_time": "2022-05-17T21:36:40.297960Z",
     "start_time": "2022-05-17T21:36:40.285334Z"
    }
   },
   "outputs": [],
   "source": [
    "#selecting only the most recent data\n",
    "county_cases = county_cases[county_cases['date'] == str(pd.to_datetime(county_cases['date']).max()).split(' 00:')[0]]"
   ]
  },
  {
   "cell_type": "code",
   "execution_count": 4,
   "metadata": {
    "ExecuteTime": {
     "end_time": "2022-05-17T21:36:40.320264Z",
     "start_time": "2022-05-17T21:36:40.313668Z"
    }
   },
   "outputs": [],
   "source": [
    "#selecting the relevant columns for out analysis\n",
    "county_cases = county_cases[['county','state','fips','cases','deaths']]"
   ]
  },
  {
   "cell_type": "code",
   "execution_count": 5,
   "metadata": {
    "ExecuteTime": {
     "end_time": "2022-05-17T21:36:40.923019Z",
     "start_time": "2022-05-17T21:36:40.918657Z"
    }
   },
   "outputs": [],
   "source": [
    "#dropping rows where deaths is null (just Puerto Rico)\n",
    "county_cases = county_cases[county_cases['deaths'] >= 0]"
   ]
  },
  {
   "cell_type": "code",
   "execution_count": 6,
   "metadata": {
    "ExecuteTime": {
     "end_time": "2022-05-17T21:36:41.463321Z",
     "start_time": "2022-05-17T21:36:41.458527Z"
    }
   },
   "outputs": [],
   "source": [
    "#selecting only the rows that have county information\n",
    "county_cases = county_cases[county_cases['fips'].isnull() == False]"
   ]
  },
  {
   "cell_type": "code",
   "execution_count": 7,
   "metadata": {
    "ExecuteTime": {
     "end_time": "2022-05-17T21:36:42.047242Z",
     "start_time": "2022-05-17T21:36:42.043389Z"
    }
   },
   "outputs": [],
   "source": [
    "#rename fips columns for merging purposes\n",
    "county_cases.rename(columns={'fips':'county_fips_code'}, inplace=True)"
   ]
  },
  {
   "cell_type": "code",
   "execution_count": 8,
   "metadata": {
    "ExecuteTime": {
     "end_time": "2022-05-17T21:36:46.496349Z",
     "start_time": "2022-05-17T21:36:42.537083Z"
    }
   },
   "outputs": [],
   "source": [
    "census_pop = pd.read_csv('./data/cc-est2019-alldata.csv',\n",
    "                         encoding = \"ISO-8859-1\",dtype={'STATE':str,\n",
    "                                                        'COUNTY':str})"
   ]
  },
  {
   "cell_type": "code",
   "execution_count": 9,
   "metadata": {
    "ExecuteTime": {
     "end_time": "2022-05-17T21:36:47.975424Z",
     "start_time": "2022-05-17T21:36:47.848910Z"
    }
   },
   "outputs": [],
   "source": [
    "#selecting the relevant information from the census dataset\n",
    "census_pop = census_pop[(census_pop['AGEGRP'] == 0) & (\n",
    "    census_pop['YEAR']==12) & (census_pop['SUMLEV']==50)]\n",
    "census_pop = census_pop[['STNAME','CTYNAME','STATE','COUNTY','TOT_POP']]\n",
    "census_pop['COUNTY'] = census_pop['STATE'] + census_pop['COUNTY']\n",
    "census_pop.rename(columns={'COUNTY':'county_fips_code'},inplace=True)\n",
    "census_pop.columns = census_pop.columns.str.lower()\n",
    "census_pop.drop(columns='state',inplace=True)"
   ]
  },
  {
   "cell_type": "code",
   "execution_count": 10,
   "metadata": {
    "ExecuteTime": {
     "end_time": "2022-05-17T21:36:48.887079Z",
     "start_time": "2022-05-17T21:36:48.861774Z"
    }
   },
   "outputs": [],
   "source": [
    "#merging the data\n",
    "county_cases = county_cases.merge(census_pop,how='left',on='county_fips_code')"
   ]
  },
  {
   "cell_type": "code",
   "execution_count": 11,
   "metadata": {
    "ExecuteTime": {
     "end_time": "2022-05-17T21:36:49.525160Z",
     "start_time": "2022-05-17T21:36:49.515416Z"
    }
   },
   "outputs": [],
   "source": [
    "#creating our target variable deaths per hundred thousand population\n",
    "county_cases['deaths_per_hun_thou'] = 100_000 * (\n",
    "    county_cases['deaths'] / county_cases['tot_pop'])"
   ]
  },
  {
   "cell_type": "code",
   "execution_count": 12,
   "metadata": {
    "ExecuteTime": {
     "end_time": "2022-05-17T21:36:50.288217Z",
     "start_time": "2022-05-17T21:36:50.256059Z"
    }
   },
   "outputs": [
    {
     "data": {
      "text/html": [
       "<div>\n",
       "<style scoped>\n",
       "    .dataframe tbody tr th:only-of-type {\n",
       "        vertical-align: middle;\n",
       "    }\n",
       "\n",
       "    .dataframe tbody tr th {\n",
       "        vertical-align: top;\n",
       "    }\n",
       "\n",
       "    .dataframe thead th {\n",
       "        text-align: right;\n",
       "    }\n",
       "</style>\n",
       "<table border=\"1\" class=\"dataframe\">\n",
       "  <thead>\n",
       "    <tr style=\"text-align: right;\">\n",
       "      <th></th>\n",
       "      <th>county</th>\n",
       "      <th>state</th>\n",
       "      <th>county_fips_code</th>\n",
       "      <th>cases</th>\n",
       "      <th>deaths</th>\n",
       "      <th>stname</th>\n",
       "      <th>ctyname</th>\n",
       "      <th>tot_pop</th>\n",
       "      <th>deaths_per_hun_thou</th>\n",
       "    </tr>\n",
       "  </thead>\n",
       "  <tbody>\n",
       "    <tr>\n",
       "      <th>71</th>\n",
       "      <td>Bristol Bay plus Lake and Peninsula</td>\n",
       "      <td>Alaska</td>\n",
       "      <td>02997</td>\n",
       "      <td>616</td>\n",
       "      <td>1.0</td>\n",
       "      <td>NaN</td>\n",
       "      <td>NaN</td>\n",
       "      <td>NaN</td>\n",
       "      <td>NaN</td>\n",
       "    </tr>\n",
       "    <tr>\n",
       "      <th>92</th>\n",
       "      <td>Yakutat plus Hoonah-Angoon</td>\n",
       "      <td>Alaska</td>\n",
       "      <td>02998</td>\n",
       "      <td>381</td>\n",
       "      <td>4.0</td>\n",
       "      <td>NaN</td>\n",
       "      <td>NaN</td>\n",
       "      <td>NaN</td>\n",
       "      <td>NaN</td>\n",
       "    </tr>\n",
       "    <tr>\n",
       "      <th>2036</th>\n",
       "      <td>Saipan</td>\n",
       "      <td>Northern Mariana Islands</td>\n",
       "      <td>69110</td>\n",
       "      <td>3507</td>\n",
       "      <td>18.0</td>\n",
       "      <td>NaN</td>\n",
       "      <td>NaN</td>\n",
       "      <td>NaN</td>\n",
       "      <td>NaN</td>\n",
       "    </tr>\n",
       "    <tr>\n",
       "      <th>2037</th>\n",
       "      <td>Tinian</td>\n",
       "      <td>Northern Mariana Islands</td>\n",
       "      <td>69120</td>\n",
       "      <td>11</td>\n",
       "      <td>0.0</td>\n",
       "      <td>NaN</td>\n",
       "      <td>NaN</td>\n",
       "      <td>NaN</td>\n",
       "      <td>NaN</td>\n",
       "    </tr>\n",
       "    <tr>\n",
       "      <th>2704</th>\n",
       "      <td>Pending County Assignment</td>\n",
       "      <td>Texas</td>\n",
       "      <td>48999</td>\n",
       "      <td>65</td>\n",
       "      <td>0.0</td>\n",
       "      <td>NaN</td>\n",
       "      <td>NaN</td>\n",
       "      <td>NaN</td>\n",
       "      <td>NaN</td>\n",
       "    </tr>\n",
       "    <tr>\n",
       "      <th>2816</th>\n",
       "      <td>St. Croix</td>\n",
       "      <td>Virgin Islands</td>\n",
       "      <td>78010</td>\n",
       "      <td>6658</td>\n",
       "      <td>38.0</td>\n",
       "      <td>NaN</td>\n",
       "      <td>NaN</td>\n",
       "      <td>NaN</td>\n",
       "      <td>NaN</td>\n",
       "    </tr>\n",
       "    <tr>\n",
       "      <th>2817</th>\n",
       "      <td>St. John</td>\n",
       "      <td>Virgin Islands</td>\n",
       "      <td>78020</td>\n",
       "      <td>672</td>\n",
       "      <td>5.0</td>\n",
       "      <td>NaN</td>\n",
       "      <td>NaN</td>\n",
       "      <td>NaN</td>\n",
       "      <td>NaN</td>\n",
       "    </tr>\n",
       "    <tr>\n",
       "      <th>2818</th>\n",
       "      <td>St. Thomas</td>\n",
       "      <td>Virgin Islands</td>\n",
       "      <td>78030</td>\n",
       "      <td>6571</td>\n",
       "      <td>48.0</td>\n",
       "      <td>NaN</td>\n",
       "      <td>NaN</td>\n",
       "      <td>NaN</td>\n",
       "      <td>NaN</td>\n",
       "    </tr>\n",
       "  </tbody>\n",
       "</table>\n",
       "</div>"
      ],
      "text/plain": [
       "                                   county                     state  \\\n",
       "71    Bristol Bay plus Lake and Peninsula                    Alaska   \n",
       "92             Yakutat plus Hoonah-Angoon                    Alaska   \n",
       "2036                               Saipan  Northern Mariana Islands   \n",
       "2037                               Tinian  Northern Mariana Islands   \n",
       "2704            Pending County Assignment                     Texas   \n",
       "2816                            St. Croix            Virgin Islands   \n",
       "2817                             St. John            Virgin Islands   \n",
       "2818                           St. Thomas            Virgin Islands   \n",
       "\n",
       "     county_fips_code  cases  deaths stname ctyname  tot_pop  \\\n",
       "71              02997    616     1.0    NaN     NaN      NaN   \n",
       "92              02998    381     4.0    NaN     NaN      NaN   \n",
       "2036            69110   3507    18.0    NaN     NaN      NaN   \n",
       "2037            69120     11     0.0    NaN     NaN      NaN   \n",
       "2704            48999     65     0.0    NaN     NaN      NaN   \n",
       "2816            78010   6658    38.0    NaN     NaN      NaN   \n",
       "2817            78020    672     5.0    NaN     NaN      NaN   \n",
       "2818            78030   6571    48.0    NaN     NaN      NaN   \n",
       "\n",
       "      deaths_per_hun_thou  \n",
       "71                    NaN  \n",
       "92                    NaN  \n",
       "2036                  NaN  \n",
       "2037                  NaN  \n",
       "2704                  NaN  \n",
       "2816                  NaN  \n",
       "2817                  NaN  \n",
       "2818                  NaN  "
      ]
     },
     "execution_count": 12,
     "metadata": {},
     "output_type": "execute_result"
    }
   ],
   "source": [
    "#examining the nulls\n",
    "county_cases[county_cases['tot_pop'].isnull() == True]"
   ]
  },
  {
   "cell_type": "code",
   "execution_count": 13,
   "metadata": {
    "ExecuteTime": {
     "end_time": "2022-05-17T21:36:54.411255Z",
     "start_time": "2022-05-17T21:36:54.396231Z"
    }
   },
   "outputs": [],
   "source": [
    "#dropping the nulls\n",
    "county_cases.dropna(inplace=True)"
   ]
  },
  {
   "cell_type": "code",
   "execution_count": 14,
   "metadata": {
    "ExecuteTime": {
     "end_time": "2022-05-17T21:36:54.963612Z",
     "start_time": "2022-05-17T21:36:54.959463Z"
    }
   },
   "outputs": [],
   "source": [
    "#read in case data\n",
    "covid_cases = county_cases"
   ]
  },
  {
   "cell_type": "code",
   "execution_count": 15,
   "metadata": {
    "ExecuteTime": {
     "end_time": "2022-05-17T21:36:55.540144Z",
     "start_time": "2022-05-17T21:36:55.521705Z"
    }
   },
   "outputs": [
    {
     "data": {
      "text/html": [
       "<div>\n",
       "<style scoped>\n",
       "    .dataframe tbody tr th:only-of-type {\n",
       "        vertical-align: middle;\n",
       "    }\n",
       "\n",
       "    .dataframe tbody tr th {\n",
       "        vertical-align: top;\n",
       "    }\n",
       "\n",
       "    .dataframe thead th {\n",
       "        text-align: right;\n",
       "    }\n",
       "</style>\n",
       "<table border=\"1\" class=\"dataframe\">\n",
       "  <thead>\n",
       "    <tr style=\"text-align: right;\">\n",
       "      <th></th>\n",
       "      <th>county</th>\n",
       "      <th>state</th>\n",
       "      <th>county_fips_code</th>\n",
       "      <th>cases</th>\n",
       "      <th>deaths</th>\n",
       "      <th>stname</th>\n",
       "      <th>ctyname</th>\n",
       "      <th>tot_pop</th>\n",
       "      <th>deaths_per_hun_thou</th>\n",
       "    </tr>\n",
       "  </thead>\n",
       "  <tbody>\n",
       "    <tr>\n",
       "      <th>0</th>\n",
       "      <td>Autauga</td>\n",
       "      <td>Alabama</td>\n",
       "      <td>01001</td>\n",
       "      <td>12738</td>\n",
       "      <td>163.0</td>\n",
       "      <td>Alabama</td>\n",
       "      <td>Autauga County</td>\n",
       "      <td>55869.0</td>\n",
       "      <td>291.753924</td>\n",
       "    </tr>\n",
       "    <tr>\n",
       "      <th>1</th>\n",
       "      <td>Baldwin</td>\n",
       "      <td>Alabama</td>\n",
       "      <td>01003</td>\n",
       "      <td>47143</td>\n",
       "      <td>605.0</td>\n",
       "      <td>Alabama</td>\n",
       "      <td>Baldwin County</td>\n",
       "      <td>223234.0</td>\n",
       "      <td>271.016064</td>\n",
       "    </tr>\n",
       "    <tr>\n",
       "      <th>2</th>\n",
       "      <td>Barbour</td>\n",
       "      <td>Alabama</td>\n",
       "      <td>01005</td>\n",
       "      <td>4741</td>\n",
       "      <td>83.0</td>\n",
       "      <td>Alabama</td>\n",
       "      <td>Barbour County</td>\n",
       "      <td>24686.0</td>\n",
       "      <td>336.222960</td>\n",
       "    </tr>\n",
       "    <tr>\n",
       "      <th>3</th>\n",
       "      <td>Bibb</td>\n",
       "      <td>Alabama</td>\n",
       "      <td>01007</td>\n",
       "      <td>5385</td>\n",
       "      <td>95.0</td>\n",
       "      <td>Alabama</td>\n",
       "      <td>Bibb County</td>\n",
       "      <td>22394.0</td>\n",
       "      <td>424.220773</td>\n",
       "    </tr>\n",
       "    <tr>\n",
       "      <th>4</th>\n",
       "      <td>Blount</td>\n",
       "      <td>Alabama</td>\n",
       "      <td>01009</td>\n",
       "      <td>12648</td>\n",
       "      <td>203.0</td>\n",
       "      <td>Alabama</td>\n",
       "      <td>Blount County</td>\n",
       "      <td>57826.0</td>\n",
       "      <td>351.053159</td>\n",
       "    </tr>\n",
       "  </tbody>\n",
       "</table>\n",
       "</div>"
      ],
      "text/plain": [
       "    county    state county_fips_code  cases  deaths   stname         ctyname  \\\n",
       "0  Autauga  Alabama            01001  12738   163.0  Alabama  Autauga County   \n",
       "1  Baldwin  Alabama            01003  47143   605.0  Alabama  Baldwin County   \n",
       "2  Barbour  Alabama            01005   4741    83.0  Alabama  Barbour County   \n",
       "3     Bibb  Alabama            01007   5385    95.0  Alabama     Bibb County   \n",
       "4   Blount  Alabama            01009  12648   203.0  Alabama   Blount County   \n",
       "\n",
       "    tot_pop  deaths_per_hun_thou  \n",
       "0   55869.0           291.753924  \n",
       "1  223234.0           271.016064  \n",
       "2   24686.0           336.222960  \n",
       "3   22394.0           424.220773  \n",
       "4   57826.0           351.053159  "
      ]
     },
     "execution_count": 15,
     "metadata": {},
     "output_type": "execute_result"
    }
   ],
   "source": [
    "covid_cases.head()"
   ]
  },
  {
   "cell_type": "code",
   "execution_count": 16,
   "metadata": {
    "ExecuteTime": {
     "end_time": "2022-05-17T21:36:59.693756Z",
     "start_time": "2022-05-17T21:36:58.468774Z"
    }
   },
   "outputs": [],
   "source": [
    "#read in unemployment data\n",
    "unemp = pd.read_excel(\n",
    "    './data/laucnty20.xlsx',skiprows=range(0,5),dtype={\n",
    "        'Unnamed: 1':str,'Unnamed: 2':str})"
   ]
  },
  {
   "cell_type": "code",
   "execution_count": 17,
   "metadata": {
    "ExecuteTime": {
     "end_time": "2022-05-17T21:36:59.712879Z",
     "start_time": "2022-05-17T21:36:59.703189Z"
    }
   },
   "outputs": [],
   "source": [
    "unemp.drop(columns='Unnamed: 5',inplace=True)"
   ]
  },
  {
   "cell_type": "code",
   "execution_count": 18,
   "metadata": {
    "ExecuteTime": {
     "end_time": "2022-05-17T21:37:00.299446Z",
     "start_time": "2022-05-17T21:37:00.293315Z"
    }
   },
   "outputs": [],
   "source": [
    "#renaming the columns\n",
    "unemp.rename(columns={'Unnamed: 0': 'laus_code',\n",
    "                     'Unnamed: 1': 'state_fips_code',\n",
    "                     'Unnamed: 2': 'cnty_fips_code',\n",
    "                     'Unnamed: 3': 'cnty_name',\n",
    "                     'Unnamed: 4': 'year',\n",
    "                     'Unnamed: 5': 'labor_force',\n",
    "                     'Unnamed: 6': 'employed',\n",
    "                     'Unnamed: 7': 'unemployed',\n",
    "                     'Unnamed: 9': 'unemployment_rate'},inplace=True)"
   ]
  },
  {
   "cell_type": "code",
   "execution_count": 19,
   "metadata": {
    "ExecuteTime": {
     "end_time": "2022-05-17T21:37:02.860697Z",
     "start_time": "2022-05-17T21:37:02.856594Z"
    }
   },
   "outputs": [],
   "source": [
    "#creating county fips code from the county and state fips codes\n",
    "unemp['county_fips_code'] = unemp['state_fips_code'] + unemp['cnty_fips_code']"
   ]
  },
  {
   "cell_type": "code",
   "execution_count": 20,
   "metadata": {
    "ExecuteTime": {
     "end_time": "2022-05-17T21:37:03.481895Z",
     "start_time": "2022-05-17T21:37:03.464387Z"
    }
   },
   "outputs": [],
   "source": [
    "#merging the data\n",
    "covid_cases = covid_cases.merge(unemp[['county_fips_code',\n",
    "                                       'cnty_name',\n",
    "                                       'unemployment_rate']],\n",
    "                                how='left',on='county_fips_code')"
   ]
  },
  {
   "cell_type": "code",
   "execution_count": 21,
   "metadata": {
    "ExecuteTime": {
     "end_time": "2022-05-17T21:37:04.056508Z",
     "start_time": "2022-05-17T21:37:04.052170Z"
    }
   },
   "outputs": [],
   "source": [
    "#converting unemployment rate to float\n",
    "covid_cases['unemployment_rate'] = covid_cases['unemployment_rate'].astype(float)"
   ]
  },
  {
   "cell_type": "markdown",
   "metadata": {},
   "source": [
    "### Community Transmissibility\n",
    "\n",
    "The number of total new cases and the percentage of NAAT tests that are positive in a 7 day window per county are included in the United States COVID-19 County Level of Community Transmission as Originally Posted data set. The data are reported on a weekly basis and the level of community transmissibility as defined by the CDC (i.e., low,moderate,high,substantial is included in the data set.\n",
    "\n",
    "From this data set, for each county, find the median number of total new cases and percentage of positive tests per 7-day period and the percentage of report dates the county belonged to one of the community transmissibility levels."
   ]
  },
  {
   "cell_type": "code",
   "execution_count": 23,
   "metadata": {
    "ExecuteTime": {
     "end_time": "2022-05-17T21:42:21.977032Z",
     "start_time": "2022-05-17T21:42:19.311537Z"
    }
   },
   "outputs": [],
   "source": [
    "#importing the data\n",
    "comm_transmission = pd.read_csv('./data/United_States_COVID-19_County_Level_of_Community_Transmission_Historical_Changes.csv',\n",
    "                               dtype={'fips_code':str})"
   ]
  },
  {
   "cell_type": "code",
   "execution_count": 24,
   "metadata": {
    "ExecuteTime": {
     "end_time": "2022-05-17T21:42:28.340891Z",
     "start_time": "2022-05-17T21:42:25.704492Z"
    }
   },
   "outputs": [
    {
     "data": {
      "text/html": [
       "<div>\n",
       "<style scoped>\n",
       "    .dataframe tbody tr th:only-of-type {\n",
       "        vertical-align: middle;\n",
       "    }\n",
       "\n",
       "    .dataframe tbody tr th {\n",
       "        vertical-align: top;\n",
       "    }\n",
       "\n",
       "    .dataframe thead th {\n",
       "        text-align: right;\n",
       "    }\n",
       "</style>\n",
       "<table border=\"1\" class=\"dataframe\">\n",
       "  <thead>\n",
       "    <tr style=\"text-align: right;\">\n",
       "      <th></th>\n",
       "      <th>state_name</th>\n",
       "      <th>county_name</th>\n",
       "      <th>fips_code</th>\n",
       "      <th>date</th>\n",
       "      <th>cases_per_100K_7_day_count_change</th>\n",
       "      <th>percent_test_results_reported_positive_last_7_days</th>\n",
       "      <th>community_transmission_level</th>\n",
       "    </tr>\n",
       "  </thead>\n",
       "  <tbody>\n",
       "    <tr>\n",
       "      <th>1535094</th>\n",
       "      <td>Alabama</td>\n",
       "      <td>Autauga County</td>\n",
       "      <td>01001</td>\n",
       "      <td>01/01/2021</td>\n",
       "      <td>445.685</td>\n",
       "      <td>30.73</td>\n",
       "      <td>high</td>\n",
       "    </tr>\n",
       "    <tr>\n",
       "      <th>2573086</th>\n",
       "      <td>Alabama</td>\n",
       "      <td>Autauga County</td>\n",
       "      <td>01001</td>\n",
       "      <td>01/01/2022</td>\n",
       "      <td>417.047</td>\n",
       "      <td>32.97</td>\n",
       "      <td>high</td>\n",
       "    </tr>\n",
       "    <tr>\n",
       "      <th>2388231</th>\n",
       "      <td>Alabama</td>\n",
       "      <td>Autauga County</td>\n",
       "      <td>01001</td>\n",
       "      <td>01/02/2021</td>\n",
       "      <td>481.483</td>\n",
       "      <td>32.54</td>\n",
       "      <td>high</td>\n",
       "    </tr>\n",
       "    <tr>\n",
       "      <th>2696424</th>\n",
       "      <td>Alabama</td>\n",
       "      <td>Autauga County</td>\n",
       "      <td>01001</td>\n",
       "      <td>01/02/2022</td>\n",
       "      <td>707.011</td>\n",
       "      <td>32.45</td>\n",
       "      <td>high</td>\n",
       "    </tr>\n",
       "    <tr>\n",
       "      <th>1115872</th>\n",
       "      <td>Alabama</td>\n",
       "      <td>Autauga County</td>\n",
       "      <td>01001</td>\n",
       "      <td>01/03/2021</td>\n",
       "      <td>494.013</td>\n",
       "      <td>33.17</td>\n",
       "      <td>high</td>\n",
       "    </tr>\n",
       "  </tbody>\n",
       "</table>\n",
       "</div>"
      ],
      "text/plain": [
       "        state_name     county_name fips_code        date  \\\n",
       "1535094    Alabama  Autauga County     01001  01/01/2021   \n",
       "2573086    Alabama  Autauga County     01001  01/01/2022   \n",
       "2388231    Alabama  Autauga County     01001  01/02/2021   \n",
       "2696424    Alabama  Autauga County     01001  01/02/2022   \n",
       "1115872    Alabama  Autauga County     01001  01/03/2021   \n",
       "\n",
       "        cases_per_100K_7_day_count_change  \\\n",
       "1535094                           445.685   \n",
       "2573086                           417.047   \n",
       "2388231                           481.483   \n",
       "2696424                           707.011   \n",
       "1115872                           494.013   \n",
       "\n",
       "         percent_test_results_reported_positive_last_7_days  \\\n",
       "1535094                                              30.73    \n",
       "2573086                                              32.97    \n",
       "2388231                                              32.54    \n",
       "2696424                                              32.45    \n",
       "1115872                                              33.17    \n",
       "\n",
       "        community_transmission_level  \n",
       "1535094                         high  \n",
       "2573086                         high  \n",
       "2388231                         high  \n",
       "2696424                         high  \n",
       "1115872                         high  "
      ]
     },
     "execution_count": 24,
     "metadata": {},
     "output_type": "execute_result"
    }
   ],
   "source": [
    "comm_transmission.sort_values(['fips_code','date']).head()"
   ]
  },
  {
   "cell_type": "code",
   "execution_count": 25,
   "metadata": {
    "ExecuteTime": {
     "end_time": "2022-05-17T21:42:33.348965Z",
     "start_time": "2022-05-17T21:42:30.135653Z"
    }
   },
   "outputs": [],
   "source": [
    "#changing supressed value in number of new cases feature to NaN\n",
    "\n",
    "comm_transmission['cases_per_100K_7_day_count_change'] = comm_transmission[\n",
    "    'cases_per_100K_7_day_count_change'].\\\n",
    "    replace('suppressed',np.nan).replace(',','',regex=True).astype(float)\n",
    "\n",
    "# This resource was helpful in converting the string feature to a float type variable.\n",
    "# https://stackoverflow.com/questions/44966528/pandas-astype-error-string-to-float-could-not-convert-string-to-float-7-50"
   ]
  },
  {
   "cell_type": "markdown",
   "metadata": {},
   "source": [
    "#### For each county, calculate the median number of new cases and percentage of positive tests per reporting period"
   ]
  },
  {
   "cell_type": "code",
   "execution_count": 26,
   "metadata": {
    "ExecuteTime": {
     "end_time": "2022-05-17T21:42:34.329147Z",
     "start_time": "2022-05-17T21:42:34.074155Z"
    }
   },
   "outputs": [],
   "source": [
    "med_cases_per_100k_change = pd.DataFrame(comm_transmission.groupby(\n",
    "    'fips_code')['cases_per_100K_7_day_count_change'].median())"
   ]
  },
  {
   "cell_type": "code",
   "execution_count": 27,
   "metadata": {
    "ExecuteTime": {
     "end_time": "2022-05-17T21:42:34.977919Z",
     "start_time": "2022-05-17T21:42:34.972767Z"
    }
   },
   "outputs": [],
   "source": [
    "med_cases_per_100k_change['fips_code'] = med_cases_per_100k_change.index"
   ]
  },
  {
   "cell_type": "code",
   "execution_count": 28,
   "metadata": {
    "ExecuteTime": {
     "end_time": "2022-05-17T21:42:35.694387Z",
     "start_time": "2022-05-17T21:42:35.691078Z"
    }
   },
   "outputs": [],
   "source": [
    "med_cases_per_100k_change.reset_index(inplace=True,drop=True)"
   ]
  },
  {
   "cell_type": "code",
   "execution_count": 29,
   "metadata": {
    "ExecuteTime": {
     "end_time": "2022-05-17T21:42:36.470568Z",
     "start_time": "2022-05-17T21:42:36.465591Z"
    }
   },
   "outputs": [],
   "source": [
    "med_cases_per_100k_change.rename(columns={\n",
    "    'cases_per_100K_7_day_count_change':'med_cases_per_100k_change'},\n",
    "                                inplace=True)"
   ]
  },
  {
   "cell_type": "code",
   "execution_count": 30,
   "metadata": {
    "ExecuteTime": {
     "end_time": "2022-05-17T21:42:37.553465Z",
     "start_time": "2022-05-17T21:42:37.335791Z"
    }
   },
   "outputs": [],
   "source": [
    "med_per_test_results_positive = pd.DataFrame(comm_transmission.groupby(\n",
    "    'fips_code')['percent_test_results_reported_positive_last_7_days'].median())"
   ]
  },
  {
   "cell_type": "code",
   "execution_count": 31,
   "metadata": {
    "ExecuteTime": {
     "end_time": "2022-05-17T21:42:38.194821Z",
     "start_time": "2022-05-17T21:42:38.190707Z"
    }
   },
   "outputs": [],
   "source": [
    "med_per_test_results_positive['fips_code'] = med_per_test_results_positive.index"
   ]
  },
  {
   "cell_type": "code",
   "execution_count": 32,
   "metadata": {
    "ExecuteTime": {
     "end_time": "2022-05-17T21:42:39.162103Z",
     "start_time": "2022-05-17T21:42:39.158575Z"
    }
   },
   "outputs": [],
   "source": [
    "med_per_test_results_positive.reset_index(drop=True,inplace=True)"
   ]
  },
  {
   "cell_type": "code",
   "execution_count": 33,
   "metadata": {
    "ExecuteTime": {
     "end_time": "2022-05-17T21:42:40.467081Z",
     "start_time": "2022-05-17T21:42:40.463080Z"
    }
   },
   "outputs": [],
   "source": [
    "med_per_test_results_positive.rename(columns={\n",
    "    'percent_test_results_reported_positive_last_7_days':'med_per_test_results_positive'},\n",
    "                                inplace=True)"
   ]
  },
  {
   "cell_type": "code",
   "execution_count": 34,
   "metadata": {
    "ExecuteTime": {
     "end_time": "2022-05-17T21:42:42.073282Z",
     "start_time": "2022-05-17T21:42:41.227549Z"
    }
   },
   "outputs": [],
   "source": [
    "comm_transmission = comm_transmission.merge(med_cases_per_100k_change,\n",
    "                                            how='left', on='fips_code')"
   ]
  },
  {
   "cell_type": "code",
   "execution_count": 35,
   "metadata": {
    "ExecuteTime": {
     "end_time": "2022-05-17T21:42:42.764876Z",
     "start_time": "2022-05-17T21:42:42.075562Z"
    }
   },
   "outputs": [],
   "source": [
    "comm_transmission = comm_transmission.merge(\n",
    "    med_per_test_results_positive, how='left', on='fips_code')"
   ]
  },
  {
   "cell_type": "markdown",
   "metadata": {},
   "source": [
    "#### For each county, calculate the percentage of reporting dates where the transmissibility level belonged to a category"
   ]
  },
  {
   "cell_type": "code",
   "execution_count": 36,
   "metadata": {
    "ExecuteTime": {
     "end_time": "2022-05-17T21:42:45.075019Z",
     "start_time": "2022-05-17T21:42:44.108078Z"
    }
   },
   "outputs": [],
   "source": [
    "comm_transmission = pd.get_dummies(comm_transmission,columns=[\n",
    "    'community_transmission_level'])"
   ]
  },
  {
   "cell_type": "code",
   "execution_count": 37,
   "metadata": {
    "ExecuteTime": {
     "end_time": "2022-05-17T21:42:45.389406Z",
     "start_time": "2022-05-17T21:42:45.077761Z"
    }
   },
   "outputs": [],
   "source": [
    "community_transmission = comm_transmission.groupby('fips_code')[[\n",
    "    'community_transmission_level_high',\n",
    "    'community_transmission_level_low',\n",
    "    'community_transmission_level_moderate',\n",
    "    'community_transmission_level_substantial']].mean()"
   ]
  },
  {
   "cell_type": "code",
   "execution_count": 38,
   "metadata": {
    "ExecuteTime": {
     "end_time": "2022-05-17T21:42:46.543703Z",
     "start_time": "2022-05-17T21:42:46.537982Z"
    }
   },
   "outputs": [],
   "source": [
    "community_transmission.columns = community_transmission.columns.str.replace(\n",
    "    'community_','')"
   ]
  },
  {
   "cell_type": "code",
   "execution_count": 39,
   "metadata": {
    "ExecuteTime": {
     "end_time": "2022-05-17T21:42:48.725403Z",
     "start_time": "2022-05-17T21:42:48.720582Z"
    }
   },
   "outputs": [],
   "source": [
    "community_transmission['fips_code'] = community_transmission.index"
   ]
  },
  {
   "cell_type": "code",
   "execution_count": 40,
   "metadata": {
    "ExecuteTime": {
     "end_time": "2022-05-17T21:42:49.241604Z",
     "start_time": "2022-05-17T21:42:49.238256Z"
    }
   },
   "outputs": [],
   "source": [
    "community_transmission.reset_index(drop=True,inplace=True)"
   ]
  },
  {
   "cell_type": "code",
   "execution_count": 41,
   "metadata": {
    "ExecuteTime": {
     "end_time": "2022-05-17T21:42:50.554740Z",
     "start_time": "2022-05-17T21:42:49.845695Z"
    }
   },
   "outputs": [],
   "source": [
    "comm_transmission = comm_transmission.merge(\n",
    "    community_transmission,how='left',on='fips_code')"
   ]
  },
  {
   "cell_type": "code",
   "execution_count": 42,
   "metadata": {
    "ExecuteTime": {
     "end_time": "2022-05-17T21:42:51.958317Z",
     "start_time": "2022-05-17T21:42:51.442912Z"
    }
   },
   "outputs": [],
   "source": [
    "comm_transmission = comm_transmission[['fips_code','med_cases_per_100k_change',\n",
    "                                       'med_per_test_results_positive',\n",
    "                                       'transmission_level_high',\n",
    "                                       'transmission_level_low',\n",
    "                                       'transmission_level_moderate',\n",
    "                                       'transmission_level_substantial']]"
   ]
  },
  {
   "cell_type": "code",
   "execution_count": 43,
   "metadata": {
    "ExecuteTime": {
     "end_time": "2022-05-17T21:42:52.721301Z",
     "start_time": "2022-05-17T21:42:52.007943Z"
    }
   },
   "outputs": [],
   "source": [
    "comm_transmission.drop_duplicates(inplace=True)"
   ]
  },
  {
   "cell_type": "code",
   "execution_count": 44,
   "metadata": {
    "ExecuteTime": {
     "end_time": "2022-05-17T21:42:52.729773Z",
     "start_time": "2022-05-17T21:42:52.723630Z"
    }
   },
   "outputs": [],
   "source": [
    "comm_transmission.rename(columns={'fips_code':'county_fips_code'},inplace=True)"
   ]
  },
  {
   "cell_type": "markdown",
   "metadata": {},
   "source": [
    "#### Merge the data with the COVID cases data frame"
   ]
  },
  {
   "cell_type": "code",
   "execution_count": 45,
   "metadata": {
    "ExecuteTime": {
     "end_time": "2022-05-17T21:42:55.466283Z",
     "start_time": "2022-05-17T21:42:55.448354Z"
    }
   },
   "outputs": [],
   "source": [
    "covid_cases = covid_cases.merge(\n",
    "    comm_transmission,how='left',on='county_fips_code')"
   ]
  },
  {
   "cell_type": "code",
   "execution_count": 46,
   "metadata": {
    "ExecuteTime": {
     "end_time": "2022-05-17T21:42:56.969745Z",
     "start_time": "2022-05-17T21:42:56.910555Z"
    }
   },
   "outputs": [],
   "source": [
    "hosp_capacity = pd.read_csv('./data/covid19-NatEst.csv')"
   ]
  },
  {
   "cell_type": "markdown",
   "metadata": {},
   "source": [
    "These are the variables considered for this analysis from the hospital capacity data set:\n",
    "\n",
    "InBedsOccAnyPat__Numbeds_Est - Hospital inpatient bed occupancy, percent estimate (percent of inpatient beds)\n",
    "InBedsOccCOVID__Numbeds_Est - Number of patients in an inpatient care location who have suspected or confirmed COVID-19, percent estimate (percent of inpatient beds)\n",
    "ICUBedsOccAnyPat__N_ICUBeds_Est - ICU bed occupancy, percent estimate (percent of ICU beds)"
   ]
  },
  {
   "cell_type": "code",
   "execution_count": 47,
   "metadata": {
    "ExecuteTime": {
     "end_time": "2022-05-17T21:43:01.146354Z",
     "start_time": "2022-05-17T21:43:01.141209Z"
    }
   },
   "outputs": [],
   "source": [
    "hosp_capacity = hosp_capacity[['state','statename',\n",
    "                               'collectionDate',\n",
    "                              'InBedsOccAnyPat__Numbeds_Est',\n",
    "                               'InBedsOccCOVID__Numbeds_Est',\n",
    "                               'ICUBedsOccAnyPat__N_ICUBeds_Est']]"
   ]
  },
  {
   "cell_type": "code",
   "execution_count": 48,
   "metadata": {
    "ExecuteTime": {
     "end_time": "2022-05-17T21:43:02.006837Z",
     "start_time": "2022-05-17T21:43:01.996227Z"
    }
   },
   "outputs": [],
   "source": [
    "hosp_capacity = hosp_capacity.drop(index=0)"
   ]
  },
  {
   "cell_type": "code",
   "execution_count": 49,
   "metadata": {
    "ExecuteTime": {
     "end_time": "2022-05-17T21:43:03.038951Z",
     "start_time": "2022-05-17T21:43:03.032162Z"
    }
   },
   "outputs": [],
   "source": [
    "#converting to float\n",
    "hosp_capacity['InBedsOccAnyPat__Numbeds_Est'] = hosp_capacity[\n",
    "    'InBedsOccAnyPat__Numbeds_Est'].astype(float)\n",
    "\n",
    "hosp_capacity['InBedsOccCOVID__Numbeds_Est'] = hosp_capacity[\n",
    "    'InBedsOccCOVID__Numbeds_Est'].astype(float)\n",
    "\n",
    "hosp_capacity['ICUBedsOccAnyPat__N_ICUBeds_Est'] = hosp_capacity[\n",
    "    'ICUBedsOccAnyPat__N_ICUBeds_Est'].astype(float)"
   ]
  },
  {
   "cell_type": "code",
   "execution_count": 50,
   "metadata": {
    "ExecuteTime": {
     "end_time": "2022-05-17T21:43:11.544328Z",
     "start_time": "2022-05-17T21:43:11.537377Z"
    }
   },
   "outputs": [],
   "source": [
    "hosp_capacity_states = hosp_capacity.groupby('state')[[\n",
    "    'InBedsOccAnyPat__Numbeds_Est',\n",
    "    'InBedsOccCOVID__Numbeds_Est',\n",
    "    'ICUBedsOccAnyPat__N_ICUBeds_Est']].median()"
   ]
  },
  {
   "cell_type": "code",
   "execution_count": 51,
   "metadata": {
    "ExecuteTime": {
     "end_time": "2022-05-17T21:43:14.196836Z",
     "start_time": "2022-05-17T21:43:14.192784Z"
    }
   },
   "outputs": [],
   "source": [
    "hosp_capacity_states.reset_index(inplace=True)"
   ]
  },
  {
   "cell_type": "code",
   "execution_count": 52,
   "metadata": {
    "ExecuteTime": {
     "end_time": "2022-05-17T21:43:15.235878Z",
     "start_time": "2022-05-17T21:43:15.227113Z"
    }
   },
   "outputs": [],
   "source": [
    "states = {\"AL\":\"Alabama\",\n",
    "          \"AK\":\"Alaska\",\n",
    "          \"AZ\":\"Arizona\",\n",
    "          \"AR\":\"Arkansas\",\n",
    "          \"CA\":\"California\",\n",
    "          \"CO\":\"Colorado\",\n",
    "          \"CT\":\"Connecticut\",\n",
    "          \"DE\":\"Delaware\",\n",
    "          \"FL\":\"Florida\",\n",
    "          \"GA\":\"Georgia\",\n",
    "          \"HI\":\"Hawaii\",\n",
    "          \"ID\":\"Idaho\",\n",
    "          \"IL\":\"Illinois\",\n",
    "          \"IN\":\"Indiana\",\n",
    "          \"IA\":\"Iowa\",\n",
    "          \"KS\":\"Kansas\",\n",
    "          \"KY\":\"Kentucky\",\n",
    "          \"LA\":\"Louisiana\",\n",
    "          \"ME\":\"Maine\",\n",
    "          \"MD\":\"Maryland\",\n",
    "          \"MA\":\"Massachusetts\",\n",
    "          \"MI\":\"Michigan\",\n",
    "          \"MN\":\"Minnesota\",\n",
    "          \"MS\":\"Mississippi\",\n",
    "          \"MO\":\"Missouri\",\n",
    "          \"MT\":\"Montana\",\n",
    "          \"NE\":\"Nebraska\",\n",
    "          \"NV\":\"Nevada\",\n",
    "          \"NH\":\"New Hampshire\",\n",
    "          \"NJ\":\"New Jersey\",\n",
    "          \"NM\":\"New Mexico\",\n",
    "          \"NY\":\"New York\",\n",
    "          \"NC\":\"North Carolina\",\n",
    "          \"ND\":\"North Dakota\",\n",
    "          \"OH\":\"Ohio\",\n",
    "          \"OK\":\"Oklahoma\",\n",
    "          \"OR\":\"Oregon\",\n",
    "          \"PA\":\"Pennsylvania\",\n",
    "          \"RI\":\"Rhode Island\",\n",
    "          \"SC\":\"South Carolina\",\n",
    "          \"SD\":\"South Dakota\",\n",
    "          \"TN\":\"Tennessee\",\n",
    "          \"TX\":\"Texas\",\n",
    "          \"UT\":\"Utah\",\n",
    "          \"VT\":\"Vermont\",\n",
    "          \"VA\":\"Virginia\",\n",
    "          \"WA\":\"Washington\",\n",
    "          \"WV\":\"West Virginia\",\n",
    "          \"WI\":\"Wisconsin\",\n",
    "          \"WY\":\"Wyoming\"}"
   ]
  },
  {
   "cell_type": "code",
   "execution_count": 53,
   "metadata": {
    "ExecuteTime": {
     "end_time": "2022-05-17T21:43:16.559261Z",
     "start_time": "2022-05-17T21:43:16.554905Z"
    }
   },
   "outputs": [],
   "source": [
    "covid_cases['st_abbr'] = \"\""
   ]
  },
  {
   "cell_type": "code",
   "execution_count": 54,
   "metadata": {
    "ExecuteTime": {
     "end_time": "2022-05-17T21:43:17.383866Z",
     "start_time": "2022-05-17T21:43:17.342487Z"
    }
   },
   "outputs": [],
   "source": [
    "for key,value in states.items():\n",
    "    covid_cases.loc[covid_cases['state']==value,'st_abbr'] = key"
   ]
  },
  {
   "cell_type": "code",
   "execution_count": 55,
   "metadata": {
    "ExecuteTime": {
     "end_time": "2022-05-17T21:43:18.383964Z",
     "start_time": "2022-05-17T21:43:18.377343Z"
    }
   },
   "outputs": [],
   "source": [
    "covid_cases.drop(columns='state',inplace=True)\n",
    "covid_cases.rename(columns={'st_abbr':'state'},inplace=True)"
   ]
  },
  {
   "cell_type": "code",
   "execution_count": 56,
   "metadata": {
    "ExecuteTime": {
     "end_time": "2022-05-17T21:43:19.307819Z",
     "start_time": "2022-05-17T21:43:19.299830Z"
    }
   },
   "outputs": [],
   "source": [
    "covid_cases = covid_cases.merge(hosp_capacity_states,how='left',on='state')"
   ]
  },
  {
   "cell_type": "code",
   "execution_count": 57,
   "metadata": {
    "ExecuteTime": {
     "end_time": "2022-05-17T21:43:19.956572Z",
     "start_time": "2022-05-17T21:43:19.949794Z"
    }
   },
   "outputs": [],
   "source": [
    "covid_cases['cases_per_10k'] = 10000 * (\n",
    "    covid_cases['cases'] / covid_cases['tot_pop'])"
   ]
  },
  {
   "cell_type": "code",
   "execution_count": 58,
   "metadata": {
    "ExecuteTime": {
     "end_time": "2022-05-17T21:43:20.857004Z",
     "start_time": "2022-05-17T21:43:20.852496Z"
    }
   },
   "outputs": [],
   "source": [
    "covid_cases['high_transmission'] = covid_cases[\n",
    "    'transmission_level_high'] + covid_cases['transmission_level_substantial']"
   ]
  },
  {
   "cell_type": "code",
   "execution_count": 59,
   "metadata": {
    "ExecuteTime": {
     "end_time": "2022-05-17T21:43:22.297149Z",
     "start_time": "2022-05-17T21:43:22.292471Z"
    }
   },
   "outputs": [],
   "source": [
    "# #save as csv\n",
    "# covid_cases.to_csv(\n",
    "#     './data/covid-cases-transmissibility-unemployment-hospital-capacity.csv',\n",
    "#     index=False)"
   ]
  },
  {
   "cell_type": "markdown",
   "metadata": {},
   "source": [
    "# Re-Import and merge"
   ]
  },
  {
   "cell_type": "code",
   "execution_count": 60,
   "metadata": {
    "ExecuteTime": {
     "end_time": "2022-05-17T21:43:46.315168Z",
     "start_time": "2022-05-17T21:43:46.308532Z"
    }
   },
   "outputs": [],
   "source": [
    "county_cases = covid_cases\n",
    "\n",
    "# county_cases = pd.read_csv(\n",
    "#     './data/covid-cases-transmissibility-unemployment-hospital-capacity.csv',\n",
    "#     dtype={'county_fips_code':str})"
   ]
  },
  {
   "cell_type": "code",
   "execution_count": 61,
   "metadata": {
    "ExecuteTime": {
     "end_time": "2022-05-17T21:43:46.912995Z",
     "start_time": "2022-05-17T21:43:46.886650Z"
    }
   },
   "outputs": [
    {
     "data": {
      "text/html": [
       "<div>\n",
       "<style scoped>\n",
       "    .dataframe tbody tr th:only-of-type {\n",
       "        vertical-align: middle;\n",
       "    }\n",
       "\n",
       "    .dataframe tbody tr th {\n",
       "        vertical-align: top;\n",
       "    }\n",
       "\n",
       "    .dataframe thead th {\n",
       "        text-align: right;\n",
       "    }\n",
       "</style>\n",
       "<table border=\"1\" class=\"dataframe\">\n",
       "  <thead>\n",
       "    <tr style=\"text-align: right;\">\n",
       "      <th></th>\n",
       "      <th>county</th>\n",
       "      <th>county_fips_code</th>\n",
       "      <th>cases</th>\n",
       "      <th>deaths</th>\n",
       "      <th>stname</th>\n",
       "      <th>ctyname</th>\n",
       "      <th>tot_pop</th>\n",
       "      <th>deaths_per_hun_thou</th>\n",
       "      <th>cnty_name</th>\n",
       "      <th>unemployment_rate</th>\n",
       "      <th>...</th>\n",
       "      <th>transmission_level_high</th>\n",
       "      <th>transmission_level_low</th>\n",
       "      <th>transmission_level_moderate</th>\n",
       "      <th>transmission_level_substantial</th>\n",
       "      <th>state</th>\n",
       "      <th>InBedsOccAnyPat__Numbeds_Est</th>\n",
       "      <th>InBedsOccCOVID__Numbeds_Est</th>\n",
       "      <th>ICUBedsOccAnyPat__N_ICUBeds_Est</th>\n",
       "      <th>cases_per_10k</th>\n",
       "      <th>high_transmission</th>\n",
       "    </tr>\n",
       "  </thead>\n",
       "  <tbody>\n",
       "    <tr>\n",
       "      <th>0</th>\n",
       "      <td>Autauga</td>\n",
       "      <td>01001</td>\n",
       "      <td>12738</td>\n",
       "      <td>163.0</td>\n",
       "      <td>Alabama</td>\n",
       "      <td>Autauga County</td>\n",
       "      <td>55869.0</td>\n",
       "      <td>291.753924</td>\n",
       "      <td>Autauga County, AL</td>\n",
       "      <td>4.9</td>\n",
       "      <td>...</td>\n",
       "      <td>0.723077</td>\n",
       "      <td>0.071006</td>\n",
       "      <td>0.113609</td>\n",
       "      <td>0.084024</td>\n",
       "      <td>AL</td>\n",
       "      <td>66.05</td>\n",
       "      <td>6.6</td>\n",
       "      <td>73.3</td>\n",
       "      <td>2279.976373</td>\n",
       "      <td>0.807101</td>\n",
       "    </tr>\n",
       "    <tr>\n",
       "      <th>1</th>\n",
       "      <td>Baldwin</td>\n",
       "      <td>01003</td>\n",
       "      <td>47143</td>\n",
       "      <td>605.0</td>\n",
       "      <td>Alabama</td>\n",
       "      <td>Baldwin County</td>\n",
       "      <td>223234.0</td>\n",
       "      <td>271.016064</td>\n",
       "      <td>Baldwin County, AL</td>\n",
       "      <td>5.6</td>\n",
       "      <td>...</td>\n",
       "      <td>0.492308</td>\n",
       "      <td>0.089941</td>\n",
       "      <td>0.182249</td>\n",
       "      <td>0.227219</td>\n",
       "      <td>AL</td>\n",
       "      <td>66.05</td>\n",
       "      <td>6.6</td>\n",
       "      <td>73.3</td>\n",
       "      <td>2111.819884</td>\n",
       "      <td>0.719527</td>\n",
       "    </tr>\n",
       "    <tr>\n",
       "      <th>2</th>\n",
       "      <td>Barbour</td>\n",
       "      <td>01005</td>\n",
       "      <td>4741</td>\n",
       "      <td>83.0</td>\n",
       "      <td>Alabama</td>\n",
       "      <td>Barbour County</td>\n",
       "      <td>24686.0</td>\n",
       "      <td>336.222960</td>\n",
       "      <td>Barbour County, AL</td>\n",
       "      <td>7.0</td>\n",
       "      <td>...</td>\n",
       "      <td>0.623669</td>\n",
       "      <td>0.115976</td>\n",
       "      <td>0.143195</td>\n",
       "      <td>0.108876</td>\n",
       "      <td>AL</td>\n",
       "      <td>66.05</td>\n",
       "      <td>6.6</td>\n",
       "      <td>73.3</td>\n",
       "      <td>1920.521753</td>\n",
       "      <td>0.732544</td>\n",
       "    </tr>\n",
       "    <tr>\n",
       "      <th>3</th>\n",
       "      <td>Bibb</td>\n",
       "      <td>01007</td>\n",
       "      <td>5385</td>\n",
       "      <td>95.0</td>\n",
       "      <td>Alabama</td>\n",
       "      <td>Bibb County</td>\n",
       "      <td>22394.0</td>\n",
       "      <td>424.220773</td>\n",
       "      <td>Bibb County, AL</td>\n",
       "      <td>6.6</td>\n",
       "      <td>...</td>\n",
       "      <td>0.575148</td>\n",
       "      <td>0.093491</td>\n",
       "      <td>0.151479</td>\n",
       "      <td>0.171598</td>\n",
       "      <td>AL</td>\n",
       "      <td>66.05</td>\n",
       "      <td>6.6</td>\n",
       "      <td>73.3</td>\n",
       "      <td>2404.661963</td>\n",
       "      <td>0.746746</td>\n",
       "    </tr>\n",
       "    <tr>\n",
       "      <th>4</th>\n",
       "      <td>Blount</td>\n",
       "      <td>01009</td>\n",
       "      <td>12648</td>\n",
       "      <td>203.0</td>\n",
       "      <td>Alabama</td>\n",
       "      <td>Blount County</td>\n",
       "      <td>57826.0</td>\n",
       "      <td>351.053159</td>\n",
       "      <td>Blount County, AL</td>\n",
       "      <td>4.1</td>\n",
       "      <td>...</td>\n",
       "      <td>0.681657</td>\n",
       "      <td>0.094675</td>\n",
       "      <td>0.120710</td>\n",
       "      <td>0.094675</td>\n",
       "      <td>AL</td>\n",
       "      <td>66.05</td>\n",
       "      <td>6.6</td>\n",
       "      <td>73.3</td>\n",
       "      <td>2187.251409</td>\n",
       "      <td>0.776331</td>\n",
       "    </tr>\n",
       "  </tbody>\n",
       "</table>\n",
       "<p>5 rows × 22 columns</p>\n",
       "</div>"
      ],
      "text/plain": [
       "    county county_fips_code  cases  deaths   stname         ctyname   tot_pop  \\\n",
       "0  Autauga            01001  12738   163.0  Alabama  Autauga County   55869.0   \n",
       "1  Baldwin            01003  47143   605.0  Alabama  Baldwin County  223234.0   \n",
       "2  Barbour            01005   4741    83.0  Alabama  Barbour County   24686.0   \n",
       "3     Bibb            01007   5385    95.0  Alabama     Bibb County   22394.0   \n",
       "4   Blount            01009  12648   203.0  Alabama   Blount County   57826.0   \n",
       "\n",
       "   deaths_per_hun_thou           cnty_name  unemployment_rate  ...  \\\n",
       "0           291.753924  Autauga County, AL                4.9  ...   \n",
       "1           271.016064  Baldwin County, AL                5.6  ...   \n",
       "2           336.222960  Barbour County, AL                7.0  ...   \n",
       "3           424.220773     Bibb County, AL                6.6  ...   \n",
       "4           351.053159   Blount County, AL                4.1  ...   \n",
       "\n",
       "   transmission_level_high  transmission_level_low  \\\n",
       "0                 0.723077                0.071006   \n",
       "1                 0.492308                0.089941   \n",
       "2                 0.623669                0.115976   \n",
       "3                 0.575148                0.093491   \n",
       "4                 0.681657                0.094675   \n",
       "\n",
       "   transmission_level_moderate  transmission_level_substantial  state  \\\n",
       "0                     0.113609                        0.084024     AL   \n",
       "1                     0.182249                        0.227219     AL   \n",
       "2                     0.143195                        0.108876     AL   \n",
       "3                     0.151479                        0.171598     AL   \n",
       "4                     0.120710                        0.094675     AL   \n",
       "\n",
       "   InBedsOccAnyPat__Numbeds_Est InBedsOccCOVID__Numbeds_Est  \\\n",
       "0                         66.05                         6.6   \n",
       "1                         66.05                         6.6   \n",
       "2                         66.05                         6.6   \n",
       "3                         66.05                         6.6   \n",
       "4                         66.05                         6.6   \n",
       "\n",
       "   ICUBedsOccAnyPat__N_ICUBeds_Est  cases_per_10k  high_transmission  \n",
       "0                             73.3    2279.976373           0.807101  \n",
       "1                             73.3    2111.819884           0.719527  \n",
       "2                             73.3    1920.521753           0.732544  \n",
       "3                             73.3    2404.661963           0.746746  \n",
       "4                             73.3    2187.251409           0.776331  \n",
       "\n",
       "[5 rows x 22 columns]"
      ]
     },
     "execution_count": 61,
     "metadata": {},
     "output_type": "execute_result"
    }
   ],
   "source": [
    "county_cases.head()"
   ]
  },
  {
   "cell_type": "code",
   "execution_count": 62,
   "metadata": {
    "ExecuteTime": {
     "end_time": "2022-05-17T21:43:47.499370Z",
     "start_time": "2022-05-17T21:43:47.493860Z"
    }
   },
   "outputs": [
    {
     "data": {
      "text/plain": [
       "(3133, 22)"
      ]
     },
     "execution_count": 62,
     "metadata": {},
     "output_type": "execute_result"
    }
   ],
   "source": [
    "county_cases.shape"
   ]
  },
  {
   "cell_type": "code",
   "execution_count": 63,
   "metadata": {
    "ExecuteTime": {
     "end_time": "2022-05-17T21:43:50.208584Z",
     "start_time": "2022-05-17T21:43:50.194265Z"
    }
   },
   "outputs": [],
   "source": [
    "#importing and renaming the mask usage variables for clarity\n",
    "\n",
    "mask_usage = pd.read_csv('./data/mask-use-by-county.csv', dtype={'COUNTYFP':str})\n",
    "mask_usage.rename(columns={'COUNTYFP':'county_fips_code',\n",
    "                           'NEVER':'mask_never',\n",
    "              'RARELY':'mask_rarely',\n",
    "              'SOMETIMES':'mask_sometimes',\n",
    "              'FREQUENTLY':'mask_frequently',\n",
    "              'ALWAYS':'mask_always'}, inplace=True)                     "
   ]
  },
  {
   "cell_type": "code",
   "execution_count": 64,
   "metadata": {
    "ExecuteTime": {
     "end_time": "2022-05-17T21:43:51.079259Z",
     "start_time": "2022-05-17T21:43:51.070281Z"
    }
   },
   "outputs": [],
   "source": [
    "county_cases = county_cases.merge(mask_usage, on='county_fips_code', how='left')"
   ]
  },
  {
   "cell_type": "code",
   "execution_count": 65,
   "metadata": {
    "ExecuteTime": {
     "end_time": "2022-05-17T21:43:51.679724Z",
     "start_time": "2022-05-17T21:43:51.656536Z"
    }
   },
   "outputs": [
    {
     "data": {
      "text/html": [
       "<div>\n",
       "<style scoped>\n",
       "    .dataframe tbody tr th:only-of-type {\n",
       "        vertical-align: middle;\n",
       "    }\n",
       "\n",
       "    .dataframe tbody tr th {\n",
       "        vertical-align: top;\n",
       "    }\n",
       "\n",
       "    .dataframe thead th {\n",
       "        text-align: right;\n",
       "    }\n",
       "</style>\n",
       "<table border=\"1\" class=\"dataframe\">\n",
       "  <thead>\n",
       "    <tr style=\"text-align: right;\">\n",
       "      <th></th>\n",
       "      <th>county</th>\n",
       "      <th>county_fips_code</th>\n",
       "      <th>cases</th>\n",
       "      <th>deaths</th>\n",
       "      <th>stname</th>\n",
       "      <th>ctyname</th>\n",
       "      <th>tot_pop</th>\n",
       "      <th>deaths_per_hun_thou</th>\n",
       "      <th>cnty_name</th>\n",
       "      <th>unemployment_rate</th>\n",
       "      <th>...</th>\n",
       "      <th>InBedsOccAnyPat__Numbeds_Est</th>\n",
       "      <th>InBedsOccCOVID__Numbeds_Est</th>\n",
       "      <th>ICUBedsOccAnyPat__N_ICUBeds_Est</th>\n",
       "      <th>cases_per_10k</th>\n",
       "      <th>high_transmission</th>\n",
       "      <th>mask_never</th>\n",
       "      <th>mask_rarely</th>\n",
       "      <th>mask_sometimes</th>\n",
       "      <th>mask_frequently</th>\n",
       "      <th>mask_always</th>\n",
       "    </tr>\n",
       "  </thead>\n",
       "  <tbody>\n",
       "    <tr>\n",
       "      <th>0</th>\n",
       "      <td>Autauga</td>\n",
       "      <td>01001</td>\n",
       "      <td>12738</td>\n",
       "      <td>163.0</td>\n",
       "      <td>Alabama</td>\n",
       "      <td>Autauga County</td>\n",
       "      <td>55869.0</td>\n",
       "      <td>291.753924</td>\n",
       "      <td>Autauga County, AL</td>\n",
       "      <td>4.9</td>\n",
       "      <td>...</td>\n",
       "      <td>66.05</td>\n",
       "      <td>6.6</td>\n",
       "      <td>73.3</td>\n",
       "      <td>2279.976373</td>\n",
       "      <td>0.807101</td>\n",
       "      <td>0.053</td>\n",
       "      <td>0.074</td>\n",
       "      <td>0.134</td>\n",
       "      <td>0.295</td>\n",
       "      <td>0.444</td>\n",
       "    </tr>\n",
       "    <tr>\n",
       "      <th>1</th>\n",
       "      <td>Baldwin</td>\n",
       "      <td>01003</td>\n",
       "      <td>47143</td>\n",
       "      <td>605.0</td>\n",
       "      <td>Alabama</td>\n",
       "      <td>Baldwin County</td>\n",
       "      <td>223234.0</td>\n",
       "      <td>271.016064</td>\n",
       "      <td>Baldwin County, AL</td>\n",
       "      <td>5.6</td>\n",
       "      <td>...</td>\n",
       "      <td>66.05</td>\n",
       "      <td>6.6</td>\n",
       "      <td>73.3</td>\n",
       "      <td>2111.819884</td>\n",
       "      <td>0.719527</td>\n",
       "      <td>0.083</td>\n",
       "      <td>0.059</td>\n",
       "      <td>0.098</td>\n",
       "      <td>0.323</td>\n",
       "      <td>0.436</td>\n",
       "    </tr>\n",
       "    <tr>\n",
       "      <th>2</th>\n",
       "      <td>Barbour</td>\n",
       "      <td>01005</td>\n",
       "      <td>4741</td>\n",
       "      <td>83.0</td>\n",
       "      <td>Alabama</td>\n",
       "      <td>Barbour County</td>\n",
       "      <td>24686.0</td>\n",
       "      <td>336.222960</td>\n",
       "      <td>Barbour County, AL</td>\n",
       "      <td>7.0</td>\n",
       "      <td>...</td>\n",
       "      <td>66.05</td>\n",
       "      <td>6.6</td>\n",
       "      <td>73.3</td>\n",
       "      <td>1920.521753</td>\n",
       "      <td>0.732544</td>\n",
       "      <td>0.067</td>\n",
       "      <td>0.121</td>\n",
       "      <td>0.120</td>\n",
       "      <td>0.201</td>\n",
       "      <td>0.491</td>\n",
       "    </tr>\n",
       "    <tr>\n",
       "      <th>3</th>\n",
       "      <td>Bibb</td>\n",
       "      <td>01007</td>\n",
       "      <td>5385</td>\n",
       "      <td>95.0</td>\n",
       "      <td>Alabama</td>\n",
       "      <td>Bibb County</td>\n",
       "      <td>22394.0</td>\n",
       "      <td>424.220773</td>\n",
       "      <td>Bibb County, AL</td>\n",
       "      <td>6.6</td>\n",
       "      <td>...</td>\n",
       "      <td>66.05</td>\n",
       "      <td>6.6</td>\n",
       "      <td>73.3</td>\n",
       "      <td>2404.661963</td>\n",
       "      <td>0.746746</td>\n",
       "      <td>0.020</td>\n",
       "      <td>0.034</td>\n",
       "      <td>0.096</td>\n",
       "      <td>0.278</td>\n",
       "      <td>0.572</td>\n",
       "    </tr>\n",
       "    <tr>\n",
       "      <th>4</th>\n",
       "      <td>Blount</td>\n",
       "      <td>01009</td>\n",
       "      <td>12648</td>\n",
       "      <td>203.0</td>\n",
       "      <td>Alabama</td>\n",
       "      <td>Blount County</td>\n",
       "      <td>57826.0</td>\n",
       "      <td>351.053159</td>\n",
       "      <td>Blount County, AL</td>\n",
       "      <td>4.1</td>\n",
       "      <td>...</td>\n",
       "      <td>66.05</td>\n",
       "      <td>6.6</td>\n",
       "      <td>73.3</td>\n",
       "      <td>2187.251409</td>\n",
       "      <td>0.776331</td>\n",
       "      <td>0.053</td>\n",
       "      <td>0.114</td>\n",
       "      <td>0.180</td>\n",
       "      <td>0.194</td>\n",
       "      <td>0.459</td>\n",
       "    </tr>\n",
       "  </tbody>\n",
       "</table>\n",
       "<p>5 rows × 27 columns</p>\n",
       "</div>"
      ],
      "text/plain": [
       "    county county_fips_code  cases  deaths   stname         ctyname   tot_pop  \\\n",
       "0  Autauga            01001  12738   163.0  Alabama  Autauga County   55869.0   \n",
       "1  Baldwin            01003  47143   605.0  Alabama  Baldwin County  223234.0   \n",
       "2  Barbour            01005   4741    83.0  Alabama  Barbour County   24686.0   \n",
       "3     Bibb            01007   5385    95.0  Alabama     Bibb County   22394.0   \n",
       "4   Blount            01009  12648   203.0  Alabama   Blount County   57826.0   \n",
       "\n",
       "   deaths_per_hun_thou           cnty_name  unemployment_rate  ...  \\\n",
       "0           291.753924  Autauga County, AL                4.9  ...   \n",
       "1           271.016064  Baldwin County, AL                5.6  ...   \n",
       "2           336.222960  Barbour County, AL                7.0  ...   \n",
       "3           424.220773     Bibb County, AL                6.6  ...   \n",
       "4           351.053159   Blount County, AL                4.1  ...   \n",
       "\n",
       "   InBedsOccAnyPat__Numbeds_Est  InBedsOccCOVID__Numbeds_Est  \\\n",
       "0                         66.05                          6.6   \n",
       "1                         66.05                          6.6   \n",
       "2                         66.05                          6.6   \n",
       "3                         66.05                          6.6   \n",
       "4                         66.05                          6.6   \n",
       "\n",
       "   ICUBedsOccAnyPat__N_ICUBeds_Est  cases_per_10k  high_transmission  \\\n",
       "0                             73.3    2279.976373           0.807101   \n",
       "1                             73.3    2111.819884           0.719527   \n",
       "2                             73.3    1920.521753           0.732544   \n",
       "3                             73.3    2404.661963           0.746746   \n",
       "4                             73.3    2187.251409           0.776331   \n",
       "\n",
       "   mask_never mask_rarely  mask_sometimes  mask_frequently  mask_always  \n",
       "0       0.053       0.074           0.134            0.295        0.444  \n",
       "1       0.083       0.059           0.098            0.323        0.436  \n",
       "2       0.067       0.121           0.120            0.201        0.491  \n",
       "3       0.020       0.034           0.096            0.278        0.572  \n",
       "4       0.053       0.114           0.180            0.194        0.459  \n",
       "\n",
       "[5 rows x 27 columns]"
      ]
     },
     "execution_count": 65,
     "metadata": {},
     "output_type": "execute_result"
    }
   ],
   "source": [
    "county_cases.head()"
   ]
  },
  {
   "cell_type": "markdown",
   "metadata": {},
   "source": [
    "#### combine mask frequently and mask always into a single number that represents the percentage of the county that uses \"good\" masking practices"
   ]
  },
  {
   "cell_type": "code",
   "execution_count": 66,
   "metadata": {
    "ExecuteTime": {
     "end_time": "2022-05-17T21:43:55.440694Z",
     "start_time": "2022-05-17T21:43:55.436775Z"
    }
   },
   "outputs": [],
   "source": [
    "county_cases['good_masking_practices'] = county_cases['mask_always'] + county_cases['mask_frequently']"
   ]
  },
  {
   "cell_type": "code",
   "execution_count": 67,
   "metadata": {
    "ExecuteTime": {
     "end_time": "2022-05-17T21:43:56.249358Z",
     "start_time": "2022-05-17T21:43:55.998839Z"
    }
   },
   "outputs": [
    {
     "data": {
      "text/plain": [
       "''"
      ]
     },
     "execution_count": 67,
     "metadata": {},
     "output_type": "execute_result"
    },
    {
     "data": {
      "image/png": "[encoded data removed]",
      "text/plain": [
       "<Figure size 432x288 with 1 Axes>"
      ]
     },
     "metadata": {
      "needs_background": "light"
     },
     "output_type": "display_data"
    }
   ],
   "source": [
    "plt.hist(county_cases['good_masking_practices'], bins = 50)\n",
    ";"
   ]
  },
  {
   "cell_type": "code",
   "execution_count": 68,
   "metadata": {
    "ExecuteTime": {
     "end_time": "2022-05-17T21:43:59.163134Z",
     "start_time": "2022-05-17T21:43:59.059805Z"
    }
   },
   "outputs": [],
   "source": [
    "election = pd.read_csv('./data/countypres_2000-2020.csv', dtype={'county_fips':str})"
   ]
  },
  {
   "cell_type": "code",
   "execution_count": 69,
   "metadata": {
    "ExecuteTime": {
     "end_time": "2022-05-17T21:43:59.892020Z",
     "start_time": "2022-05-17T21:43:59.846945Z"
    }
   },
   "outputs": [],
   "source": [
    "#fixing fips codes\n",
    "fixed_list = []\n",
    "for fips_code in list(election['county_fips']):\n",
    "    if len(str(fips_code)) == 4:\n",
    "        fixed_list.append('0' + str(fips_code))\n",
    "    else:\n",
    "        fixed_list.append(str(fips_code))\n",
    "        \n",
    "election['county_fips'] = fixed_list"
   ]
  },
  {
   "cell_type": "code",
   "execution_count": 70,
   "metadata": {
    "ExecuteTime": {
     "end_time": "2022-05-17T21:44:00.778512Z",
     "start_time": "2022-05-17T21:44:00.769163Z"
    }
   },
   "outputs": [],
   "source": [
    "election=election[election['year']==2020]"
   ]
  },
  {
   "cell_type": "code",
   "execution_count": 71,
   "metadata": {
    "ExecuteTime": {
     "end_time": "2022-05-17T21:44:01.338496Z",
     "start_time": "2022-05-17T21:44:01.331841Z"
    },
    "scrolled": true
   },
   "outputs": [],
   "source": [
    "#splitting the data into trump and biden votes\n",
    "trump_votes = election[election['candidate']=='DONALD J TRUMP']"
   ]
  },
  {
   "cell_type": "code",
   "execution_count": 72,
   "metadata": {
    "ExecuteTime": {
     "end_time": "2022-05-17T21:44:02.460366Z",
     "start_time": "2022-05-17T21:44:02.435094Z"
    }
   },
   "outputs": [],
   "source": [
    "#summing the votes by county so that all voting methods are included in the number of votes\n",
    "tot_trump_votes = pd.DataFrame(trump_votes.groupby('county_fips')['candidatevotes'].sum())\n",
    "tot_trump_votes.reset_index(inplace=True)\n",
    "tot_trump_votes.rename(columns={'candidatevotes':'trump_votes'},inplace=True)\n",
    "\n",
    "#adding the info that we lost from the original df\n",
    "trump_votes = trump_votes[['county_fips','totalvotes']]\n",
    "trump_votes.drop_duplicates(keep='first', inplace=True)\n",
    "\n",
    "tot_trump_votes = tot_trump_votes.merge(trump_votes, on='county_fips', how='left')"
   ]
  },
  {
   "cell_type": "code",
   "execution_count": 73,
   "metadata": {
    "ExecuteTime": {
     "end_time": "2022-05-17T21:44:03.387824Z",
     "start_time": "2022-05-17T21:44:03.379263Z"
    }
   },
   "outputs": [
    {
     "data": {
      "text/plain": [
       "(5117, 12)"
      ]
     },
     "execution_count": 73,
     "metadata": {},
     "output_type": "execute_result"
    }
   ],
   "source": [
    "biden_votes = election[election['candidate']=='JOSEPH R BIDEN JR']\n",
    "biden_votes.shape"
   ]
  },
  {
   "cell_type": "code",
   "execution_count": 74,
   "metadata": {
    "ExecuteTime": {
     "end_time": "2022-05-17T21:44:04.341301Z",
     "start_time": "2022-05-17T21:44:04.323998Z"
    }
   },
   "outputs": [],
   "source": [
    "#summing the votes by county so that all voting methods are included in the number of votes\n",
    "tot_biden_votes = pd.DataFrame(biden_votes.groupby('county_fips')['candidatevotes'].sum())\n",
    "tot_biden_votes.reset_index(inplace=True)\n",
    "tot_biden_votes.rename(columns={'candidatevotes':'biden_votes'},inplace=True)\n",
    "\n",
    "#adding the info that we lost from the original df\n",
    "biden_votes = biden_votes[['county_fips','totalvotes']]\n",
    "biden_votes.drop_duplicates(keep='first', inplace=True)\n",
    "\n",
    "tot_biden_votes = tot_biden_votes.merge(biden_votes, on='county_fips', how='left')"
   ]
  },
  {
   "cell_type": "markdown",
   "metadata": {
    "ExecuteTime": {
     "end_time": "2022-01-20T18:41:24.915302Z",
     "start_time": "2022-01-20T18:41:24.909317Z"
    }
   },
   "source": [
    "#### merge the trump and biden voting info together again "
   ]
  },
  {
   "cell_type": "code",
   "execution_count": 75,
   "metadata": {
    "ExecuteTime": {
     "end_time": "2022-05-17T21:44:05.618648Z",
     "start_time": "2022-05-17T21:44:05.607043Z"
    }
   },
   "outputs": [],
   "source": [
    "election = tot_biden_votes.merge(tot_trump_votes, on='county_fips', how='left')\n",
    "election.drop(columns=['totalvotes_x'],inplace=True)\n",
    "election.rename(columns={'totalvotes_y':'total_votes', 'county_fips':'county_fips_code'}, inplace=True)"
   ]
  },
  {
   "cell_type": "code",
   "execution_count": 76,
   "metadata": {
    "ExecuteTime": {
     "end_time": "2022-05-17T21:44:06.177370Z",
     "start_time": "2022-05-17T21:44:06.168741Z"
    }
   },
   "outputs": [],
   "source": [
    "county_cases = county_cases.merge(election, on='county_fips_code', how='left')"
   ]
  },
  {
   "cell_type": "code",
   "execution_count": 77,
   "metadata": {
    "ExecuteTime": {
     "end_time": "2022-05-17T21:44:06.650343Z",
     "start_time": "2022-05-17T21:44:06.639295Z"
    },
    "scrolled": true
   },
   "outputs": [
    {
     "data": {
      "text/plain": [
       "county                              0\n",
       "county_fips_code                    0\n",
       "cases                               0\n",
       "deaths                              0\n",
       "stname                              0\n",
       "ctyname                             0\n",
       "tot_pop                             0\n",
       "deaths_per_hun_thou                 0\n",
       "cnty_name                           1\n",
       "unemployment_rate                   1\n",
       "med_cases_per_100k_change           0\n",
       "med_per_test_results_positive      18\n",
       "transmission_level_high             0\n",
       "transmission_level_low              0\n",
       "transmission_level_moderate         0\n",
       "transmission_level_substantial      0\n",
       "state                               0\n",
       "InBedsOccAnyPat__Numbeds_Est        1\n",
       "InBedsOccCOVID__Numbeds_Est         1\n",
       "ICUBedsOccAnyPat__N_ICUBeds_Est     1\n",
       "cases_per_10k                       0\n",
       "high_transmission                   0\n",
       "mask_never                          0\n",
       "mask_rarely                         0\n",
       "mask_sometimes                      0\n",
       "mask_frequently                     0\n",
       "mask_always                         0\n",
       "good_masking_practices              0\n",
       "biden_votes                        25\n",
       "trump_votes                        25\n",
       "total_votes                        26\n",
       "dtype: int64"
      ]
     },
     "execution_count": 77,
     "metadata": {},
     "output_type": "execute_result"
    }
   ],
   "source": [
    "county_cases.isnull().sum()"
   ]
  },
  {
   "cell_type": "code",
   "execution_count": 78,
   "metadata": {
    "ExecuteTime": {
     "end_time": "2022-05-17T21:45:02.338882Z",
     "start_time": "2022-05-17T21:45:02.243248Z"
    }
   },
   "outputs": [],
   "source": [
    "#https://www.openintro.org/data/?data=county_complete\n",
    "land = pd.read_csv('./data/county_complete.csv', dtype={'fips':str})\n",
    "\n",
    "#fixing fips codes\n",
    "fixed_list = []\n",
    "for fips_code in list(land['fips']):\n",
    "    if len(str(fips_code)) == 4:\n",
    "        fixed_list.append('0' + str(fips_code))\n",
    "    else:\n",
    "        fixed_list.append(str(fips_code))\n",
    "        \n",
    "land['fips'] = fixed_list\n",
    "\n",
    "#grabbing relevant data\n",
    "land = land[['fips','area_2010']]\n",
    "\n",
    "#renaming columns for merging\n",
    "land.rename(columns={'fips':'county_fips_code', 'area_2010':'land_area_sqmi'},inplace=True)\n"
   ]
  },
  {
   "cell_type": "code",
   "execution_count": 79,
   "metadata": {
    "ExecuteTime": {
     "end_time": "2022-05-17T21:45:08.686992Z",
     "start_time": "2022-05-17T21:45:08.677864Z"
    }
   },
   "outputs": [],
   "source": [
    "county_cases = county_cases.merge(land, on='county_fips_code', how='left')"
   ]
  },
  {
   "cell_type": "code",
   "execution_count": 80,
   "metadata": {
    "ExecuteTime": {
     "end_time": "2022-05-17T21:45:16.423214Z",
     "start_time": "2022-05-17T21:45:16.418637Z"
    }
   },
   "outputs": [],
   "source": [
    "#creating a variable for population density\n",
    "county_cases['population_density'] = county_cases['tot_pop']/county_cases['land_area_sqmi']"
   ]
  },
  {
   "cell_type": "markdown",
   "metadata": {},
   "source": [
    "### Importing and Cleaning Hospital Data"
   ]
  },
  {
   "cell_type": "code",
   "execution_count": 82,
   "metadata": {
    "ExecuteTime": {
     "end_time": "2022-05-17T21:48:04.038698Z",
     "start_time": "2022-05-17T21:47:56.066469Z"
    }
   },
   "outputs": [],
   "source": [
    "hos_df = pd.read_csv('./data/COVID-19_Reported_Patient_Impact_and_Hospital_Capacity_by_Facility.csv')"
   ]
  },
  {
   "cell_type": "code",
   "execution_count": 83,
   "metadata": {
    "ExecuteTime": {
     "end_time": "2022-05-17T21:48:05.502970Z",
     "start_time": "2022-05-17T21:48:05.335038Z"
    }
   },
   "outputs": [],
   "source": [
    "# selecting the most recent data\n",
    "hos_df = hos_df[hos_df.collection_week == '2021/12/31']\n",
    "hos_df.reset_index(inplace=True, drop=True)\n",
    "hos_df.drop('collection_week', axis=1, inplace=True)"
   ]
  },
  {
   "cell_type": "code",
   "execution_count": 84,
   "metadata": {
    "ExecuteTime": {
     "end_time": "2022-05-17T21:48:05.817553Z",
     "start_time": "2022-05-17T21:48:05.809003Z"
    }
   },
   "outputs": [],
   "source": [
    "# selecting columns for analysis\n",
    "hos_df = hos_df[['fips_code', \n",
    "         'total_beds_7_day_sum',\n",
    "         'inpatient_beds_7_day_sum',\n",
    "         'inpatient_beds_used_7_day_sum',\n",
    "         'inpatient_beds_used_covid_7_day_sum',\n",
    "         'total_icu_beds_7_day_sum', \n",
    "         'icu_beds_used_7_day_sum', \n",
    "         'total_staffed_adult_icu_beds_7_day_sum',\n",
    "         'staffed_icu_adult_patients_confirmed_covid_7_day_sum',\n",
    "         'total_adult_patients_hospitalized_confirmed_covid_7_day_sum']]"
   ]
  },
  {
   "cell_type": "code",
   "execution_count": 85,
   "metadata": {
    "ExecuteTime": {
     "end_time": "2022-05-17T21:48:06.563050Z",
     "start_time": "2022-05-17T21:48:06.554389Z"
    }
   },
   "outputs": [],
   "source": [
    "# drop all fips codes that are missing and change type\n",
    "hos_df.drop(hos_df[hos_df.fips_code.isnull()].index, inplace=True)\n",
    "hos_df.fips_code = hos_df.fips_code.astype('int64')"
   ]
  },
  {
   "cell_type": "code",
   "execution_count": 86,
   "metadata": {
    "ExecuteTime": {
     "end_time": "2022-05-17T21:48:07.033842Z",
     "start_time": "2022-05-17T21:48:07.027095Z"
    }
   },
   "outputs": [],
   "source": [
    "# drop small number of missing values\n",
    "hos_df.dropna(inplace=True)"
   ]
  },
  {
   "cell_type": "code",
   "execution_count": 87,
   "metadata": {
    "ExecuteTime": {
     "end_time": "2022-05-17T21:48:07.460942Z",
     "start_time": "2022-05-17T21:48:07.449287Z"
    }
   },
   "outputs": [
    {
     "data": {
      "text/plain": [
       "fips_code                                                      0\n",
       "total_beds_7_day_sum                                           0\n",
       "inpatient_beds_7_day_sum                                       0\n",
       "inpatient_beds_used_7_day_sum                                  0\n",
       "inpatient_beds_used_covid_7_day_sum                            0\n",
       "total_icu_beds_7_day_sum                                       0\n",
       "icu_beds_used_7_day_sum                                        0\n",
       "total_staffed_adult_icu_beds_7_day_sum                         0\n",
       "staffed_icu_adult_patients_confirmed_covid_7_day_sum           0\n",
       "total_adult_patients_hospitalized_confirmed_covid_7_day_sum    0\n",
       "dtype: int64"
      ]
     },
     "execution_count": 87,
     "metadata": {},
     "output_type": "execute_result"
    }
   ],
   "source": [
    "hos_df = hos_df.replace(-999999, 0, regex=True)\n",
    "hos_df.isnull().sum()"
   ]
  },
  {
   "cell_type": "code",
   "execution_count": 88,
   "metadata": {
    "ExecuteTime": {
     "end_time": "2022-05-17T21:48:15.023401Z",
     "start_time": "2022-05-17T21:48:15.011256Z"
    }
   },
   "outputs": [],
   "source": [
    "#Group hospitals by FIPS code\n",
    "\n",
    "hos_df = hos_df.groupby(by=hos_df['fips_code'])[\n",
    "         'total_beds_7_day_sum',\n",
    "         'inpatient_beds_used_7_day_sum',\n",
    "         'inpatient_beds_used_covid_7_day_sum',\n",
    "         'inpatient_beds_7_day_sum', \n",
    "         'total_icu_beds_7_day_sum', \n",
    "         'total_staffed_adult_icu_beds_7_day_sum',\n",
    "         'icu_beds_used_7_day_sum',\n",
    "        'staffed_icu_adult_patients_confirmed_covid_7_day_sum',\n",
    "    'total_adult_patients_hospitalized_confirmed_covid_7_day_sum'].sum().astype('int64')\n",
    "\n",
    "hos_df.reset_index(inplace=True)"
   ]
  },
  {
   "cell_type": "code",
   "execution_count": 89,
   "metadata": {
    "ExecuteTime": {
     "end_time": "2022-05-17T21:48:19.560126Z",
     "start_time": "2022-05-17T21:48:19.554472Z"
    }
   },
   "outputs": [],
   "source": [
    "# fills '0' result percentage calculations with 0\n",
    "hos_df = hos_df.fillna(0.0)"
   ]
  },
  {
   "cell_type": "code",
   "execution_count": 90,
   "metadata": {
    "ExecuteTime": {
     "end_time": "2022-05-17T21:48:20.188577Z",
     "start_time": "2022-05-17T21:48:20.184345Z"
    }
   },
   "outputs": [],
   "source": [
    "#rename fips columns for future merging\n",
    "hos_df.rename(columns={'fips_code':'county_fips_code'}, inplace=True)"
   ]
  },
  {
   "cell_type": "code",
   "execution_count": 91,
   "metadata": {
    "ExecuteTime": {
     "end_time": "2022-05-17T21:48:20.816924Z",
     "start_time": "2022-05-17T21:48:20.813919Z"
    }
   },
   "outputs": [],
   "source": [
    "# #save data as csv\n",
    "# hos_df.to_csv('./data/hospital-impact-and-capacity.csv')"
   ]
  },
  {
   "cell_type": "markdown",
   "metadata": {},
   "source": [
    "### Re-import hospital data for merging"
   ]
  },
  {
   "cell_type": "code",
   "execution_count": 92,
   "metadata": {
    "ExecuteTime": {
     "end_time": "2022-05-17T21:48:23.787187Z",
     "start_time": "2022-05-17T21:48:23.783877Z"
    }
   },
   "outputs": [],
   "source": [
    "hospital_capacity = hos_df\n",
    "\n",
    "# hospital_capacity = pd.read_csv('./data/hospital-impact-and-capacity.csv', dtype={'county_fips_code':str})\n",
    "# hospital_capacity.drop(columns=['Unnamed: 0'], inplace=True)"
   ]
  },
  {
   "cell_type": "code",
   "execution_count": 93,
   "metadata": {
    "ExecuteTime": {
     "end_time": "2022-05-17T21:48:24.217151Z",
     "start_time": "2022-05-17T21:48:24.209384Z"
    }
   },
   "outputs": [],
   "source": [
    "#fixing fips codes\n",
    "fixed_list = []\n",
    "for fips_code in list(hospital_capacity['county_fips_code']):\n",
    "    if len(str(fips_code)) == 4:\n",
    "        fixed_list.append('0' + str(fips_code))\n",
    "    else:\n",
    "        fixed_list.append(str(fips_code))\n",
    "        \n",
    "hospital_capacity['county_fips_code'] = fixed_list"
   ]
  },
  {
   "cell_type": "code",
   "execution_count": 94,
   "metadata": {
    "ExecuteTime": {
     "end_time": "2022-05-17T21:48:25.305571Z",
     "start_time": "2022-05-17T21:48:25.292141Z"
    }
   },
   "outputs": [
    {
     "data": {
      "text/html": [
       "<div>\n",
       "<style scoped>\n",
       "    .dataframe tbody tr th:only-of-type {\n",
       "        vertical-align: middle;\n",
       "    }\n",
       "\n",
       "    .dataframe tbody tr th {\n",
       "        vertical-align: top;\n",
       "    }\n",
       "\n",
       "    .dataframe thead th {\n",
       "        text-align: right;\n",
       "    }\n",
       "</style>\n",
       "<table border=\"1\" class=\"dataframe\">\n",
       "  <thead>\n",
       "    <tr style=\"text-align: right;\">\n",
       "      <th></th>\n",
       "      <th>county_fips_code</th>\n",
       "      <th>total_beds_7_day_sum</th>\n",
       "      <th>inpatient_beds_used_7_day_sum</th>\n",
       "      <th>inpatient_beds_used_covid_7_day_sum</th>\n",
       "      <th>inpatient_beds_7_day_sum</th>\n",
       "      <th>total_icu_beds_7_day_sum</th>\n",
       "      <th>total_staffed_adult_icu_beds_7_day_sum</th>\n",
       "      <th>icu_beds_used_7_day_sum</th>\n",
       "      <th>staffed_icu_adult_patients_confirmed_covid_7_day_sum</th>\n",
       "      <th>total_adult_patients_hospitalized_confirmed_covid_7_day_sum</th>\n",
       "    </tr>\n",
       "  </thead>\n",
       "  <tbody>\n",
       "    <tr>\n",
       "      <th>0</th>\n",
       "      <td>01001</td>\n",
       "      <td>763</td>\n",
       "      <td>509</td>\n",
       "      <td>136</td>\n",
       "      <td>623</td>\n",
       "      <td>42</td>\n",
       "      <td>42</td>\n",
       "      <td>55</td>\n",
       "      <td>10</td>\n",
       "      <td>128</td>\n",
       "    </tr>\n",
       "    <tr>\n",
       "      <th>1</th>\n",
       "      <td>01003</td>\n",
       "      <td>3051</td>\n",
       "      <td>2017</td>\n",
       "      <td>237</td>\n",
       "      <td>2624</td>\n",
       "      <td>225</td>\n",
       "      <td>225</td>\n",
       "      <td>208</td>\n",
       "      <td>32</td>\n",
       "      <td>233</td>\n",
       "    </tr>\n",
       "    <tr>\n",
       "      <th>2</th>\n",
       "      <td>01005</td>\n",
       "      <td>349</td>\n",
       "      <td>180</td>\n",
       "      <td>13</td>\n",
       "      <td>300</td>\n",
       "      <td>35</td>\n",
       "      <td>35</td>\n",
       "      <td>26</td>\n",
       "      <td>0</td>\n",
       "      <td>13</td>\n",
       "    </tr>\n",
       "    <tr>\n",
       "      <th>3</th>\n",
       "      <td>01007</td>\n",
       "      <td>238</td>\n",
       "      <td>89</td>\n",
       "      <td>10</td>\n",
       "      <td>210</td>\n",
       "      <td>0</td>\n",
       "      <td>0</td>\n",
       "      <td>0</td>\n",
       "      <td>0</td>\n",
       "      <td>10</td>\n",
       "    </tr>\n",
       "    <tr>\n",
       "      <th>4</th>\n",
       "      <td>01009</td>\n",
       "      <td>392</td>\n",
       "      <td>128</td>\n",
       "      <td>13</td>\n",
       "      <td>322</td>\n",
       "      <td>42</td>\n",
       "      <td>42</td>\n",
       "      <td>24</td>\n",
       "      <td>0</td>\n",
       "      <td>21</td>\n",
       "    </tr>\n",
       "  </tbody>\n",
       "</table>\n",
       "</div>"
      ],
      "text/plain": [
       "  county_fips_code  total_beds_7_day_sum  inpatient_beds_used_7_day_sum  \\\n",
       "0            01001                   763                            509   \n",
       "1            01003                  3051                           2017   \n",
       "2            01005                   349                            180   \n",
       "3            01007                   238                             89   \n",
       "4            01009                   392                            128   \n",
       "\n",
       "   inpatient_beds_used_covid_7_day_sum  inpatient_beds_7_day_sum  \\\n",
       "0                                  136                       623   \n",
       "1                                  237                      2624   \n",
       "2                                   13                       300   \n",
       "3                                   10                       210   \n",
       "4                                   13                       322   \n",
       "\n",
       "   total_icu_beds_7_day_sum  total_staffed_adult_icu_beds_7_day_sum  \\\n",
       "0                        42                                      42   \n",
       "1                       225                                     225   \n",
       "2                        35                                      35   \n",
       "3                         0                                       0   \n",
       "4                        42                                      42   \n",
       "\n",
       "   icu_beds_used_7_day_sum  \\\n",
       "0                       55   \n",
       "1                      208   \n",
       "2                       26   \n",
       "3                        0   \n",
       "4                       24   \n",
       "\n",
       "   staffed_icu_adult_patients_confirmed_covid_7_day_sum  \\\n",
       "0                                                 10      \n",
       "1                                                 32      \n",
       "2                                                  0      \n",
       "3                                                  0      \n",
       "4                                                  0      \n",
       "\n",
       "   total_adult_patients_hospitalized_confirmed_covid_7_day_sum  \n",
       "0                                                128            \n",
       "1                                                233            \n",
       "2                                                 13            \n",
       "3                                                 10            \n",
       "4                                                 21            "
      ]
     },
     "execution_count": 94,
     "metadata": {},
     "output_type": "execute_result"
    }
   ],
   "source": [
    "hospital_capacity.head()"
   ]
  },
  {
   "cell_type": "code",
   "execution_count": 95,
   "metadata": {
    "ExecuteTime": {
     "end_time": "2022-05-17T21:48:25.805816Z",
     "start_time": "2022-05-17T21:48:25.790942Z"
    }
   },
   "outputs": [],
   "source": [
    "county_cases = county_cases.merge(hospital_capacity, on='county_fips_code', how='left')"
   ]
  },
  {
   "cell_type": "code",
   "execution_count": 96,
   "metadata": {
    "ExecuteTime": {
     "end_time": "2022-05-17T21:48:26.445955Z",
     "start_time": "2022-05-17T21:48:26.439913Z"
    }
   },
   "outputs": [
    {
     "data": {
      "text/plain": [
       "(3133, 42)"
      ]
     },
     "execution_count": 96,
     "metadata": {},
     "output_type": "execute_result"
    }
   ],
   "source": [
    "county_cases.shape"
   ]
  },
  {
   "cell_type": "markdown",
   "metadata": {},
   "source": [
    "### Cleaning vaccine data"
   ]
  },
  {
   "cell_type": "code",
   "execution_count": 98,
   "metadata": {
    "ExecuteTime": {
     "end_time": "2022-05-17T21:53:05.500738Z",
     "start_time": "2022-05-17T21:52:55.185610Z"
    }
   },
   "outputs": [],
   "source": [
    "#import vaccine data\n",
    "vac_df = pd.read_csv('./data/COVID-19_Vaccinations_in_the_United_States_County.csv')"
   ]
  },
  {
   "cell_type": "code",
   "execution_count": 99,
   "metadata": {
    "ExecuteTime": {
     "end_time": "2022-05-17T21:53:05.771969Z",
     "start_time": "2022-05-17T21:53:05.503933Z"
    }
   },
   "outputs": [],
   "source": [
    "# selecting the most recent data\n",
    "vac_df = vac_df[vac_df['Date'] == '01/18/2022']"
   ]
  },
  {
   "cell_type": "code",
   "execution_count": 100,
   "metadata": {
    "ExecuteTime": {
     "end_time": "2022-05-17T21:53:05.783480Z",
     "start_time": "2022-05-17T21:53:05.774772Z"
    }
   },
   "outputs": [],
   "source": [
    "# selecting columns for analysis\n",
    "vac_df = vac_df[['FIPS','Completeness_pct','SVI_CTGY']]"
   ]
  },
  {
   "cell_type": "code",
   "execution_count": 101,
   "metadata": {
    "ExecuteTime": {
     "end_time": "2022-05-17T21:53:05.797958Z",
     "start_time": "2022-05-17T21:53:05.787317Z"
    }
   },
   "outputs": [
    {
     "data": {
      "text/plain": [
       "FIPS                 0\n",
       "Completeness_pct     0\n",
       "SVI_CTGY            64\n",
       "dtype: int64"
      ]
     },
     "execution_count": 101,
     "metadata": {},
     "output_type": "execute_result"
    }
   ],
   "source": [
    "vac_df.isnull().sum()"
   ]
  },
  {
   "cell_type": "code",
   "execution_count": 102,
   "metadata": {
    "ExecuteTime": {
     "end_time": "2022-05-17T21:53:05.821344Z",
     "start_time": "2022-05-17T21:53:05.801008Z"
    }
   },
   "outputs": [],
   "source": [
    "# drop all rows that don't have a SVI category in order to dummify it\n",
    "vac_df.dropna(inplace=True)\n",
    "\n",
    "vac_df = pd.get_dummies(vac_df, columns = ['SVI_CTGY'], prefix = 'SVI_')"
   ]
  },
  {
   "cell_type": "code",
   "execution_count": 103,
   "metadata": {
    "ExecuteTime": {
     "end_time": "2022-05-17T21:53:05.831819Z",
     "start_time": "2022-05-17T21:53:05.824589Z"
    }
   },
   "outputs": [],
   "source": [
    "#rename FIPS column for merging purposes\n",
    "vac_df.rename(columns={'FIPS':'county_fips_code'}, inplace=True)"
   ]
  },
  {
   "cell_type": "code",
   "execution_count": 104,
   "metadata": {
    "ExecuteTime": {
     "end_time": "2022-05-17T21:53:05.849103Z",
     "start_time": "2022-05-17T21:53:05.834479Z"
    }
   },
   "outputs": [],
   "source": [
    "# Renaming completness_pct\n",
    "vac_df.rename(columns={'Completeness_pct':'county_vac_pct'}, inplace=True)"
   ]
  },
  {
   "cell_type": "code",
   "execution_count": 105,
   "metadata": {
    "ExecuteTime": {
     "end_time": "2022-05-17T21:53:05.875449Z",
     "start_time": "2022-05-17T21:53:05.861222Z"
    }
   },
   "outputs": [],
   "source": [
    "#Sort by fips code and reset index\n",
    "vac_df = vac_df.sort_values(by='county_fips_code')\n",
    "vac_df.reset_index(inplace=True, drop=True)"
   ]
  },
  {
   "cell_type": "code",
   "execution_count": 106,
   "metadata": {
    "ExecuteTime": {
     "end_time": "2022-05-17T21:53:05.885999Z",
     "start_time": "2022-05-17T21:53:05.879590Z"
    }
   },
   "outputs": [],
   "source": [
    "# vac_df.to_csv('./data/county-amount-vac-and-svi.csv')"
   ]
  },
  {
   "cell_type": "markdown",
   "metadata": {},
   "source": [
    "### Re-importing the vaccine data for merging"
   ]
  },
  {
   "cell_type": "code",
   "execution_count": 107,
   "metadata": {
    "ExecuteTime": {
     "end_time": "2022-05-17T21:53:08.338264Z",
     "start_time": "2022-05-17T21:53:08.332274Z"
    }
   },
   "outputs": [],
   "source": [
    "vax = vac_df\n",
    "# vax = pd.read_csv('./data/county-amount-vac-and-svi.csv', dtype={'county_fips_code':str})\n",
    "# vax.drop(columns=['Unnamed: 0'], inplace = True)"
   ]
  },
  {
   "cell_type": "code",
   "execution_count": 108,
   "metadata": {
    "ExecuteTime": {
     "end_time": "2022-05-17T21:53:09.218765Z",
     "start_time": "2022-05-17T21:53:09.210541Z"
    }
   },
   "outputs": [],
   "source": [
    "#fixing fips codes\n",
    "fixed_list = []\n",
    "for fips_code in list(vax['county_fips_code']):\n",
    "    if len(str(fips_code)) == 4:\n",
    "        fixed_list.append('0' + str(fips_code))\n",
    "    else:\n",
    "        fixed_list.append(str(fips_code))\n",
    "        \n",
    "vax['county_fips_code'] = fixed_list"
   ]
  },
  {
   "cell_type": "code",
   "execution_count": 109,
   "metadata": {
    "ExecuteTime": {
     "end_time": "2022-05-17T21:53:09.949232Z",
     "start_time": "2022-05-17T21:53:09.909135Z"
    },
    "scrolled": true
   },
   "outputs": [
    {
     "data": {
      "text/html": [
       "<div>\n",
       "<style scoped>\n",
       "    .dataframe tbody tr th:only-of-type {\n",
       "        vertical-align: middle;\n",
       "    }\n",
       "\n",
       "    .dataframe tbody tr th {\n",
       "        vertical-align: top;\n",
       "    }\n",
       "\n",
       "    .dataframe thead th {\n",
       "        text-align: right;\n",
       "    }\n",
       "</style>\n",
       "<table border=\"1\" class=\"dataframe\">\n",
       "  <thead>\n",
       "    <tr style=\"text-align: right;\">\n",
       "      <th></th>\n",
       "      <th>county_fips_code</th>\n",
       "      <th>county_vac_pct</th>\n",
       "      <th>SVI__A</th>\n",
       "      <th>SVI__B</th>\n",
       "      <th>SVI__C</th>\n",
       "      <th>SVI__D</th>\n",
       "    </tr>\n",
       "  </thead>\n",
       "  <tbody>\n",
       "    <tr>\n",
       "      <th>0</th>\n",
       "      <td>01001</td>\n",
       "      <td>92.8</td>\n",
       "      <td>0</td>\n",
       "      <td>1</td>\n",
       "      <td>0</td>\n",
       "      <td>0</td>\n",
       "    </tr>\n",
       "    <tr>\n",
       "      <th>1</th>\n",
       "      <td>01003</td>\n",
       "      <td>92.8</td>\n",
       "      <td>1</td>\n",
       "      <td>0</td>\n",
       "      <td>0</td>\n",
       "      <td>0</td>\n",
       "    </tr>\n",
       "    <tr>\n",
       "      <th>2</th>\n",
       "      <td>01005</td>\n",
       "      <td>92.8</td>\n",
       "      <td>0</td>\n",
       "      <td>0</td>\n",
       "      <td>0</td>\n",
       "      <td>1</td>\n",
       "    </tr>\n",
       "    <tr>\n",
       "      <th>3</th>\n",
       "      <td>01007</td>\n",
       "      <td>92.8</td>\n",
       "      <td>0</td>\n",
       "      <td>0</td>\n",
       "      <td>1</td>\n",
       "      <td>0</td>\n",
       "    </tr>\n",
       "    <tr>\n",
       "      <th>4</th>\n",
       "      <td>01009</td>\n",
       "      <td>92.8</td>\n",
       "      <td>0</td>\n",
       "      <td>1</td>\n",
       "      <td>0</td>\n",
       "      <td>0</td>\n",
       "    </tr>\n",
       "  </tbody>\n",
       "</table>\n",
       "</div>"
      ],
      "text/plain": [
       "  county_fips_code  county_vac_pct  SVI__A  SVI__B  SVI__C  SVI__D\n",
       "0            01001            92.8       0       1       0       0\n",
       "1            01003            92.8       1       0       0       0\n",
       "2            01005            92.8       0       0       0       1\n",
       "3            01007            92.8       0       0       1       0\n",
       "4            01009            92.8       0       1       0       0"
      ]
     },
     "execution_count": 109,
     "metadata": {},
     "output_type": "execute_result"
    }
   ],
   "source": [
    "vax.head()"
   ]
  },
  {
   "cell_type": "code",
   "execution_count": 110,
   "metadata": {
    "ExecuteTime": {
     "end_time": "2022-05-17T21:53:10.835910Z",
     "start_time": "2022-05-17T21:53:10.807645Z"
    }
   },
   "outputs": [],
   "source": [
    "county_cases = county_cases.merge(vax, on='county_fips_code', how='left')"
   ]
  },
  {
   "cell_type": "markdown",
   "metadata": {},
   "source": [
    "### Importing and cleaning county demographic data"
   ]
  },
  {
   "cell_type": "code",
   "execution_count": 111,
   "metadata": {
    "ExecuteTime": {
     "end_time": "2022-05-17T21:53:18.089535Z",
     "start_time": "2022-05-17T21:53:14.610091Z"
    }
   },
   "outputs": [],
   "source": [
    "# reads in dataset for county ethnicity\n",
    "character_df = pd.read_csv('./data/cc-est2019-alldata.csv', dtype={'STATE':str, 'COUNTY':str},\n",
    "                           encoding = \"ISO-8859-1\")\n",
    "\n",
    "# Converts dataframe columns to snake case\n",
    "character_df.columns = character_df.columns.str.replace(' ', '_').str.lower()\n",
    "# trying to drop index column \n",
    "character_df.reset_index(inplace=True)"
   ]
  },
  {
   "cell_type": "code",
   "execution_count": 112,
   "metadata": {
    "ExecuteTime": {
     "end_time": "2022-05-17T21:53:18.180039Z",
     "start_time": "2022-05-17T21:53:18.092037Z"
    }
   },
   "outputs": [
    {
     "data": {
      "text/html": [
       "<div>\n",
       "<style scoped>\n",
       "    .dataframe tbody tr th:only-of-type {\n",
       "        vertical-align: middle;\n",
       "    }\n",
       "\n",
       "    .dataframe tbody tr th {\n",
       "        vertical-align: top;\n",
       "    }\n",
       "\n",
       "    .dataframe thead th {\n",
       "        text-align: right;\n",
       "    }\n",
       "</style>\n",
       "<table border=\"1\" class=\"dataframe\">\n",
       "  <thead>\n",
       "    <tr style=\"text-align: right;\">\n",
       "      <th></th>\n",
       "      <th>index</th>\n",
       "      <th>sumlev</th>\n",
       "      <th>state</th>\n",
       "      <th>county</th>\n",
       "      <th>stname</th>\n",
       "      <th>ctyname</th>\n",
       "      <th>year</th>\n",
       "      <th>agegrp</th>\n",
       "      <th>tot_pop</th>\n",
       "      <th>tot_male</th>\n",
       "      <th>...</th>\n",
       "      <th>hwac_female</th>\n",
       "      <th>hbac_male</th>\n",
       "      <th>hbac_female</th>\n",
       "      <th>hiac_male</th>\n",
       "      <th>hiac_female</th>\n",
       "      <th>haac_male</th>\n",
       "      <th>haac_female</th>\n",
       "      <th>hnac_male</th>\n",
       "      <th>hnac_female</th>\n",
       "      <th>county_fips_code</th>\n",
       "    </tr>\n",
       "  </thead>\n",
       "  <tbody>\n",
       "    <tr>\n",
       "      <th>0</th>\n",
       "      <td>0</td>\n",
       "      <td>50</td>\n",
       "      <td>01</td>\n",
       "      <td>001</td>\n",
       "      <td>Alabama</td>\n",
       "      <td>Autauga County</td>\n",
       "      <td>1</td>\n",
       "      <td>0</td>\n",
       "      <td>54571</td>\n",
       "      <td>26569</td>\n",
       "      <td>...</td>\n",
       "      <td>538</td>\n",
       "      <td>57</td>\n",
       "      <td>48</td>\n",
       "      <td>26</td>\n",
       "      <td>32</td>\n",
       "      <td>9</td>\n",
       "      <td>11</td>\n",
       "      <td>19</td>\n",
       "      <td>10</td>\n",
       "      <td>01001</td>\n",
       "    </tr>\n",
       "    <tr>\n",
       "      <th>1</th>\n",
       "      <td>1</td>\n",
       "      <td>50</td>\n",
       "      <td>01</td>\n",
       "      <td>001</td>\n",
       "      <td>Alabama</td>\n",
       "      <td>Autauga County</td>\n",
       "      <td>1</td>\n",
       "      <td>1</td>\n",
       "      <td>3579</td>\n",
       "      <td>1866</td>\n",
       "      <td>...</td>\n",
       "      <td>56</td>\n",
       "      <td>9</td>\n",
       "      <td>5</td>\n",
       "      <td>4</td>\n",
       "      <td>1</td>\n",
       "      <td>0</td>\n",
       "      <td>0</td>\n",
       "      <td>2</td>\n",
       "      <td>1</td>\n",
       "      <td>01001</td>\n",
       "    </tr>\n",
       "    <tr>\n",
       "      <th>2</th>\n",
       "      <td>2</td>\n",
       "      <td>50</td>\n",
       "      <td>01</td>\n",
       "      <td>001</td>\n",
       "      <td>Alabama</td>\n",
       "      <td>Autauga County</td>\n",
       "      <td>1</td>\n",
       "      <td>2</td>\n",
       "      <td>3991</td>\n",
       "      <td>2001</td>\n",
       "      <td>...</td>\n",
       "      <td>66</td>\n",
       "      <td>2</td>\n",
       "      <td>3</td>\n",
       "      <td>2</td>\n",
       "      <td>7</td>\n",
       "      <td>2</td>\n",
       "      <td>3</td>\n",
       "      <td>2</td>\n",
       "      <td>0</td>\n",
       "      <td>01001</td>\n",
       "    </tr>\n",
       "    <tr>\n",
       "      <th>3</th>\n",
       "      <td>3</td>\n",
       "      <td>50</td>\n",
       "      <td>01</td>\n",
       "      <td>001</td>\n",
       "      <td>Alabama</td>\n",
       "      <td>Autauga County</td>\n",
       "      <td>1</td>\n",
       "      <td>3</td>\n",
       "      <td>4290</td>\n",
       "      <td>2171</td>\n",
       "      <td>...</td>\n",
       "      <td>57</td>\n",
       "      <td>13</td>\n",
       "      <td>7</td>\n",
       "      <td>5</td>\n",
       "      <td>5</td>\n",
       "      <td>2</td>\n",
       "      <td>1</td>\n",
       "      <td>1</td>\n",
       "      <td>1</td>\n",
       "      <td>01001</td>\n",
       "    </tr>\n",
       "    <tr>\n",
       "      <th>4</th>\n",
       "      <td>4</td>\n",
       "      <td>50</td>\n",
       "      <td>01</td>\n",
       "      <td>001</td>\n",
       "      <td>Alabama</td>\n",
       "      <td>Autauga County</td>\n",
       "      <td>1</td>\n",
       "      <td>4</td>\n",
       "      <td>4290</td>\n",
       "      <td>2213</td>\n",
       "      <td>...</td>\n",
       "      <td>44</td>\n",
       "      <td>7</td>\n",
       "      <td>5</td>\n",
       "      <td>0</td>\n",
       "      <td>2</td>\n",
       "      <td>2</td>\n",
       "      <td>1</td>\n",
       "      <td>3</td>\n",
       "      <td>1</td>\n",
       "      <td>01001</td>\n",
       "    </tr>\n",
       "  </tbody>\n",
       "</table>\n",
       "<p>5 rows × 82 columns</p>\n",
       "</div>"
      ],
      "text/plain": [
       "   index  sumlev state county   stname         ctyname  year  agegrp  tot_pop  \\\n",
       "0      0      50    01    001  Alabama  Autauga County     1       0    54571   \n",
       "1      1      50    01    001  Alabama  Autauga County     1       1     3579   \n",
       "2      2      50    01    001  Alabama  Autauga County     1       2     3991   \n",
       "3      3      50    01    001  Alabama  Autauga County     1       3     4290   \n",
       "4      4      50    01    001  Alabama  Autauga County     1       4     4290   \n",
       "\n",
       "   tot_male  ...  hwac_female  hbac_male  hbac_female  hiac_male  hiac_female  \\\n",
       "0     26569  ...          538         57           48         26           32   \n",
       "1      1866  ...           56          9            5          4            1   \n",
       "2      2001  ...           66          2            3          2            7   \n",
       "3      2171  ...           57         13            7          5            5   \n",
       "4      2213  ...           44          7            5          0            2   \n",
       "\n",
       "   haac_male  haac_female  hnac_male  hnac_female  county_fips_code  \n",
       "0          9           11         19           10             01001  \n",
       "1          0            0          2            1             01001  \n",
       "2          2            3          2            0             01001  \n",
       "3          2            1          1            1             01001  \n",
       "4          2            1          3            1             01001  \n",
       "\n",
       "[5 rows x 82 columns]"
      ]
     },
     "execution_count": 112,
     "metadata": {},
     "output_type": "execute_result"
    }
   ],
   "source": [
    "# Creating county fips code to match covid deaths dataset\n",
    "character_df['county_fips_code'] = character_df['state'] + character_df['county']\n",
    "character_df.head()"
   ]
  },
  {
   "cell_type": "markdown",
   "metadata": {},
   "source": [
    "The columns agegrop is comprised of 19 different numbers. 0 represents all ages whereas every number after represents four year age gaps. Except for 18 which represents ages 85 years or older. We will only be using rows that are agegrp zeros and year 12 as these rows represent data from all age groups from 2019."
   ]
  },
  {
   "cell_type": "code",
   "execution_count": 113,
   "metadata": {
    "ExecuteTime": {
     "end_time": "2022-05-17T21:53:19.568528Z",
     "start_time": "2022-05-17T21:53:18.182631Z"
    }
   },
   "outputs": [],
   "source": [
    "character_df = character_df[character_df['year'] == 12 ] \n",
    "character_df = character_df[character_df['agegrp'] == 0 ] "
   ]
  },
  {
   "cell_type": "code",
   "execution_count": 114,
   "metadata": {
    "ExecuteTime": {
     "end_time": "2022-05-17T21:53:19.586091Z",
     "start_time": "2022-05-17T21:53:19.572175Z"
    }
   },
   "outputs": [],
   "source": [
    "# List of columns to be used in analysis\n",
    "keep_list = ['tot_male', 'tot_female', 'wa_male', 'wa_female', 'ba_male', 'ba_female',\n",
    "             'ia_male', 'ia_female', 'aa_male', 'aa_female', 'na_male', 'na_female',\n",
    "             'state', 'county', 'stname', 'ctyname', 'tot_pop', 'agegrp', 'county_fips_code']\n",
    "\n",
    "# Makes list of columns to be dropped \n",
    "drop_list = [col for col in character_df if col not in keep_list]\n",
    "# Dropping unnecessary columns \n",
    "character_df.drop(columns= drop_list, inplace=True)"
   ]
  },
  {
   "cell_type": "code",
   "execution_count": 115,
   "metadata": {
    "ExecuteTime": {
     "end_time": "2022-05-17T21:53:19.596009Z",
     "start_time": "2022-05-17T21:53:19.588938Z"
    }
   },
   "outputs": [],
   "source": [
    "# creates columns for total base population of each ethnicity\n",
    "character_df['tot_wa_pop'] = character_df.wa_male + character_df.wa_female\n",
    "character_df['tot_ba_pop'] = character_df.ba_male + character_df.ba_female\n",
    "character_df['tot_ia_pop'] = character_df.ia_male + character_df.ia_female\n",
    "character_df['tot_aa_pop'] = character_df.aa_male + character_df.aa_female\n",
    "character_df['tot_na_pop'] = character_df.na_male + character_df.na_female"
   ]
  },
  {
   "cell_type": "code",
   "execution_count": 116,
   "metadata": {
    "ExecuteTime": {
     "end_time": "2022-05-17T21:53:20.291183Z",
     "start_time": "2022-05-17T21:53:20.285639Z"
    }
   },
   "outputs": [],
   "source": [
    "# Creates drop list for male and female eth columns\n",
    "drop_eth_col = [col for col in character_df if col.endswith('male') and not col.startswith('tot')]\n",
    "\n",
    "# Dropping extra eth columns \n",
    "character_df.drop(columns=drop_eth_col, inplace=True)"
   ]
  },
  {
   "cell_type": "code",
   "execution_count": 117,
   "metadata": {
    "ExecuteTime": {
     "end_time": "2022-05-17T21:53:21.183332Z",
     "start_time": "2022-05-17T21:53:21.179490Z"
    }
   },
   "outputs": [],
   "source": [
    "# # Reading in dataframe from COVID-19 CASE SURVEILLANCE notebook \n",
    "# covid_deaths_df = pd.read_csv('data/covid-cases-deaths-per-us-counties.csv',\n",
    "#                               dtype={'county_fips_code':str})\n",
    "# covid_deaths_df.shape"
   ]
  },
  {
   "cell_type": "code",
   "execution_count": 118,
   "metadata": {
    "ExecuteTime": {
     "end_time": "2022-05-17T21:53:22.144009Z",
     "start_time": "2022-05-17T21:53:22.137377Z"
    }
   },
   "outputs": [],
   "source": [
    "# Dropping matching and unneccessary columns \n",
    "character_df.drop(columns=['tot_pop', 'state', 'county', 'stname', 'agegrp', 'ctyname'], inplace=True)"
   ]
  },
  {
   "cell_type": "code",
   "execution_count": 119,
   "metadata": {
    "ExecuteTime": {
     "end_time": "2022-05-17T21:53:23.083364Z",
     "start_time": "2022-05-17T21:53:23.070742Z"
    }
   },
   "outputs": [
    {
     "data": {
      "text/plain": [
       "209        58\n",
       "437       154\n",
       "665        52\n",
       "893        26\n",
       "1121       67\n",
       "         ... \n",
       "715445     69\n",
       "715673     33\n",
       "715901     31\n",
       "716129      6\n",
       "716357      2\n",
       "Name: tot_na_pop, Length: 3142, dtype: int64"
      ]
     },
     "execution_count": 119,
     "metadata": {},
     "output_type": "execute_result"
    }
   ],
   "source": [
    "# Totals all minority groups and creates minority_group_total column\n",
    "character_df['minority_group_total'] = character_df.tot_ba_pop\n",
    "+ character_df.tot_ia_pop\n",
    "+ character_df.tot_aa_pop\n",
    "+ character_df.tot_na_pop"
   ]
  },
  {
   "cell_type": "code",
   "execution_count": 120,
   "metadata": {
    "ExecuteTime": {
     "end_time": "2022-05-17T21:53:24.229598Z",
     "start_time": "2022-05-17T21:53:24.224907Z"
    }
   },
   "outputs": [],
   "source": [
    "# character_df.to_csv('./data/covid_deaths_by_ethnicity.csv')"
   ]
  },
  {
   "cell_type": "markdown",
   "metadata": {},
   "source": [
    "### Re-importing and merging"
   ]
  },
  {
   "cell_type": "code",
   "execution_count": 121,
   "metadata": {
    "ExecuteTime": {
     "end_time": "2022-05-17T21:53:25.436667Z",
     "start_time": "2022-05-17T21:53:25.433237Z"
    }
   },
   "outputs": [],
   "source": [
    "demographics = character_df\n",
    "# demographics = pd.read_csv('./data/covid_deaths_by_ethnicity.csv', dtype={'county_fips_code':str})\n",
    "# demographics.drop(columns=['Unnamed: 0'], inplace=True)\n"
   ]
  },
  {
   "cell_type": "code",
   "execution_count": 122,
   "metadata": {
    "ExecuteTime": {
     "end_time": "2022-05-17T21:53:26.339664Z",
     "start_time": "2022-05-17T21:53:26.333814Z"
    }
   },
   "outputs": [],
   "source": [
    "demographics = demographics[['county_fips_code',\n",
    "                             'tot_male',\n",
    "                             'tot_female',\n",
    "                             'tot_wa_pop',\n",
    "                             'tot_ba_pop',\n",
    "                             'tot_aa_pop',\n",
    "                             'tot_na_pop',\n",
    "                             'minority_group_total']]"
   ]
  },
  {
   "cell_type": "code",
   "execution_count": 123,
   "metadata": {
    "ExecuteTime": {
     "end_time": "2022-05-17T21:53:27.344023Z",
     "start_time": "2022-05-17T21:53:27.324103Z"
    }
   },
   "outputs": [],
   "source": [
    "county_cases = county_cases.merge(demographics, on='county_fips_code', how='left')"
   ]
  },
  {
   "cell_type": "code",
   "execution_count": 124,
   "metadata": {
    "ExecuteTime": {
     "end_time": "2022-05-17T21:53:28.002046Z",
     "start_time": "2022-05-17T21:53:27.979790Z"
    }
   },
   "outputs": [
    {
     "data": {
      "text/html": [
       "<div>\n",
       "<style scoped>\n",
       "    .dataframe tbody tr th:only-of-type {\n",
       "        vertical-align: middle;\n",
       "    }\n",
       "\n",
       "    .dataframe tbody tr th {\n",
       "        vertical-align: top;\n",
       "    }\n",
       "\n",
       "    .dataframe thead th {\n",
       "        text-align: right;\n",
       "    }\n",
       "</style>\n",
       "<table border=\"1\" class=\"dataframe\">\n",
       "  <thead>\n",
       "    <tr style=\"text-align: right;\">\n",
       "      <th></th>\n",
       "      <th>county</th>\n",
       "      <th>county_fips_code</th>\n",
       "      <th>cases</th>\n",
       "      <th>deaths</th>\n",
       "      <th>stname</th>\n",
       "      <th>ctyname</th>\n",
       "      <th>tot_pop</th>\n",
       "      <th>deaths_per_hun_thou</th>\n",
       "      <th>cnty_name</th>\n",
       "      <th>unemployment_rate</th>\n",
       "      <th>...</th>\n",
       "      <th>SVI__B</th>\n",
       "      <th>SVI__C</th>\n",
       "      <th>SVI__D</th>\n",
       "      <th>tot_male</th>\n",
       "      <th>tot_female</th>\n",
       "      <th>tot_wa_pop</th>\n",
       "      <th>tot_ba_pop</th>\n",
       "      <th>tot_aa_pop</th>\n",
       "      <th>tot_na_pop</th>\n",
       "      <th>minority_group_total</th>\n",
       "    </tr>\n",
       "  </thead>\n",
       "  <tbody>\n",
       "    <tr>\n",
       "      <th>0</th>\n",
       "      <td>Autauga</td>\n",
       "      <td>01001</td>\n",
       "      <td>12738</td>\n",
       "      <td>163.0</td>\n",
       "      <td>Alabama</td>\n",
       "      <td>Autauga County</td>\n",
       "      <td>55869.0</td>\n",
       "      <td>291.753924</td>\n",
       "      <td>Autauga County, AL</td>\n",
       "      <td>4.9</td>\n",
       "      <td>...</td>\n",
       "      <td>1.0</td>\n",
       "      <td>0.0</td>\n",
       "      <td>0.0</td>\n",
       "      <td>27092</td>\n",
       "      <td>28777</td>\n",
       "      <td>42607</td>\n",
       "      <td>11237</td>\n",
       "      <td>656</td>\n",
       "      <td>58</td>\n",
       "      <td>11237</td>\n",
       "    </tr>\n",
       "    <tr>\n",
       "      <th>1</th>\n",
       "      <td>Baldwin</td>\n",
       "      <td>01003</td>\n",
       "      <td>47143</td>\n",
       "      <td>605.0</td>\n",
       "      <td>Alabama</td>\n",
       "      <td>Baldwin County</td>\n",
       "      <td>223234.0</td>\n",
       "      <td>271.016064</td>\n",
       "      <td>Baldwin County, AL</td>\n",
       "      <td>5.6</td>\n",
       "      <td>...</td>\n",
       "      <td>0.0</td>\n",
       "      <td>0.0</td>\n",
       "      <td>0.0</td>\n",
       "      <td>108247</td>\n",
       "      <td>114987</td>\n",
       "      <td>195198</td>\n",
       "      <td>19593</td>\n",
       "      <td>2380</td>\n",
       "      <td>154</td>\n",
       "      <td>19593</td>\n",
       "    </tr>\n",
       "    <tr>\n",
       "      <th>2</th>\n",
       "      <td>Barbour</td>\n",
       "      <td>01005</td>\n",
       "      <td>4741</td>\n",
       "      <td>83.0</td>\n",
       "      <td>Alabama</td>\n",
       "      <td>Barbour County</td>\n",
       "      <td>24686.0</td>\n",
       "      <td>336.222960</td>\n",
       "      <td>Barbour County, AL</td>\n",
       "      <td>7.0</td>\n",
       "      <td>...</td>\n",
       "      <td>0.0</td>\n",
       "      <td>0.0</td>\n",
       "      <td>1.0</td>\n",
       "      <td>13064</td>\n",
       "      <td>11622</td>\n",
       "      <td>12134</td>\n",
       "      <td>11906</td>\n",
       "      <td>116</td>\n",
       "      <td>52</td>\n",
       "      <td>11906</td>\n",
       "    </tr>\n",
       "    <tr>\n",
       "      <th>3</th>\n",
       "      <td>Bibb</td>\n",
       "      <td>01007</td>\n",
       "      <td>5385</td>\n",
       "      <td>95.0</td>\n",
       "      <td>Alabama</td>\n",
       "      <td>Bibb County</td>\n",
       "      <td>22394.0</td>\n",
       "      <td>424.220773</td>\n",
       "      <td>Bibb County, AL</td>\n",
       "      <td>6.6</td>\n",
       "      <td>...</td>\n",
       "      <td>0.0</td>\n",
       "      <td>1.0</td>\n",
       "      <td>0.0</td>\n",
       "      <td>11929</td>\n",
       "      <td>10465</td>\n",
       "      <td>17191</td>\n",
       "      <td>4763</td>\n",
       "      <td>48</td>\n",
       "      <td>26</td>\n",
       "      <td>4763</td>\n",
       "    </tr>\n",
       "    <tr>\n",
       "      <th>4</th>\n",
       "      <td>Blount</td>\n",
       "      <td>01009</td>\n",
       "      <td>12648</td>\n",
       "      <td>203.0</td>\n",
       "      <td>Alabama</td>\n",
       "      <td>Blount County</td>\n",
       "      <td>57826.0</td>\n",
       "      <td>351.053159</td>\n",
       "      <td>Blount County, AL</td>\n",
       "      <td>4.1</td>\n",
       "      <td>...</td>\n",
       "      <td>1.0</td>\n",
       "      <td>0.0</td>\n",
       "      <td>0.0</td>\n",
       "      <td>28472</td>\n",
       "      <td>29354</td>\n",
       "      <td>55412</td>\n",
       "      <td>978</td>\n",
       "      <td>185</td>\n",
       "      <td>67</td>\n",
       "      <td>978</td>\n",
       "    </tr>\n",
       "  </tbody>\n",
       "</table>\n",
       "<p>5 rows × 54 columns</p>\n",
       "</div>"
      ],
      "text/plain": [
       "    county county_fips_code  cases  deaths   stname         ctyname   tot_pop  \\\n",
       "0  Autauga            01001  12738   163.0  Alabama  Autauga County   55869.0   \n",
       "1  Baldwin            01003  47143   605.0  Alabama  Baldwin County  223234.0   \n",
       "2  Barbour            01005   4741    83.0  Alabama  Barbour County   24686.0   \n",
       "3     Bibb            01007   5385    95.0  Alabama     Bibb County   22394.0   \n",
       "4   Blount            01009  12648   203.0  Alabama   Blount County   57826.0   \n",
       "\n",
       "   deaths_per_hun_thou           cnty_name  unemployment_rate  ...  SVI__B  \\\n",
       "0           291.753924  Autauga County, AL                4.9  ...     1.0   \n",
       "1           271.016064  Baldwin County, AL                5.6  ...     0.0   \n",
       "2           336.222960  Barbour County, AL                7.0  ...     0.0   \n",
       "3           424.220773     Bibb County, AL                6.6  ...     0.0   \n",
       "4           351.053159   Blount County, AL                4.1  ...     1.0   \n",
       "\n",
       "   SVI__C  SVI__D  tot_male  tot_female  tot_wa_pop tot_ba_pop  tot_aa_pop  \\\n",
       "0     0.0     0.0     27092       28777       42607      11237         656   \n",
       "1     0.0     0.0    108247      114987      195198      19593        2380   \n",
       "2     0.0     1.0     13064       11622       12134      11906         116   \n",
       "3     1.0     0.0     11929       10465       17191       4763          48   \n",
       "4     0.0     0.0     28472       29354       55412        978         185   \n",
       "\n",
       "   tot_na_pop  minority_group_total  \n",
       "0          58                 11237  \n",
       "1         154                 19593  \n",
       "2          52                 11906  \n",
       "3          26                  4763  \n",
       "4          67                   978  \n",
       "\n",
       "[5 rows x 54 columns]"
      ]
     },
     "execution_count": 124,
     "metadata": {},
     "output_type": "execute_result"
    }
   ],
   "source": [
    "county_cases.head()"
   ]
  },
  {
   "cell_type": "code",
   "execution_count": 125,
   "metadata": {
    "ExecuteTime": {
     "end_time": "2022-05-17T21:53:28.674714Z",
     "start_time": "2022-05-17T21:53:28.516312Z"
    }
   },
   "outputs": [],
   "source": [
    "county_cases.to_csv('./data/merged_dataset.csv', index=False)"
   ]
  },
  {
   "cell_type": "code",
   "execution_count": 126,
   "metadata": {
    "ExecuteTime": {
     "end_time": "2022-05-17T21:53:29.535714Z",
     "start_time": "2022-05-17T21:53:29.484653Z"
    }
   },
   "outputs": [
    {
     "data": {
      "text/plain": [
       "county                                                           0\n",
       "county_fips_code                                                 0\n",
       "cases                                                            0\n",
       "deaths                                                           0\n",
       "stname                                                           0\n",
       "ctyname                                                          0\n",
       "tot_pop                                                          0\n",
       "deaths_per_hun_thou                                              0\n",
       "cnty_name                                                        1\n",
       "unemployment_rate                                                1\n",
       "med_cases_per_100k_change                                        0\n",
       "med_per_test_results_positive                                   18\n",
       "transmission_level_high                                          0\n",
       "transmission_level_low                                           0\n",
       "transmission_level_moderate                                      0\n",
       "transmission_level_substantial                                   0\n",
       "state                                                            1\n",
       "InBedsOccAnyPat__Numbeds_Est                                     1\n",
       "InBedsOccCOVID__Numbeds_Est                                      1\n",
       "ICUBedsOccAnyPat__N_ICUBeds_Est                                  1\n",
       "cases_per_10k                                                    0\n",
       "high_transmission                                                0\n",
       "mask_never                                                       0\n",
       "mask_rarely                                                      0\n",
       "mask_sometimes                                                   0\n",
       "mask_frequently                                                  0\n",
       "mask_always                                                      0\n",
       "good_masking_practices                                           0\n",
       "biden_votes                                                     25\n",
       "trump_votes                                                     25\n",
       "total_votes                                                     26\n",
       "land_area_sqmi                                                   0\n",
       "population_density                                               0\n",
       "total_beds_7_day_sum                                           702\n",
       "inpatient_beds_used_7_day_sum                                  702\n",
       "inpatient_beds_used_covid_7_day_sum                            702\n",
       "inpatient_beds_7_day_sum                                       702\n",
       "total_icu_beds_7_day_sum                                       702\n",
       "total_staffed_adult_icu_beds_7_day_sum                         702\n",
       "icu_beds_used_7_day_sum                                        702\n",
       "staffed_icu_adult_patients_confirmed_covid_7_day_sum           702\n",
       "total_adult_patients_hospitalized_confirmed_covid_7_day_sum    702\n",
       "county_vac_pct                                                   1\n",
       "SVI__A                                                           1\n",
       "SVI__B                                                           1\n",
       "SVI__C                                                           1\n",
       "SVI__D                                                           1\n",
       "tot_male                                                         0\n",
       "tot_female                                                       0\n",
       "tot_wa_pop                                                       0\n",
       "tot_ba_pop                                                       0\n",
       "tot_aa_pop                                                       0\n",
       "tot_na_pop                                                       0\n",
       "minority_group_total                                             0\n",
       "dtype: int64"
      ]
     },
     "execution_count": 126,
     "metadata": {},
     "output_type": "execute_result"
    }
   ],
   "source": [
    "pd.read_csv('./data/merged_dataset.csv').isnull().sum()"
   ]
  },
  {
   "cell_type": "code",
   "execution_count": 127,
   "metadata": {
    "ExecuteTime": {
     "end_time": "2022-05-17T21:53:30.734770Z",
     "start_time": "2022-05-17T21:53:30.728938Z"
    }
   },
   "outputs": [
    {
     "data": {
      "text/plain": [
       "(3133, 54)"
      ]
     },
     "execution_count": 127,
     "metadata": {},
     "output_type": "execute_result"
    }
   ],
   "source": [
    "county_cases.shape"
   ]
  }
 ],
 "metadata": {
  "kernelspec": {
   "display_name": "Python 3",
   "language": "python",
   "name": "python3"
  },
  "language_info": {
   "codemirror_mode": {
    "name": "ipython",
    "version": 3
   },
   "file_extension": ".py",
   "mimetype": "text/x-python",
   "name": "python",
   "nbconvert_exporter": "python",
   "pygments_lexer": "ipython3",
   "version": "3.7.4"
  }
 },
 "nbformat": 4,
 "nbformat_minor": 5
}
